{
 "cells": [
  {
   "cell_type": "code",
   "execution_count": 1,
   "metadata": {},
   "outputs": [],
   "source": [
    "import pandas as pd\n",
    "import numpy as np\n",
    "import matplotlib.pyplot as plt\n",
    "from IPython.core.interactiveshell import InteractiveShell\n",
    "InteractiveShell.ast_node_interactivity = \"all\"\n",
    "from Funciones_auxiliares import plot_Bulk\n",
    "%matplotlib widget\n"
   ]
  },
  {
   "cell_type": "markdown",
   "metadata": {},
   "source": [
    "### Importamos los datos, y separamos en Noise,Neuron y Multiunit"
   ]
  },
  {
   "cell_type": "code",
   "execution_count": 2,
   "metadata": {},
   "outputs": [],
   "source": [
    "data = pd.read_pickle('Datos/PCCIBNMZc')\n",
    "#data.drop(columns = 'Bulk',inplace = True)\n",
    "noise = data[data.bNoise == 1]\n",
    "neuron = data[data.bNoise == 0]\n",
    "MU = data[data.bNoise == 2]"
   ]
  },
  {
   "cell_type": "code",
   "execution_count": 3,
   "metadata": {},
   "outputs": [
    {
     "data": {
      "text/plain": [
       "Index(['PatientExperiment', 'Channel', 'Cluster', 'ISI', 'Bulk', 'bNoise',\n",
       "       'Mean', 'ZeroCrossings'],\n",
       "      dtype='object')"
      ]
     },
     "execution_count": 3,
     "metadata": {},
     "output_type": "execute_result"
    }
   ],
   "source": [
    "data.columns"
   ]
  },
  {
   "cell_type": "code",
   "execution_count": 4,
   "metadata": {},
   "outputs": [
    {
     "name": "stdout",
     "output_type": "stream",
     "text": [
      "1050\n",
      "316\n",
      "204\n"
     ]
    }
   ],
   "source": [
    "print(len(noise))\n",
    "print(len(neuron))\n",
    "print(len(MU))"
   ]
  },
  {
   "cell_type": "markdown",
   "metadata": {},
   "source": [
    "### Ejemplo de la media"
   ]
  },
  {
   "cell_type": "code",
   "execution_count": 5,
   "metadata": {},
   "outputs": [
    {
     "data": {
      "application/vnd.jupyter.widget-view+json": {
       "model_id": "6f28c19802dc4889b30f31be89951165",
       "version_major": 2,
       "version_minor": 0
      },
      "text/plain": [
       "Canvas(toolbar=Toolbar(toolitems=[('Home', 'Reset original view', 'home', 'home'), ('Back', 'Back to previous …"
      ]
     },
     "metadata": {},
     "output_type": "display_data"
    },
    {
     "data": {
      "text/plain": [
       "[<matplotlib.lines.Line2D at 0x7f396fddbad0>]"
      ]
     },
     "execution_count": 5,
     "metadata": {},
     "output_type": "execute_result"
    },
    {
     "data": {
      "text/plain": [
       "<matplotlib.collections.LineCollection at 0x7f396fc8b350>"
      ]
     },
     "execution_count": 5,
     "metadata": {},
     "output_type": "execute_result"
    }
   ],
   "source": [
    "fig = plt.figure()\n",
    "ax = fig.subplots(1)\n",
    "x = neuron.Mean.iloc[10]\n",
    "ax.plot(np.arange(len(x)),x)\n",
    "plt.vlines(x = 19,ymin = -120,ymax = 20)"
   ]
  },
  {
   "cell_type": "markdown",
   "metadata": {},
   "source": [
    "### Puede verse que el pico de cada spike se encuentra en el elemento 20 (i = 19)"
   ]
  },
  {
   "cell_type": "code",
   "execution_count": 6,
   "metadata": {},
   "outputs": [],
   "source": [
    "data['Amplitude'] = data.Mean.apply(lambda row: row[19])"
   ]
  },
  {
   "cell_type": "code",
   "execution_count": 8,
   "metadata": {},
   "outputs": [
    {
     "data": {
      "application/vnd.jupyter.widget-view+json": {
       "model_id": "f8ed2d1301a74d7b8bfa1cba297192dd",
       "version_major": 2,
       "version_minor": 0
      },
      "text/plain": [
       "Canvas(toolbar=Toolbar(toolitems=[('Home', 'Reset original view', 'home', 'home'), ('Back', 'Back to previous …"
      ]
     },
     "metadata": {},
     "output_type": "display_data"
    },
    {
     "data": {
      "text/plain": [
       "<matplotlib.axes._subplots.AxesSubplot at 0x7f396e279050>"
      ]
     },
     "execution_count": 8,
     "metadata": {},
     "output_type": "execute_result"
    },
    {
     "data": {
      "text/plain": [
       "<matplotlib.legend.Legend at 0x7f396e1dadd0>"
      ]
     },
     "execution_count": 8,
     "metadata": {},
     "output_type": "execute_result"
    },
    {
     "data": {
      "text/plain": [
       "<matplotlib.axes._subplots.AxesSubplot at 0x7f396e200050>"
      ]
     },
     "execution_count": 8,
     "metadata": {},
     "output_type": "execute_result"
    },
    {
     "data": {
      "text/plain": [
       "<matplotlib.legend.Legend at 0x7f39714d1990>"
      ]
     },
     "execution_count": 8,
     "metadata": {},
     "output_type": "execute_result"
    },
    {
     "data": {
      "text/plain": [
       "<matplotlib.axes._subplots.AxesSubplot at 0x7f396e1b4310>"
      ]
     },
     "execution_count": 8,
     "metadata": {},
     "output_type": "execute_result"
    },
    {
     "data": {
      "text/plain": [
       "<matplotlib.legend.Legend at 0x7f396e279bd0>"
      ]
     },
     "execution_count": 8,
     "metadata": {},
     "output_type": "execute_result"
    },
    {
     "data": {
      "text/plain": [
       "(0, 0.04)"
      ]
     },
     "execution_count": 8,
     "metadata": {},
     "output_type": "execute_result"
    },
    {
     "data": {
      "text/plain": [
       "<matplotlib.legend.Legend at 0x7f396df25b90>"
      ]
     },
     "execution_count": 8,
     "metadata": {},
     "output_type": "execute_result"
    },
    {
     "data": {
      "text/plain": [
       "Text(0.5, 1.0, 'Amplitude')"
      ]
     },
     "execution_count": 8,
     "metadata": {},
     "output_type": "execute_result"
    }
   ],
   "source": [
    "fig = plt.figure(figsize = (15,10))\n",
    "ax = fig.subplots(1,3)\n",
    "data.Amplitude[data.bNoise == 1].hist(bins = 100,density = True,ax = ax[0])\n",
    "plt.legend(['Noise'])\n",
    "\n",
    "data.Amplitude[data.bNoise == 0].hist(bins = 100,density = True,ax = ax[1])\n",
    "plt.legend(['Neuron'])\n",
    "\n",
    "data.Amplitude[data.bNoise == 2].hist(bins = 100,density = True,ax = ax[2])\n",
    "plt.legend(['MU'])\n",
    "\n",
    "plt.ylim(0,0.04)\n",
    "plt.legend(['Noise','Neuron','MU'])\n",
    "plt.title('Amplitude')"
   ]
  },
  {
   "cell_type": "markdown",
   "metadata": {},
   "source": [
    "Amplitude peak to peak"
   ]
  },
  {
   "cell_type": "code",
   "execution_count": 9,
   "metadata": {},
   "outputs": [],
   "source": [
    "data['Amplitude_peaktopeak'] = data.Mean.apply(lambda row: np.max(row) - np.min(row))"
   ]
  },
  {
   "cell_type": "code",
   "execution_count": 10,
   "metadata": {},
   "outputs": [
    {
     "data": {
      "application/vnd.jupyter.widget-view+json": {
       "model_id": "ac433d3e544445be970021a76801113e",
       "version_major": 2,
       "version_minor": 0
      },
      "text/plain": [
       "Canvas(toolbar=Toolbar(toolitems=[('Home', 'Reset original view', 'home', 'home'), ('Back', 'Back to previous …"
      ]
     },
     "metadata": {},
     "output_type": "display_data"
    },
    {
     "data": {
      "text/plain": [
       "<Figure size 1000x1000 with 0 Axes>"
      ]
     },
     "execution_count": 10,
     "metadata": {},
     "output_type": "execute_result"
    },
    {
     "data": {
      "text/plain": [
       "<matplotlib.axes._subplots.AxesSubplot at 0x7f1ddb38a950>"
      ]
     },
     "execution_count": 10,
     "metadata": {},
     "output_type": "execute_result"
    },
    {
     "data": {
      "text/plain": [
       "(0, 0.04)"
      ]
     },
     "execution_count": 10,
     "metadata": {},
     "output_type": "execute_result"
    },
    {
     "data": {
      "text/plain": [
       "<matplotlib.legend.Legend at 0x7f1ddb377150>"
      ]
     },
     "execution_count": 10,
     "metadata": {},
     "output_type": "execute_result"
    },
    {
     "data": {
      "text/plain": [
       "Text(0.5, 1.0, 'Amplitude peak to peak')"
      ]
     },
     "execution_count": 10,
     "metadata": {},
     "output_type": "execute_result"
    }
   ],
   "source": [
    "plt.figure(figsize = (10,10))\n",
    "#data[data.bNoise == 1].Amplitude_peaktopeak.hist(bins = 100,density = True,align = \"left\")\n",
    "data[data.bNoise == 0].Amplitude_peaktopeak.hist(bins = 100,density = True,align = \"right\")\n",
    "#data[data.bNoise == 2].Amplitude_peaktopeak.hist(bins = 100,density = True)\n",
    "plt.ylim(0,0.04)\n",
    "plt.legend(['Noise','Neuron','MU'])\n",
    "plt.title('Amplitude peak to peak')"
   ]
  },
  {
   "cell_type": "code",
   "execution_count": 121,
   "metadata": {},
   "outputs": [
    {
     "data": {
      "text/html": [
       "<div>\n",
       "<style scoped>\n",
       "    .dataframe tbody tr th:only-of-type {\n",
       "        vertical-align: middle;\n",
       "    }\n",
       "\n",
       "    .dataframe tbody tr th {\n",
       "        vertical-align: top;\n",
       "    }\n",
       "\n",
       "    .dataframe thead th {\n",
       "        text-align: right;\n",
       "    }\n",
       "</style>\n",
       "<table border=\"1\" class=\"dataframe\">\n",
       "  <thead>\n",
       "    <tr style=\"text-align: right;\">\n",
       "      <th></th>\n",
       "      <th>PatientExperiment</th>\n",
       "      <th>Channel</th>\n",
       "      <th>Cluster</th>\n",
       "      <th>ISI</th>\n",
       "      <th>Bulk</th>\n",
       "      <th>bNoise</th>\n",
       "      <th>Mean</th>\n",
       "      <th>ZeroCrossings</th>\n",
       "      <th>Amplitude</th>\n",
       "      <th>Amplitude_peaktopeak</th>\n",
       "    </tr>\n",
       "  </thead>\n",
       "  <tbody>\n",
       "    <tr>\n",
       "      <th>450</th>\n",
       "      <td>HEC017\\017context1\\017context1_prescr</td>\n",
       "      <td>107</td>\n",
       "      <td>1</td>\n",
       "      <td>[0, 16, 32, 27, 11, 19, 34, 24, 18, 23, 24, 20...</td>\n",
       "      <td>[[-0.5022087772486994, -0.7570957287800967, -6...</td>\n",
       "      <td>0</td>\n",
       "      <td>[2.5889375403704613, 3.238523797766915, 3.5984...</td>\n",
       "      <td>4</td>\n",
       "      <td>-39.516137</td>\n",
       "      <td>47.750134</td>\n",
       "    </tr>\n",
       "    <tr>\n",
       "      <th>451</th>\n",
       "      <td>HEC017\\017context1\\017context1_prescr</td>\n",
       "      <td>108</td>\n",
       "      <td>1</td>\n",
       "      <td>[0, 15, 28, 21, 21, 28, 47, 37, 27, 33, 28, 27...</td>\n",
       "      <td>[[-0.8039600986828503, -5.106483972215248, -4....</td>\n",
       "      <td>0</td>\n",
       "      <td>[2.888506387964795, 3.2857403522152815, 3.5042...</td>\n",
       "      <td>2</td>\n",
       "      <td>-36.043086</td>\n",
       "      <td>43.338600</td>\n",
       "    </tr>\n",
       "    <tr>\n",
       "      <th>455</th>\n",
       "      <td>HEC017\\017context1\\017context1_prescr</td>\n",
       "      <td>109</td>\n",
       "      <td>2</td>\n",
       "      <td>[0, 90, 537, 338, 298, 171, 161, 149, 126, 112...</td>\n",
       "      <td>[[14.850080825134437, 10.044594544432831, -0.9...</td>\n",
       "      <td>0</td>\n",
       "      <td>[4.921244365834821, 5.305847401886366, 5.48292...</td>\n",
       "      <td>2</td>\n",
       "      <td>-40.032171</td>\n",
       "      <td>47.623862</td>\n",
       "    </tr>\n",
       "    <tr>\n",
       "      <th>458</th>\n",
       "      <td>HEC017\\017context1\\017context1_prescr</td>\n",
       "      <td>111</td>\n",
       "      <td>1</td>\n",
       "      <td>[0, 408, 162, 203, 75, 76, 57, 65, 58, 62, 78,...</td>\n",
       "      <td>[[11.07369178086354, 5.924531485799744, 7.4733...</td>\n",
       "      <td>0</td>\n",
       "      <td>[4.453470841617727, 4.485020865311145, 4.42454...</td>\n",
       "      <td>2</td>\n",
       "      <td>-36.157333</td>\n",
       "      <td>44.452508</td>\n",
       "    </tr>\n",
       "    <tr>\n",
       "      <th>460</th>\n",
       "      <td>HEC017\\017context1\\017context1_prescr</td>\n",
       "      <td>112</td>\n",
       "      <td>1</td>\n",
       "      <td>[0, 69, 318, 260, 161, 126, 104, 114, 95, 77, ...</td>\n",
       "      <td>[[0.23889132557140236, 1.4646041034658785, 4.4...</td>\n",
       "      <td>0</td>\n",
       "      <td>[4.433098513579291, 4.772398223850272, 4.86248...</td>\n",
       "      <td>2</td>\n",
       "      <td>-36.385746</td>\n",
       "      <td>44.077525</td>\n",
       "    </tr>\n",
       "    <tr>\n",
       "      <th>462</th>\n",
       "      <td>HEC017\\017context1\\017context1_prescr</td>\n",
       "      <td>113</td>\n",
       "      <td>1</td>\n",
       "      <td>[0, 6, 9, 14, 7, 8, 6, 4, 10, 5, 4, 6, 5, 8, 6...</td>\n",
       "      <td>[[0.028840555280716718, -3.811504702359728, -7...</td>\n",
       "      <td>0</td>\n",
       "      <td>[3.082052773926598, 3.8494951053011324, 4.3364...</td>\n",
       "      <td>2</td>\n",
       "      <td>-35.935299</td>\n",
       "      <td>43.558487</td>\n",
       "    </tr>\n",
       "    <tr>\n",
       "      <th>465</th>\n",
       "      <td>HEC017\\017context1\\017context1_prescr</td>\n",
       "      <td>114</td>\n",
       "      <td>2</td>\n",
       "      <td>[0, 16, 9, 5, 6, 9, 7, 4, 3, 5, 1, 8, 0, 4, 2,...</td>\n",
       "      <td>[[5.663036020027322, 3.060711974239128, 4.0073...</td>\n",
       "      <td>0</td>\n",
       "      <td>[3.9878540896052375, 4.602476194927192, 5.0144...</td>\n",
       "      <td>2</td>\n",
       "      <td>-36.149304</td>\n",
       "      <td>41.283342</td>\n",
       "    </tr>\n",
       "    <tr>\n",
       "      <th>466</th>\n",
       "      <td>HEC017\\017context1\\017context1_prescr</td>\n",
       "      <td>115</td>\n",
       "      <td>1</td>\n",
       "      <td>[0, 3, 9, 5, 2, 2, 5, 1, 1, 4, 2, 4, 4, 3, 0, ...</td>\n",
       "      <td>[[2.2680003736319714, -1.7307194843249958, -4....</td>\n",
       "      <td>0</td>\n",
       "      <td>[3.1258517992932164, 3.4761309254815225, 3.678...</td>\n",
       "      <td>2</td>\n",
       "      <td>-38.322134</td>\n",
       "      <td>45.307623</td>\n",
       "    </tr>\n",
       "    <tr>\n",
       "      <th>469</th>\n",
       "      <td>HEC017\\017context1\\017context1_prescr</td>\n",
       "      <td>116</td>\n",
       "      <td>2</td>\n",
       "      <td>[0, 4, 10, 2, 2, 3, 6, 2, 2, 2, 1, 3, 4, 1, 1,...</td>\n",
       "      <td>[[1.4854699457849019, 0.21634422599534756, -0....</td>\n",
       "      <td>0</td>\n",
       "      <td>[3.645251460326459, 4.137248378815186, 4.30954...</td>\n",
       "      <td>2</td>\n",
       "      <td>-37.466684</td>\n",
       "      <td>44.027597</td>\n",
       "    </tr>\n",
       "    <tr>\n",
       "      <th>471</th>\n",
       "      <td>HEC017\\017context1\\017context1_prescr</td>\n",
       "      <td>118</td>\n",
       "      <td>1</td>\n",
       "      <td>[0, 5, 7, 3, 4, 1, 1, 0, 2, 1, 2, 2, 3, 1, 1, ...</td>\n",
       "      <td>[[8.03702579723716, 5.537183146968905, 5.62763...</td>\n",
       "      <td>0</td>\n",
       "      <td>[3.5695350541685333, 4.184252443709786, 4.7853...</td>\n",
       "      <td>2</td>\n",
       "      <td>-37.528333</td>\n",
       "      <td>42.699317</td>\n",
       "    </tr>\n",
       "    <tr>\n",
       "      <th>481</th>\n",
       "      <td>HEC017\\017context1\\017context1_prescr</td>\n",
       "      <td>105</td>\n",
       "      <td>1</td>\n",
       "      <td>[0, 21, 44, 38, 25, 29, 51, 20, 23, 29, 40, 18...</td>\n",
       "      <td>[[5.689446531524039, 5.651346401859753, 1.2531...</td>\n",
       "      <td>0</td>\n",
       "      <td>[3.250762796305279, 4.132019637379001, 4.51544...</td>\n",
       "      <td>4</td>\n",
       "      <td>-36.287941</td>\n",
       "      <td>42.698426</td>\n",
       "    </tr>\n",
       "    <tr>\n",
       "      <th>484</th>\n",
       "      <td>HEC017\\017context1\\017context1_postscr</td>\n",
       "      <td>100</td>\n",
       "      <td>1</td>\n",
       "      <td>[0, 94, 274, 231, 199, 199, 246, 221, 185, 180...</td>\n",
       "      <td>[[-0.4806771547176042, 3.370033195057542, 6.74...</td>\n",
       "      <td>0</td>\n",
       "      <td>[3.2420919020432075, 3.3783689478185193, 3.408...</td>\n",
       "      <td>2</td>\n",
       "      <td>-41.483513</td>\n",
       "      <td>48.470570</td>\n",
       "    </tr>\n",
       "    <tr>\n",
       "      <th>500</th>\n",
       "      <td>HEC017\\017context1\\017context1_postscr</td>\n",
       "      <td>108</td>\n",
       "      <td>1</td>\n",
       "      <td>[0, 14, 28, 21, 22, 28, 48, 39, 27, 32, 28, 26...</td>\n",
       "      <td>[[-0.8039600986828503, -5.106483972215248, -4....</td>\n",
       "      <td>0</td>\n",
       "      <td>[2.897103499271979, 3.283302850321114, 3.49170...</td>\n",
       "      <td>2</td>\n",
       "      <td>-36.053383</td>\n",
       "      <td>43.329640</td>\n",
       "    </tr>\n",
       "    <tr>\n",
       "      <th>504</th>\n",
       "      <td>HEC017\\017context1\\017context1_postscr</td>\n",
       "      <td>109</td>\n",
       "      <td>2</td>\n",
       "      <td>[0, 90, 558, 345, 297, 170, 172, 151, 129, 109...</td>\n",
       "      <td>[[14.850080825134437, 10.044594544432831, -0.9...</td>\n",
       "      <td>0</td>\n",
       "      <td>[4.958804047153008, 5.344419132049026, 5.52252...</td>\n",
       "      <td>2</td>\n",
       "      <td>-40.240709</td>\n",
       "      <td>47.882443</td>\n",
       "    </tr>\n",
       "    <tr>\n",
       "      <th>507</th>\n",
       "      <td>HEC017\\017context1\\017context1_postscr</td>\n",
       "      <td>111</td>\n",
       "      <td>1</td>\n",
       "      <td>[0, 410, 161, 202, 74, 76, 57, 66, 58, 60, 76,...</td>\n",
       "      <td>[[11.07369178086354, 5.924531485799744, 7.4733...</td>\n",
       "      <td>0</td>\n",
       "      <td>[4.461377763888951, 4.489403162135416, 4.42679...</td>\n",
       "      <td>2</td>\n",
       "      <td>-36.164948</td>\n",
       "      <td>44.467371</td>\n",
       "    </tr>\n",
       "    <tr>\n",
       "      <th>511</th>\n",
       "      <td>HEC017\\017context1\\017context1_postscr</td>\n",
       "      <td>113</td>\n",
       "      <td>1</td>\n",
       "      <td>[0, 6, 10, 14, 8, 8, 6, 4, 10, 5, 5, 7, 6, 7, ...</td>\n",
       "      <td>[[0.028840555280716718, -3.811504702359728, -7...</td>\n",
       "      <td>0</td>\n",
       "      <td>[3.1220823005122145, 3.889625614182662, 4.3510...</td>\n",
       "      <td>2</td>\n",
       "      <td>-37.698329</td>\n",
       "      <td>44.954572</td>\n",
       "    </tr>\n",
       "    <tr>\n",
       "      <th>515</th>\n",
       "      <td>HEC017\\017context1\\017context1_postscr</td>\n",
       "      <td>115</td>\n",
       "      <td>1</td>\n",
       "      <td>[0, 3, 9, 4, 3, 2, 5, 1, 1, 4, 2, 4, 4, 3, 0, ...</td>\n",
       "      <td>[[2.2680003736319714, -1.7307194843249958, -4....</td>\n",
       "      <td>0</td>\n",
       "      <td>[3.0702708393469473, 3.4438010226720657, 3.675...</td>\n",
       "      <td>2</td>\n",
       "      <td>-37.486871</td>\n",
       "      <td>44.507614</td>\n",
       "    </tr>\n",
       "    <tr>\n",
       "      <th>536</th>\n",
       "      <td>HEC017\\017context1\\017context1_postscr</td>\n",
       "      <td>128</td>\n",
       "      <td>1</td>\n",
       "      <td>[0, 852, 609, 218, 105, 108, 48, 70, 20, 46, 1...</td>\n",
       "      <td>[[13.288905576623005, 13.258391814001017, 8.52...</td>\n",
       "      <td>0</td>\n",
       "      <td>[7.4036482790389115, 6.566093193048495, 5.3906...</td>\n",
       "      <td>2</td>\n",
       "      <td>-33.549905</td>\n",
       "      <td>46.721748</td>\n",
       "    </tr>\n",
       "    <tr>\n",
       "      <th>539</th>\n",
       "      <td>HEC017\\017context1\\017context1_postscr</td>\n",
       "      <td>98</td>\n",
       "      <td>1</td>\n",
       "      <td>[0, 62, 164, 116, 54, 51, 72, 56, 39, 44, 51, ...</td>\n",
       "      <td>[[0.4291355090516942, -3.8699622564726024, -4....</td>\n",
       "      <td>0</td>\n",
       "      <td>[2.754131879425186, 3.0047126295299775, 3.0877...</td>\n",
       "      <td>2</td>\n",
       "      <td>-36.282423</td>\n",
       "      <td>41.711369</td>\n",
       "    </tr>\n",
       "    <tr>\n",
       "      <th>541</th>\n",
       "      <td>HEC017\\017context1\\017context1_postscr</td>\n",
       "      <td>99</td>\n",
       "      <td>1</td>\n",
       "      <td>[0, 19, 128, 108, 56, 66, 90, 88, 88, 114, 103...</td>\n",
       "      <td>[[10.934844097588558, 5.781906159642984, 3.562...</td>\n",
       "      <td>0</td>\n",
       "      <td>[4.822855614078509, 4.906386184719936, 4.86670...</td>\n",
       "      <td>2</td>\n",
       "      <td>-37.768562</td>\n",
       "      <td>44.086489</td>\n",
       "    </tr>\n",
       "    <tr>\n",
       "      <th>553</th>\n",
       "      <td>HEC017\\017context2</td>\n",
       "      <td>107</td>\n",
       "      <td>1</td>\n",
       "      <td>[0, 78, 564, 147, 164, 75, 116, 18, 47, 146, 1...</td>\n",
       "      <td>[[3.2382985424988027, 4.738774250667177, 7.659...</td>\n",
       "      <td>0</td>\n",
       "      <td>[1.426278079498708, 1.7603041565689486, 2.9430...</td>\n",
       "      <td>4</td>\n",
       "      <td>-33.865808</td>\n",
       "      <td>40.001344</td>\n",
       "    </tr>\n",
       "    <tr>\n",
       "      <th>591</th>\n",
       "      <td>HEC018\\fanis1-HEC18\\001lfpscr_context_pre</td>\n",
       "      <td>65</td>\n",
       "      <td>1</td>\n",
       "      <td>[0, 2, 7, 7, 3, 2, 10, 4, 1, 6, 11, 3, 3, 5, 3...</td>\n",
       "      <td>[[4.581565565305138, 0.41344211919758145, -3.3...</td>\n",
       "      <td>0</td>\n",
       "      <td>[4.59723514653238, 4.322506240970256, 3.997594...</td>\n",
       "      <td>2</td>\n",
       "      <td>-37.627395</td>\n",
       "      <td>42.224631</td>\n",
       "    </tr>\n",
       "    <tr>\n",
       "      <th>596</th>\n",
       "      <td>HEC018\\fanis1-HEC18\\001lfpscr_context_pre</td>\n",
       "      <td>66</td>\n",
       "      <td>3</td>\n",
       "      <td>[0, 0, 0, 0, 0, 0, 0, 0, 0, 1, 1, 0, 0, 0, 0, ...</td>\n",
       "      <td>[[7.913788931289379, 6.629237765734956, 6.0087...</td>\n",
       "      <td>0</td>\n",
       "      <td>[0.16762823094774365, 0.36027834053479374, 0.7...</td>\n",
       "      <td>2</td>\n",
       "      <td>-29.190195</td>\n",
       "      <td>46.054160</td>\n",
       "    </tr>\n",
       "    <tr>\n",
       "      <th>602</th>\n",
       "      <td>HEC018\\fanis1-HEC18\\001lfpscr_context_pre</td>\n",
       "      <td>68</td>\n",
       "      <td>3</td>\n",
       "      <td>[0, 1, 5, 22, 31, 38, 24, 19, 20, 26, 30, 20, ...</td>\n",
       "      <td>[[-2.271469769617593, -3.1316801462660266, -6....</td>\n",
       "      <td>0</td>\n",
       "      <td>[2.640716917878893, 2.9145750841967364, 3.1293...</td>\n",
       "      <td>2</td>\n",
       "      <td>-35.654983</td>\n",
       "      <td>46.812703</td>\n",
       "    </tr>\n",
       "    <tr>\n",
       "      <th>606</th>\n",
       "      <td>HEC018\\fanis1-HEC18\\001lfpscr_context_pre</td>\n",
       "      <td>70</td>\n",
       "      <td>1</td>\n",
       "      <td>[0, 1, 0, 0, 1, 0, 0, 0, 0, 0, 0, 0, 0, 1, 0, ...</td>\n",
       "      <td>[[3.2525111910241487, 2.593941488215554, 1.179...</td>\n",
       "      <td>0</td>\n",
       "      <td>[1.057654318737655, 0.9673862950523217, 0.8052...</td>\n",
       "      <td>2</td>\n",
       "      <td>-41.650846</td>\n",
       "      <td>48.264604</td>\n",
       "    </tr>\n",
       "    <tr>\n",
       "      <th>611</th>\n",
       "      <td>HEC018\\fanis1-HEC18\\001lfpscr_context_pre</td>\n",
       "      <td>72</td>\n",
       "      <td>3</td>\n",
       "      <td>[0, 0, 0, 0, 0, 0, 0, 0, 0, 0, 0, 0, 0, 0, 0, ...</td>\n",
       "      <td>[[9.180219002045062, 13.545447897587417, 17.94...</td>\n",
       "      <td>0</td>\n",
       "      <td>[5.464962281578532, 6.087312538740275, 6.66916...</td>\n",
       "      <td>2</td>\n",
       "      <td>-30.852797</td>\n",
       "      <td>49.015111</td>\n",
       "    </tr>\n",
       "    <tr>\n",
       "      <th>631</th>\n",
       "      <td>HEC018\\fanis1-HEC18\\001lfpscr_context_pre</td>\n",
       "      <td>79</td>\n",
       "      <td>1</td>\n",
       "      <td>[0, 328, 883, 1358, 1537, 926, 796, 562, 461, ...</td>\n",
       "      <td>[[-0.6190173986428986, -1.511409066629636, -1....</td>\n",
       "      <td>0</td>\n",
       "      <td>[2.233181772568155, 2.0826651068080646, 1.8700...</td>\n",
       "      <td>2</td>\n",
       "      <td>-40.782310</td>\n",
       "      <td>48.683983</td>\n",
       "    </tr>\n",
       "    <tr>\n",
       "      <th>666</th>\n",
       "      <td>HEC006\\novel1</td>\n",
       "      <td>66</td>\n",
       "      <td>2</td>\n",
       "      <td>[0, 3, 1, 2, 3, 3, 2, 2, 4, 0, 0, 5, 2, 1, 3, ...</td>\n",
       "      <td>[[0.4770601679293598, -7.115889088063303, -11....</td>\n",
       "      <td>0</td>\n",
       "      <td>[0.1074842285232578, -0.6995478120783485, -1.4...</td>\n",
       "      <td>4</td>\n",
       "      <td>-36.828024</td>\n",
       "      <td>43.640586</td>\n",
       "    </tr>\n",
       "    <tr>\n",
       "      <th>669</th>\n",
       "      <td>HEC006\\novel1</td>\n",
       "      <td>68</td>\n",
       "      <td>1</td>\n",
       "      <td>[0, 0, 6, 5, 3, 4, 0, 3, 2, 2, 1, 1, 4, 2, 6, ...</td>\n",
       "      <td>[[0.8433390481871721, -0.30107404015595485, -2...</td>\n",
       "      <td>0</td>\n",
       "      <td>[0.26704295300427033, -0.3173611525572352, -0....</td>\n",
       "      <td>4</td>\n",
       "      <td>-36.684359</td>\n",
       "      <td>41.780590</td>\n",
       "    </tr>\n",
       "    <tr>\n",
       "      <th>671</th>\n",
       "      <td>HEC006\\novel1</td>\n",
       "      <td>69</td>\n",
       "      <td>1</td>\n",
       "      <td>[0, 5, 10, 10, 8, 6, 5, 12, 10, 15, 17, 10, 15...</td>\n",
       "      <td>[[7.472775501788162, 8.083149460510764, 6.9802...</td>\n",
       "      <td>0</td>\n",
       "      <td>[2.7198635290093556, 2.607975623338752, 2.5669...</td>\n",
       "      <td>2</td>\n",
       "      <td>-37.967351</td>\n",
       "      <td>42.805991</td>\n",
       "    </tr>\n",
       "    <tr>\n",
       "      <th>677</th>\n",
       "      <td>HEC006\\novel1</td>\n",
       "      <td>71</td>\n",
       "      <td>1</td>\n",
       "      <td>[0, 6, 6, 21, 41, 48, 72, 69, 73, 47, 62, 50, ...</td>\n",
       "      <td>[[-1.7938527661314452, 0.4915715657101798, 2.3...</td>\n",
       "      <td>0</td>\n",
       "      <td>[0.8222434621011179, 0.7626019032469347, 0.658...</td>\n",
       "      <td>2</td>\n",
       "      <td>-35.428255</td>\n",
       "      <td>42.319324</td>\n",
       "    </tr>\n",
       "    <tr>\n",
       "      <th>678</th>\n",
       "      <td>HEC006\\novel1</td>\n",
       "      <td>71</td>\n",
       "      <td>2</td>\n",
       "      <td>[0, 1, 2, 4, 3, 3, 8, 1, 5, 4, 8, 7, 1, 3, 4, ...</td>\n",
       "      <td>[[-0.05680876891041686, 1.9352287521054508, 5....</td>\n",
       "      <td>0</td>\n",
       "      <td>[4.1966201660882785, 4.443434427743947, 4.6314...</td>\n",
       "      <td>2</td>\n",
       "      <td>-42.586227</td>\n",
       "      <td>48.289672</td>\n",
       "    </tr>\n",
       "    <tr>\n",
       "      <th>682</th>\n",
       "      <td>HEC006\\novel1</td>\n",
       "      <td>72</td>\n",
       "      <td>1</td>\n",
       "      <td>[0, 1, 0, 0, 0, 0, 0, 0, 1, 1, 0, 0, 0, 0, 0, ...</td>\n",
       "      <td>[[-1.9836476003643224, -5.414625993410379, -7....</td>\n",
       "      <td>0</td>\n",
       "      <td>[2.8155148031852457, 2.8928838872334546, 3.107...</td>\n",
       "      <td>2</td>\n",
       "      <td>-32.872509</td>\n",
       "      <td>40.763824</td>\n",
       "    </tr>\n",
       "    <tr>\n",
       "      <th>684</th>\n",
       "      <td>HEC006\\novel1</td>\n",
       "      <td>72</td>\n",
       "      <td>3</td>\n",
       "      <td>[0, 0, 1, 1, 0, 0, 0, 1, 2, 0, 1, 0, 2, 0, 1, ...</td>\n",
       "      <td>[[-2.9287744540682286, 1.8705234794810395, 5.8...</td>\n",
       "      <td>0</td>\n",
       "      <td>[1.2589602220578227, 1.1684719043048337, 1.174...</td>\n",
       "      <td>2</td>\n",
       "      <td>-34.563130</td>\n",
       "      <td>42.473340</td>\n",
       "    </tr>\n",
       "    <tr>\n",
       "      <th>686</th>\n",
       "      <td>HEC006\\novel1</td>\n",
       "      <td>73</td>\n",
       "      <td>2</td>\n",
       "      <td>[0, 0, 1, 1, 0, 1, 2, 0, 0, 4, 2, 1, 2, 0, 3, ...</td>\n",
       "      <td>[[4.544492930485529, 5.921826126328545, 6.2685...</td>\n",
       "      <td>0</td>\n",
       "      <td>[1.7338436363512797, 1.505711389773452, 1.2439...</td>\n",
       "      <td>2</td>\n",
       "      <td>-35.025626</td>\n",
       "      <td>41.407015</td>\n",
       "    </tr>\n",
       "    <tr>\n",
       "      <th>687</th>\n",
       "      <td>HEC006\\novel1</td>\n",
       "      <td>73</td>\n",
       "      <td>3</td>\n",
       "      <td>[0, 0, 0, 2, 0, 0, 1, 0, 0, 0, 0, 0, 0, 1, 1, ...</td>\n",
       "      <td>[[8.151766936802717, 14.456762752841822, 18.59...</td>\n",
       "      <td>0</td>\n",
       "      <td>[0.5622733771910556, 0.026271076680374865, -0....</td>\n",
       "      <td>2</td>\n",
       "      <td>-36.813435</td>\n",
       "      <td>44.573392</td>\n",
       "    </tr>\n",
       "    <tr>\n",
       "      <th>693</th>\n",
       "      <td>HEC006\\novel1</td>\n",
       "      <td>77</td>\n",
       "      <td>1</td>\n",
       "      <td>[0, 0, 0, 0, 0, 0, 1, 1, 1, 5, 5, 10, 11, 17, ...</td>\n",
       "      <td>[[2.5948323448130144, 5.805227577217443, 10.44...</td>\n",
       "      <td>0</td>\n",
       "      <td>[1.3353093677274726, 1.2153801284232715, 1.126...</td>\n",
       "      <td>2</td>\n",
       "      <td>-38.243451</td>\n",
       "      <td>45.865725</td>\n",
       "    </tr>\n",
       "    <tr>\n",
       "      <th>699</th>\n",
       "      <td>HEC006\\novel1</td>\n",
       "      <td>79</td>\n",
       "      <td>2</td>\n",
       "      <td>[0, 0, 0, 0, 1, 2, 1, 2, 3, 1, 2, 1, 0, 0, 0, ...</td>\n",
       "      <td>[[-1.0988242969486084, -0.08522449597994833, 1...</td>\n",
       "      <td>0</td>\n",
       "      <td>[2.464430221660137, 1.8113055226981256, 1.5734...</td>\n",
       "      <td>2</td>\n",
       "      <td>-35.247946</td>\n",
       "      <td>49.003479</td>\n",
       "    </tr>\n",
       "    <tr>\n",
       "      <th>704</th>\n",
       "      <td>HEC006\\novel1</td>\n",
       "      <td>80</td>\n",
       "      <td>2</td>\n",
       "      <td>[0, 0, 1, 4, 10, 7, 6, 1, 2, 3, 7, 3, 1, 3, 3,...</td>\n",
       "      <td>[[7.310299808599473, 9.461777477494124, 8.0860...</td>\n",
       "      <td>0</td>\n",
       "      <td>[2.50077697706608, 2.339205952499871, 2.299636...</td>\n",
       "      <td>2</td>\n",
       "      <td>-39.203440</td>\n",
       "      <td>45.276893</td>\n",
       "    </tr>\n",
       "    <tr>\n",
       "      <th>744</th>\n",
       "      <td>HEC006\\novel1</td>\n",
       "      <td>104</td>\n",
       "      <td>1</td>\n",
       "      <td>[0, 143, 372, 419, 393, 388, 420, 347, 389, 32...</td>\n",
       "      <td>[[8.185913178958698, 5.752067115263458, 3.8367...</td>\n",
       "      <td>0</td>\n",
       "      <td>[3.758505317240905, 3.6725184620094744, 3.5712...</td>\n",
       "      <td>2</td>\n",
       "      <td>-41.642270</td>\n",
       "      <td>47.949183</td>\n",
       "    </tr>\n",
       "    <tr>\n",
       "      <th>745</th>\n",
       "      <td>HEC006\\novel1</td>\n",
       "      <td>104</td>\n",
       "      <td>2</td>\n",
       "      <td>[0, 8, 2, 10, 10, 16, 11, 6, 12, 10, 8, 12, 9,...</td>\n",
       "      <td>[[-1.2509266722167127, -2.5336405009041973, -0...</td>\n",
       "      <td>0</td>\n",
       "      <td>[0.02901743835229034, -0.17584966235966415, -0...</td>\n",
       "      <td>4</td>\n",
       "      <td>-38.343070</td>\n",
       "      <td>43.694124</td>\n",
       "    </tr>\n",
       "    <tr>\n",
       "      <th>760</th>\n",
       "      <td>HEC006\\novel3</td>\n",
       "      <td>97</td>\n",
       "      <td>3</td>\n",
       "      <td>[0, 0, 3, 1, 0, 0, 1, 1, 2, 0, 1, 0, 0, 0, 0, ...</td>\n",
       "      <td>[[-16.32177554562663, -13.860149827004554, -9....</td>\n",
       "      <td>0</td>\n",
       "      <td>[-1.2445640827407403, -1.3256501626625785, -1....</td>\n",
       "      <td>1</td>\n",
       "      <td>-37.362307</td>\n",
       "      <td>46.586245</td>\n",
       "    </tr>\n",
       "    <tr>\n",
       "      <th>775</th>\n",
       "      <td>HEC006\\novel3</td>\n",
       "      <td>107</td>\n",
       "      <td>1</td>\n",
       "      <td>[0, 5, 4, 8, 9, 10, 7, 10, 8, 10, 14, 13, 15, ...</td>\n",
       "      <td>[[-6.395206434348395, -13.072040720426196, -16...</td>\n",
       "      <td>0</td>\n",
       "      <td>[2.6887238540930403, 2.6473514343428164, 2.595...</td>\n",
       "      <td>2</td>\n",
       "      <td>-38.940609</td>\n",
       "      <td>45.964139</td>\n",
       "    </tr>\n",
       "    <tr>\n",
       "      <th>803</th>\n",
       "      <td>HEC006\\novel3</td>\n",
       "      <td>77</td>\n",
       "      <td>1</td>\n",
       "      <td>[0, 0, 2, 0, 2, 0, 0, 3, 0, 1, 1, 3, 0, 0, 4, ...</td>\n",
       "      <td>[[-8.724378494282313, -8.905045699811875, -8.5...</td>\n",
       "      <td>0</td>\n",
       "      <td>[0.5136491655177559, 0.17310849153060734, -0.1...</td>\n",
       "      <td>2</td>\n",
       "      <td>-39.589460</td>\n",
       "      <td>45.615270</td>\n",
       "    </tr>\n",
       "    <tr>\n",
       "      <th>809</th>\n",
       "      <td>HEC006\\novel3</td>\n",
       "      <td>80</td>\n",
       "      <td>2</td>\n",
       "      <td>[0, 0, 2, 4, 0, 3, 3, 5, 5, 3, 4, 1, 3, 5, 2, ...</td>\n",
       "      <td>[[-1.3152839621457053, -6.888447699091232, -9....</td>\n",
       "      <td>0</td>\n",
       "      <td>[2.013408290272814, 1.8308212557982482, 1.6350...</td>\n",
       "      <td>2</td>\n",
       "      <td>-42.594968</td>\n",
       "      <td>48.737505</td>\n",
       "    </tr>\n",
       "    <tr>\n",
       "      <th>888</th>\n",
       "      <td>HEC006\\novel4</td>\n",
       "      <td>80</td>\n",
       "      <td>1</td>\n",
       "      <td>[0, 0, 4, 7, 3, 5, 3, 4, 6, 3, 3, 6, 2, 3, 2, ...</td>\n",
       "      <td>[[-13.727385849675214, -12.407691238799224, -9...</td>\n",
       "      <td>0</td>\n",
       "      <td>[-0.8130674043588693, -0.9741124708788356, -1....</td>\n",
       "      <td>3</td>\n",
       "      <td>-38.056667</td>\n",
       "      <td>42.787854</td>\n",
       "    </tr>\n",
       "    <tr>\n",
       "      <th>989</th>\n",
       "      <td>HEC006\\novel6</td>\n",
       "      <td>100</td>\n",
       "      <td>1</td>\n",
       "      <td>[0, 11, 15, 16, 8, 16, 15, 19, 14, 16, 14, 19,...</td>\n",
       "      <td>[[-2.025262472287626, -4.168181551790768, -4.2...</td>\n",
       "      <td>0</td>\n",
       "      <td>[-0.17452768936739396, -0.41506446587997803, -...</td>\n",
       "      <td>1</td>\n",
       "      <td>-39.529190</td>\n",
       "      <td>47.852135</td>\n",
       "    </tr>\n",
       "    <tr>\n",
       "      <th>1041</th>\n",
       "      <td>HEC006\\novel8</td>\n",
       "      <td>101</td>\n",
       "      <td>1</td>\n",
       "      <td>[0, 1, 10, 8, 3, 5, 6, 6, 7, 7, 9, 7, 13, 5, 1...</td>\n",
       "      <td>[[1.6991605953818518, -0.36083515664050203, -0...</td>\n",
       "      <td>0</td>\n",
       "      <td>[4.26463471757291, 4.521638453199884, 4.733007...</td>\n",
       "      <td>2</td>\n",
       "      <td>-39.465978</td>\n",
       "      <td>46.930178</td>\n",
       "    </tr>\n",
       "    <tr>\n",
       "      <th>1047</th>\n",
       "      <td>HEC006\\novel8</td>\n",
       "      <td>102</td>\n",
       "      <td>3</td>\n",
       "      <td>[0, 1, 4, 4, 0, 1, 4, 1, 0, 0, 3, 1, 3, 0, 1, ...</td>\n",
       "      <td>[[5.833696549754292, 3.630066897064962, 0.4621...</td>\n",
       "      <td>0</td>\n",
       "      <td>[2.2413983304582548, 2.0662461866911, 2.007318...</td>\n",
       "      <td>2</td>\n",
       "      <td>-35.010144</td>\n",
       "      <td>45.925077</td>\n",
       "    </tr>\n",
       "    <tr>\n",
       "      <th>1069</th>\n",
       "      <td>HEC008\\novel3</td>\n",
       "      <td>66</td>\n",
       "      <td>2</td>\n",
       "      <td>[0, 2, 6, 0, 5, 5, 6, 2, 5, 6, 4, 8, 2, 4, 8, ...</td>\n",
       "      <td>[[4.245167911695105, 7.166213981800759, 11.233...</td>\n",
       "      <td>0</td>\n",
       "      <td>[3.9981360656446823, 4.033593433353119, 4.0206...</td>\n",
       "      <td>2</td>\n",
       "      <td>-40.624449</td>\n",
       "      <td>48.041063</td>\n",
       "    </tr>\n",
       "    <tr>\n",
       "      <th>1086</th>\n",
       "      <td>HEC008\\novel3</td>\n",
       "      <td>123</td>\n",
       "      <td>2</td>\n",
       "      <td>[0, 3, 1, 5, 2, 3, 4, 1, 5, 4, 4, 5, 4, 4, 2, ...</td>\n",
       "      <td>[[-4.827990585628407, -3.6311214662829974, -2....</td>\n",
       "      <td>0</td>\n",
       "      <td>[0.04145211395597957, -0.26116023959961504, -0...</td>\n",
       "      <td>4</td>\n",
       "      <td>-36.201739</td>\n",
       "      <td>42.690815</td>\n",
       "    </tr>\n",
       "    <tr>\n",
       "      <th>1139</th>\n",
       "      <td>HEC008\\novel4</td>\n",
       "      <td>123</td>\n",
       "      <td>2</td>\n",
       "      <td>[0, 0, 0, 1, 3, 4, 1, 0, 3, 4, 6, 8, 10, 10, 9...</td>\n",
       "      <td>[[6.841337870223223, 10.07246792415253, 9.5569...</td>\n",
       "      <td>0</td>\n",
       "      <td>[4.0221349623047855, 4.111743742216493, 4.2617...</td>\n",
       "      <td>2</td>\n",
       "      <td>-42.300177</td>\n",
       "      <td>48.959864</td>\n",
       "    </tr>\n",
       "    <tr>\n",
       "      <th>1141</th>\n",
       "      <td>HEC008\\novel4</td>\n",
       "      <td>123</td>\n",
       "      <td>4</td>\n",
       "      <td>[0, 0, 0, 0, 0, 2, 4, 1, 0, 0, 2, 0, 0, 1, 2, ...</td>\n",
       "      <td>[[0.5935188205758957, 1.350361986299821, -0.14...</td>\n",
       "      <td>0</td>\n",
       "      <td>[0.2618262457461164, 0.32481945467243606, 0.51...</td>\n",
       "      <td>4</td>\n",
       "      <td>-34.465377</td>\n",
       "      <td>43.131092</td>\n",
       "    </tr>\n",
       "    <tr>\n",
       "      <th>1142</th>\n",
       "      <td>HEC008\\novel4</td>\n",
       "      <td>124</td>\n",
       "      <td>1</td>\n",
       "      <td>[0, 0, 5, 5, 8, 12, 15, 8, 4, 12, 13, 8, 11, 1...</td>\n",
       "      <td>[[-5.541233483451077, -3.01504548263628, -0.41...</td>\n",
       "      <td>0</td>\n",
       "      <td>[1.5497775169251238, 1.3896054747224251, 1.201...</td>\n",
       "      <td>2</td>\n",
       "      <td>-35.459871</td>\n",
       "      <td>42.001450</td>\n",
       "    </tr>\n",
       "    <tr>\n",
       "      <th>1148</th>\n",
       "      <td>HEC008\\novel4</td>\n",
       "      <td>125</td>\n",
       "      <td>2</td>\n",
       "      <td>[0, 0, 0, 0, 0, 0, 0, 0, 0, 1, 0, 0, 0, 0, 0, ...</td>\n",
       "      <td>[[2.4324720717760444, 3.1746002910847424, 2.06...</td>\n",
       "      <td>0</td>\n",
       "      <td>[4.525060919072863, 4.597600714761362, 4.73476...</td>\n",
       "      <td>2</td>\n",
       "      <td>-37.957572</td>\n",
       "      <td>45.418334</td>\n",
       "    </tr>\n",
       "    <tr>\n",
       "      <th>1176</th>\n",
       "      <td>HEC020\\invariance2</td>\n",
       "      <td>68</td>\n",
       "      <td>2</td>\n",
       "      <td>[0, 25, 19, 18, 12, 8, 7, 7, 4, 4, 0, 3, 1, 2,...</td>\n",
       "      <td>[[-13.141801532611794, -8.938039599881952, -7....</td>\n",
       "      <td>0</td>\n",
       "      <td>[-1.2092732191499116, -1.2262676579961636, -0....</td>\n",
       "      <td>2</td>\n",
       "      <td>36.376870</td>\n",
       "      <td>47.272435</td>\n",
       "    </tr>\n",
       "    <tr>\n",
       "      <th>1446</th>\n",
       "      <td>HEC030\\HEC030_rsvpscr2</td>\n",
       "      <td>103</td>\n",
       "      <td>3</td>\n",
       "      <td>[0, 0, 0, 0, 0, 5, 0, 1, 2, 1, 2, 0, 0, 0, 2, ...</td>\n",
       "      <td>[[-1.7743643473696442, -2.3936728907166476, -2...</td>\n",
       "      <td>0</td>\n",
       "      <td>[0.633063261921213, 0.833584020078046, 1.17650...</td>\n",
       "      <td>2</td>\n",
       "      <td>-24.179408</td>\n",
       "      <td>44.777776</td>\n",
       "    </tr>\n",
       "    <tr>\n",
       "      <th>1543</th>\n",
       "      <td>HEC030\\HEC030_story3</td>\n",
       "      <td>110</td>\n",
       "      <td>7</td>\n",
       "      <td>[0, 0, 0, 0, 0, 0, 0, 2, 0, 0, 0, 0, 1, 0, 0, ...</td>\n",
       "      <td>[[-4.792375071643294, -7.2336633974040465, -8....</td>\n",
       "      <td>0</td>\n",
       "      <td>[1.898834025858921, 2.0323976599204325, 2.2588...</td>\n",
       "      <td>2</td>\n",
       "      <td>-28.099267</td>\n",
       "      <td>45.941825</td>\n",
       "    </tr>\n",
       "  </tbody>\n",
       "</table>\n",
       "</div>"
      ],
      "text/plain": [
       "                              PatientExperiment Channel Cluster  \\\n",
       "450       HEC017\\017context1\\017context1_prescr     107       1   \n",
       "451       HEC017\\017context1\\017context1_prescr     108       1   \n",
       "455       HEC017\\017context1\\017context1_prescr     109       2   \n",
       "458       HEC017\\017context1\\017context1_prescr     111       1   \n",
       "460       HEC017\\017context1\\017context1_prescr     112       1   \n",
       "462       HEC017\\017context1\\017context1_prescr     113       1   \n",
       "465       HEC017\\017context1\\017context1_prescr     114       2   \n",
       "466       HEC017\\017context1\\017context1_prescr     115       1   \n",
       "469       HEC017\\017context1\\017context1_prescr     116       2   \n",
       "471       HEC017\\017context1\\017context1_prescr     118       1   \n",
       "481       HEC017\\017context1\\017context1_prescr     105       1   \n",
       "484      HEC017\\017context1\\017context1_postscr     100       1   \n",
       "500      HEC017\\017context1\\017context1_postscr     108       1   \n",
       "504      HEC017\\017context1\\017context1_postscr     109       2   \n",
       "507      HEC017\\017context1\\017context1_postscr     111       1   \n",
       "511      HEC017\\017context1\\017context1_postscr     113       1   \n",
       "515      HEC017\\017context1\\017context1_postscr     115       1   \n",
       "536      HEC017\\017context1\\017context1_postscr     128       1   \n",
       "539      HEC017\\017context1\\017context1_postscr      98       1   \n",
       "541      HEC017\\017context1\\017context1_postscr      99       1   \n",
       "553                          HEC017\\017context2     107       1   \n",
       "591   HEC018\\fanis1-HEC18\\001lfpscr_context_pre      65       1   \n",
       "596   HEC018\\fanis1-HEC18\\001lfpscr_context_pre      66       3   \n",
       "602   HEC018\\fanis1-HEC18\\001lfpscr_context_pre      68       3   \n",
       "606   HEC018\\fanis1-HEC18\\001lfpscr_context_pre      70       1   \n",
       "611   HEC018\\fanis1-HEC18\\001lfpscr_context_pre      72       3   \n",
       "631   HEC018\\fanis1-HEC18\\001lfpscr_context_pre      79       1   \n",
       "666                               HEC006\\novel1      66       2   \n",
       "669                               HEC006\\novel1      68       1   \n",
       "671                               HEC006\\novel1      69       1   \n",
       "677                               HEC006\\novel1      71       1   \n",
       "678                               HEC006\\novel1      71       2   \n",
       "682                               HEC006\\novel1      72       1   \n",
       "684                               HEC006\\novel1      72       3   \n",
       "686                               HEC006\\novel1      73       2   \n",
       "687                               HEC006\\novel1      73       3   \n",
       "693                               HEC006\\novel1      77       1   \n",
       "699                               HEC006\\novel1      79       2   \n",
       "704                               HEC006\\novel1      80       2   \n",
       "744                               HEC006\\novel1     104       1   \n",
       "745                               HEC006\\novel1     104       2   \n",
       "760                               HEC006\\novel3      97       3   \n",
       "775                               HEC006\\novel3     107       1   \n",
       "803                               HEC006\\novel3      77       1   \n",
       "809                               HEC006\\novel3      80       2   \n",
       "888                               HEC006\\novel4      80       1   \n",
       "989                               HEC006\\novel6     100       1   \n",
       "1041                              HEC006\\novel8     101       1   \n",
       "1047                              HEC006\\novel8     102       3   \n",
       "1069                              HEC008\\novel3      66       2   \n",
       "1086                              HEC008\\novel3     123       2   \n",
       "1139                              HEC008\\novel4     123       2   \n",
       "1141                              HEC008\\novel4     123       4   \n",
       "1142                              HEC008\\novel4     124       1   \n",
       "1148                              HEC008\\novel4     125       2   \n",
       "1176                         HEC020\\invariance2      68       2   \n",
       "1446                     HEC030\\HEC030_rsvpscr2     103       3   \n",
       "1543                       HEC030\\HEC030_story3     110       7   \n",
       "\n",
       "                                                    ISI  \\\n",
       "450   [0, 16, 32, 27, 11, 19, 34, 24, 18, 23, 24, 20...   \n",
       "451   [0, 15, 28, 21, 21, 28, 47, 37, 27, 33, 28, 27...   \n",
       "455   [0, 90, 537, 338, 298, 171, 161, 149, 126, 112...   \n",
       "458   [0, 408, 162, 203, 75, 76, 57, 65, 58, 62, 78,...   \n",
       "460   [0, 69, 318, 260, 161, 126, 104, 114, 95, 77, ...   \n",
       "462   [0, 6, 9, 14, 7, 8, 6, 4, 10, 5, 4, 6, 5, 8, 6...   \n",
       "465   [0, 16, 9, 5, 6, 9, 7, 4, 3, 5, 1, 8, 0, 4, 2,...   \n",
       "466   [0, 3, 9, 5, 2, 2, 5, 1, 1, 4, 2, 4, 4, 3, 0, ...   \n",
       "469   [0, 4, 10, 2, 2, 3, 6, 2, 2, 2, 1, 3, 4, 1, 1,...   \n",
       "471   [0, 5, 7, 3, 4, 1, 1, 0, 2, 1, 2, 2, 3, 1, 1, ...   \n",
       "481   [0, 21, 44, 38, 25, 29, 51, 20, 23, 29, 40, 18...   \n",
       "484   [0, 94, 274, 231, 199, 199, 246, 221, 185, 180...   \n",
       "500   [0, 14, 28, 21, 22, 28, 48, 39, 27, 32, 28, 26...   \n",
       "504   [0, 90, 558, 345, 297, 170, 172, 151, 129, 109...   \n",
       "507   [0, 410, 161, 202, 74, 76, 57, 66, 58, 60, 76,...   \n",
       "511   [0, 6, 10, 14, 8, 8, 6, 4, 10, 5, 5, 7, 6, 7, ...   \n",
       "515   [0, 3, 9, 4, 3, 2, 5, 1, 1, 4, 2, 4, 4, 3, 0, ...   \n",
       "536   [0, 852, 609, 218, 105, 108, 48, 70, 20, 46, 1...   \n",
       "539   [0, 62, 164, 116, 54, 51, 72, 56, 39, 44, 51, ...   \n",
       "541   [0, 19, 128, 108, 56, 66, 90, 88, 88, 114, 103...   \n",
       "553   [0, 78, 564, 147, 164, 75, 116, 18, 47, 146, 1...   \n",
       "591   [0, 2, 7, 7, 3, 2, 10, 4, 1, 6, 11, 3, 3, 5, 3...   \n",
       "596   [0, 0, 0, 0, 0, 0, 0, 0, 0, 1, 1, 0, 0, 0, 0, ...   \n",
       "602   [0, 1, 5, 22, 31, 38, 24, 19, 20, 26, 30, 20, ...   \n",
       "606   [0, 1, 0, 0, 1, 0, 0, 0, 0, 0, 0, 0, 0, 1, 0, ...   \n",
       "611   [0, 0, 0, 0, 0, 0, 0, 0, 0, 0, 0, 0, 0, 0, 0, ...   \n",
       "631   [0, 328, 883, 1358, 1537, 926, 796, 562, 461, ...   \n",
       "666   [0, 3, 1, 2, 3, 3, 2, 2, 4, 0, 0, 5, 2, 1, 3, ...   \n",
       "669   [0, 0, 6, 5, 3, 4, 0, 3, 2, 2, 1, 1, 4, 2, 6, ...   \n",
       "671   [0, 5, 10, 10, 8, 6, 5, 12, 10, 15, 17, 10, 15...   \n",
       "677   [0, 6, 6, 21, 41, 48, 72, 69, 73, 47, 62, 50, ...   \n",
       "678   [0, 1, 2, 4, 3, 3, 8, 1, 5, 4, 8, 7, 1, 3, 4, ...   \n",
       "682   [0, 1, 0, 0, 0, 0, 0, 0, 1, 1, 0, 0, 0, 0, 0, ...   \n",
       "684   [0, 0, 1, 1, 0, 0, 0, 1, 2, 0, 1, 0, 2, 0, 1, ...   \n",
       "686   [0, 0, 1, 1, 0, 1, 2, 0, 0, 4, 2, 1, 2, 0, 3, ...   \n",
       "687   [0, 0, 0, 2, 0, 0, 1, 0, 0, 0, 0, 0, 0, 1, 1, ...   \n",
       "693   [0, 0, 0, 0, 0, 0, 1, 1, 1, 5, 5, 10, 11, 17, ...   \n",
       "699   [0, 0, 0, 0, 1, 2, 1, 2, 3, 1, 2, 1, 0, 0, 0, ...   \n",
       "704   [0, 0, 1, 4, 10, 7, 6, 1, 2, 3, 7, 3, 1, 3, 3,...   \n",
       "744   [0, 143, 372, 419, 393, 388, 420, 347, 389, 32...   \n",
       "745   [0, 8, 2, 10, 10, 16, 11, 6, 12, 10, 8, 12, 9,...   \n",
       "760   [0, 0, 3, 1, 0, 0, 1, 1, 2, 0, 1, 0, 0, 0, 0, ...   \n",
       "775   [0, 5, 4, 8, 9, 10, 7, 10, 8, 10, 14, 13, 15, ...   \n",
       "803   [0, 0, 2, 0, 2, 0, 0, 3, 0, 1, 1, 3, 0, 0, 4, ...   \n",
       "809   [0, 0, 2, 4, 0, 3, 3, 5, 5, 3, 4, 1, 3, 5, 2, ...   \n",
       "888   [0, 0, 4, 7, 3, 5, 3, 4, 6, 3, 3, 6, 2, 3, 2, ...   \n",
       "989   [0, 11, 15, 16, 8, 16, 15, 19, 14, 16, 14, 19,...   \n",
       "1041  [0, 1, 10, 8, 3, 5, 6, 6, 7, 7, 9, 7, 13, 5, 1...   \n",
       "1047  [0, 1, 4, 4, 0, 1, 4, 1, 0, 0, 3, 1, 3, 0, 1, ...   \n",
       "1069  [0, 2, 6, 0, 5, 5, 6, 2, 5, 6, 4, 8, 2, 4, 8, ...   \n",
       "1086  [0, 3, 1, 5, 2, 3, 4, 1, 5, 4, 4, 5, 4, 4, 2, ...   \n",
       "1139  [0, 0, 0, 1, 3, 4, 1, 0, 3, 4, 6, 8, 10, 10, 9...   \n",
       "1141  [0, 0, 0, 0, 0, 2, 4, 1, 0, 0, 2, 0, 0, 1, 2, ...   \n",
       "1142  [0, 0, 5, 5, 8, 12, 15, 8, 4, 12, 13, 8, 11, 1...   \n",
       "1148  [0, 0, 0, 0, 0, 0, 0, 0, 0, 1, 0, 0, 0, 0, 0, ...   \n",
       "1176  [0, 25, 19, 18, 12, 8, 7, 7, 4, 4, 0, 3, 1, 2,...   \n",
       "1446  [0, 0, 0, 0, 0, 5, 0, 1, 2, 1, 2, 0, 0, 0, 2, ...   \n",
       "1543  [0, 0, 0, 0, 0, 0, 0, 2, 0, 0, 0, 0, 1, 0, 0, ...   \n",
       "\n",
       "                                                   Bulk bNoise  \\\n",
       "450   [[-0.5022087772486994, -0.7570957287800967, -6...      0   \n",
       "451   [[-0.8039600986828503, -5.106483972215248, -4....      0   \n",
       "455   [[14.850080825134437, 10.044594544432831, -0.9...      0   \n",
       "458   [[11.07369178086354, 5.924531485799744, 7.4733...      0   \n",
       "460   [[0.23889132557140236, 1.4646041034658785, 4.4...      0   \n",
       "462   [[0.028840555280716718, -3.811504702359728, -7...      0   \n",
       "465   [[5.663036020027322, 3.060711974239128, 4.0073...      0   \n",
       "466   [[2.2680003736319714, -1.7307194843249958, -4....      0   \n",
       "469   [[1.4854699457849019, 0.21634422599534756, -0....      0   \n",
       "471   [[8.03702579723716, 5.537183146968905, 5.62763...      0   \n",
       "481   [[5.689446531524039, 5.651346401859753, 1.2531...      0   \n",
       "484   [[-0.4806771547176042, 3.370033195057542, 6.74...      0   \n",
       "500   [[-0.8039600986828503, -5.106483972215248, -4....      0   \n",
       "504   [[14.850080825134437, 10.044594544432831, -0.9...      0   \n",
       "507   [[11.07369178086354, 5.924531485799744, 7.4733...      0   \n",
       "511   [[0.028840555280716718, -3.811504702359728, -7...      0   \n",
       "515   [[2.2680003736319714, -1.7307194843249958, -4....      0   \n",
       "536   [[13.288905576623005, 13.258391814001017, 8.52...      0   \n",
       "539   [[0.4291355090516942, -3.8699622564726024, -4....      0   \n",
       "541   [[10.934844097588558, 5.781906159642984, 3.562...      0   \n",
       "553   [[3.2382985424988027, 4.738774250667177, 7.659...      0   \n",
       "591   [[4.581565565305138, 0.41344211919758145, -3.3...      0   \n",
       "596   [[7.913788931289379, 6.629237765734956, 6.0087...      0   \n",
       "602   [[-2.271469769617593, -3.1316801462660266, -6....      0   \n",
       "606   [[3.2525111910241487, 2.593941488215554, 1.179...      0   \n",
       "611   [[9.180219002045062, 13.545447897587417, 17.94...      0   \n",
       "631   [[-0.6190173986428986, -1.511409066629636, -1....      0   \n",
       "666   [[0.4770601679293598, -7.115889088063303, -11....      0   \n",
       "669   [[0.8433390481871721, -0.30107404015595485, -2...      0   \n",
       "671   [[7.472775501788162, 8.083149460510764, 6.9802...      0   \n",
       "677   [[-1.7938527661314452, 0.4915715657101798, 2.3...      0   \n",
       "678   [[-0.05680876891041686, 1.9352287521054508, 5....      0   \n",
       "682   [[-1.9836476003643224, -5.414625993410379, -7....      0   \n",
       "684   [[-2.9287744540682286, 1.8705234794810395, 5.8...      0   \n",
       "686   [[4.544492930485529, 5.921826126328545, 6.2685...      0   \n",
       "687   [[8.151766936802717, 14.456762752841822, 18.59...      0   \n",
       "693   [[2.5948323448130144, 5.805227577217443, 10.44...      0   \n",
       "699   [[-1.0988242969486084, -0.08522449597994833, 1...      0   \n",
       "704   [[7.310299808599473, 9.461777477494124, 8.0860...      0   \n",
       "744   [[8.185913178958698, 5.752067115263458, 3.8367...      0   \n",
       "745   [[-1.2509266722167127, -2.5336405009041973, -0...      0   \n",
       "760   [[-16.32177554562663, -13.860149827004554, -9....      0   \n",
       "775   [[-6.395206434348395, -13.072040720426196, -16...      0   \n",
       "803   [[-8.724378494282313, -8.905045699811875, -8.5...      0   \n",
       "809   [[-1.3152839621457053, -6.888447699091232, -9....      0   \n",
       "888   [[-13.727385849675214, -12.407691238799224, -9...      0   \n",
       "989   [[-2.025262472287626, -4.168181551790768, -4.2...      0   \n",
       "1041  [[1.6991605953818518, -0.36083515664050203, -0...      0   \n",
       "1047  [[5.833696549754292, 3.630066897064962, 0.4621...      0   \n",
       "1069  [[4.245167911695105, 7.166213981800759, 11.233...      0   \n",
       "1086  [[-4.827990585628407, -3.6311214662829974, -2....      0   \n",
       "1139  [[6.841337870223223, 10.07246792415253, 9.5569...      0   \n",
       "1141  [[0.5935188205758957, 1.350361986299821, -0.14...      0   \n",
       "1142  [[-5.541233483451077, -3.01504548263628, -0.41...      0   \n",
       "1148  [[2.4324720717760444, 3.1746002910847424, 2.06...      0   \n",
       "1176  [[-13.141801532611794, -8.938039599881952, -7....      0   \n",
       "1446  [[-1.7743643473696442, -2.3936728907166476, -2...      0   \n",
       "1543  [[-4.792375071643294, -7.2336633974040465, -8....      0   \n",
       "\n",
       "                                                   Mean  ZeroCrossings  \\\n",
       "450   [2.5889375403704613, 3.238523797766915, 3.5984...              4   \n",
       "451   [2.888506387964795, 3.2857403522152815, 3.5042...              2   \n",
       "455   [4.921244365834821, 5.305847401886366, 5.48292...              2   \n",
       "458   [4.453470841617727, 4.485020865311145, 4.42454...              2   \n",
       "460   [4.433098513579291, 4.772398223850272, 4.86248...              2   \n",
       "462   [3.082052773926598, 3.8494951053011324, 4.3364...              2   \n",
       "465   [3.9878540896052375, 4.602476194927192, 5.0144...              2   \n",
       "466   [3.1258517992932164, 3.4761309254815225, 3.678...              2   \n",
       "469   [3.645251460326459, 4.137248378815186, 4.30954...              2   \n",
       "471   [3.5695350541685333, 4.184252443709786, 4.7853...              2   \n",
       "481   [3.250762796305279, 4.132019637379001, 4.51544...              4   \n",
       "484   [3.2420919020432075, 3.3783689478185193, 3.408...              2   \n",
       "500   [2.897103499271979, 3.283302850321114, 3.49170...              2   \n",
       "504   [4.958804047153008, 5.344419132049026, 5.52252...              2   \n",
       "507   [4.461377763888951, 4.489403162135416, 4.42679...              2   \n",
       "511   [3.1220823005122145, 3.889625614182662, 4.3510...              2   \n",
       "515   [3.0702708393469473, 3.4438010226720657, 3.675...              2   \n",
       "536   [7.4036482790389115, 6.566093193048495, 5.3906...              2   \n",
       "539   [2.754131879425186, 3.0047126295299775, 3.0877...              2   \n",
       "541   [4.822855614078509, 4.906386184719936, 4.86670...              2   \n",
       "553   [1.426278079498708, 1.7603041565689486, 2.9430...              4   \n",
       "591   [4.59723514653238, 4.322506240970256, 3.997594...              2   \n",
       "596   [0.16762823094774365, 0.36027834053479374, 0.7...              2   \n",
       "602   [2.640716917878893, 2.9145750841967364, 3.1293...              2   \n",
       "606   [1.057654318737655, 0.9673862950523217, 0.8052...              2   \n",
       "611   [5.464962281578532, 6.087312538740275, 6.66916...              2   \n",
       "631   [2.233181772568155, 2.0826651068080646, 1.8700...              2   \n",
       "666   [0.1074842285232578, -0.6995478120783485, -1.4...              4   \n",
       "669   [0.26704295300427033, -0.3173611525572352, -0....              4   \n",
       "671   [2.7198635290093556, 2.607975623338752, 2.5669...              2   \n",
       "677   [0.8222434621011179, 0.7626019032469347, 0.658...              2   \n",
       "678   [4.1966201660882785, 4.443434427743947, 4.6314...              2   \n",
       "682   [2.8155148031852457, 2.8928838872334546, 3.107...              2   \n",
       "684   [1.2589602220578227, 1.1684719043048337, 1.174...              2   \n",
       "686   [1.7338436363512797, 1.505711389773452, 1.2439...              2   \n",
       "687   [0.5622733771910556, 0.026271076680374865, -0....              2   \n",
       "693   [1.3353093677274726, 1.2153801284232715, 1.126...              2   \n",
       "699   [2.464430221660137, 1.8113055226981256, 1.5734...              2   \n",
       "704   [2.50077697706608, 2.339205952499871, 2.299636...              2   \n",
       "744   [3.758505317240905, 3.6725184620094744, 3.5712...              2   \n",
       "745   [0.02901743835229034, -0.17584966235966415, -0...              4   \n",
       "760   [-1.2445640827407403, -1.3256501626625785, -1....              1   \n",
       "775   [2.6887238540930403, 2.6473514343428164, 2.595...              2   \n",
       "803   [0.5136491655177559, 0.17310849153060734, -0.1...              2   \n",
       "809   [2.013408290272814, 1.8308212557982482, 1.6350...              2   \n",
       "888   [-0.8130674043588693, -0.9741124708788356, -1....              3   \n",
       "989   [-0.17452768936739396, -0.41506446587997803, -...              1   \n",
       "1041  [4.26463471757291, 4.521638453199884, 4.733007...              2   \n",
       "1047  [2.2413983304582548, 2.0662461866911, 2.007318...              2   \n",
       "1069  [3.9981360656446823, 4.033593433353119, 4.0206...              2   \n",
       "1086  [0.04145211395597957, -0.26116023959961504, -0...              4   \n",
       "1139  [4.0221349623047855, 4.111743742216493, 4.2617...              2   \n",
       "1141  [0.2618262457461164, 0.32481945467243606, 0.51...              4   \n",
       "1142  [1.5497775169251238, 1.3896054747224251, 1.201...              2   \n",
       "1148  [4.525060919072863, 4.597600714761362, 4.73476...              2   \n",
       "1176  [-1.2092732191499116, -1.2262676579961636, -0....              2   \n",
       "1446  [0.633063261921213, 0.833584020078046, 1.17650...              2   \n",
       "1543  [1.898834025858921, 2.0323976599204325, 2.2588...              2   \n",
       "\n",
       "      Amplitude  Amplitude_peaktopeak  \n",
       "450  -39.516137             47.750134  \n",
       "451  -36.043086             43.338600  \n",
       "455  -40.032171             47.623862  \n",
       "458  -36.157333             44.452508  \n",
       "460  -36.385746             44.077525  \n",
       "462  -35.935299             43.558487  \n",
       "465  -36.149304             41.283342  \n",
       "466  -38.322134             45.307623  \n",
       "469  -37.466684             44.027597  \n",
       "471  -37.528333             42.699317  \n",
       "481  -36.287941             42.698426  \n",
       "484  -41.483513             48.470570  \n",
       "500  -36.053383             43.329640  \n",
       "504  -40.240709             47.882443  \n",
       "507  -36.164948             44.467371  \n",
       "511  -37.698329             44.954572  \n",
       "515  -37.486871             44.507614  \n",
       "536  -33.549905             46.721748  \n",
       "539  -36.282423             41.711369  \n",
       "541  -37.768562             44.086489  \n",
       "553  -33.865808             40.001344  \n",
       "591  -37.627395             42.224631  \n",
       "596  -29.190195             46.054160  \n",
       "602  -35.654983             46.812703  \n",
       "606  -41.650846             48.264604  \n",
       "611  -30.852797             49.015111  \n",
       "631  -40.782310             48.683983  \n",
       "666  -36.828024             43.640586  \n",
       "669  -36.684359             41.780590  \n",
       "671  -37.967351             42.805991  \n",
       "677  -35.428255             42.319324  \n",
       "678  -42.586227             48.289672  \n",
       "682  -32.872509             40.763824  \n",
       "684  -34.563130             42.473340  \n",
       "686  -35.025626             41.407015  \n",
       "687  -36.813435             44.573392  \n",
       "693  -38.243451             45.865725  \n",
       "699  -35.247946             49.003479  \n",
       "704  -39.203440             45.276893  \n",
       "744  -41.642270             47.949183  \n",
       "745  -38.343070             43.694124  \n",
       "760  -37.362307             46.586245  \n",
       "775  -38.940609             45.964139  \n",
       "803  -39.589460             45.615270  \n",
       "809  -42.594968             48.737505  \n",
       "888  -38.056667             42.787854  \n",
       "989  -39.529190             47.852135  \n",
       "1041 -39.465978             46.930178  \n",
       "1047 -35.010144             45.925077  \n",
       "1069 -40.624449             48.041063  \n",
       "1086 -36.201739             42.690815  \n",
       "1139 -42.300177             48.959864  \n",
       "1141 -34.465377             43.131092  \n",
       "1142 -35.459871             42.001450  \n",
       "1148 -37.957572             45.418334  \n",
       "1176  36.376870             47.272435  \n",
       "1446 -24.179408             44.777776  \n",
       "1543 -28.099267             45.941825  "
      ]
     },
     "execution_count": 121,
     "metadata": {},
     "output_type": "execute_result"
    },
    {
     "name": "stderr",
     "output_type": "stream",
     "text": [
      "/home/lorenzo/anaconda3/lib/python3.7/site-packages/ipykernel_launcher.py:2: RuntimeWarning: More than 20 figures have been opened. Figures created through the pyplot interface (`matplotlib.pyplot.figure`) are retained until explicitly closed and may consume too much memory. (To control this warning, see the rcParam `figure.max_open_warning`).\n",
      "  \n"
     ]
    },
    {
     "data": {
      "application/vnd.jupyter.widget-view+json": {
       "model_id": "f7ad37a90c7a497fab86716f83b48035",
       "version_major": 2,
       "version_minor": 0
      },
      "text/plain": [
       "Canvas(toolbar=Toolbar(toolitems=[('Home', 'Reset original view', 'home', 'home'), ('Back', 'Back to previous …"
      ]
     },
     "metadata": {},
     "output_type": "display_data"
    },
    {
     "data": {
      "text/plain": [
       "<Figure size 640x480 with 0 Axes>"
      ]
     },
     "execution_count": 121,
     "metadata": {},
     "output_type": "execute_result"
    }
   ],
   "source": [
    "data[(data.Amplitude_peaktopeak > 40) & (data.Amplitude_peaktopeak < 50) & (data.bNoise == 0)]\n",
    "plt.figure()\n",
    "ax = plt.subplot(111)\n",
    "plot_Bulk(data.loc[1446,\"Bulk\"],ax)"
   ]
  },
  {
   "cell_type": "code",
   "execution_count": 14,
   "metadata": {},
   "outputs": [
    {
     "data": {
      "text/plain": [
       "Text(0.5, 1.0, 'Mean of Std')"
      ]
     },
     "execution_count": 14,
     "metadata": {},
     "output_type": "execute_result"
    },
    {
     "data": {
      "image/png": "[encoded data removed]",
      "text/plain": [
       "<Figure size 432x288 with 1 Axes>"
      ]
     },
     "metadata": {
      "needs_background": "light"
     },
     "output_type": "display_data"
    }
   ],
   "source": [
    "A[data.bNoise == 1].hist(bins = 100)\n",
    "A[data.bNoise == 0].hist(bins = 100)\n",
    "A[data.bNoise == 2].hist(bins = 100)\n",
    "plt.legend(['Noise','Neuron','MU'])\n",
    "plt.title('Mean of Std')"
   ]
  },
  {
   "cell_type": "markdown",
   "metadata": {},
   "source": [
    "### Computamos la derivada de la media"
   ]
  },
  {
   "cell_type": "code",
   "execution_count": 12,
   "metadata": {},
   "outputs": [
    {
     "data": {
      "application/vnd.jupyter.widget-view+json": {
       "model_id": "2ae7de2536d94281ba2666201bcffbc9",
       "version_major": 2,
       "version_minor": 0
      },
      "text/plain": [
       "Canvas(toolbar=Toolbar(toolitems=[('Home', 'Reset original view', 'home', 'home'), ('Back', 'Back to previous …"
      ]
     },
     "metadata": {},
     "output_type": "display_data"
    },
    {
     "data": {
      "application/vnd.jupyter.widget-view+json": {
       "model_id": "4797c97d4aa04ed9be751df09f594f3c",
       "version_major": 2,
       "version_minor": 0
      },
      "text/plain": [
       "Canvas(toolbar=Toolbar(toolitems=[('Home', 'Reset original view', 'home', 'home'), ('Back', 'Back to previous …"
      ]
     },
     "metadata": {},
     "output_type": "display_data"
    },
    {
     "data": {
      "text/plain": [
       "(-20, 1.780687504078488)"
      ]
     },
     "execution_count": 12,
     "metadata": {},
     "output_type": "execute_result"
    }
   ],
   "source": [
    "i = 19\n",
    "plt.figure()\n",
    "data['derivative_peak'] = data.Mean.apply(lambda row: np.gradient(row)[i])\n",
    "data[data.bNoise == 1].derivative_peak.hist(bins = 50)\n",
    "\n",
    "plt.figure()\n",
    "data[data.bNoise == 0].derivative_peak.hist(bins = 50)\n",
    "data[data.bNoise == 2].derivative_peak.hist(bins = 50)\n",
    "plt.legend(['Neuron','MU'])\n",
    "plt.title('derivative in the peak, i = {}'.format(i))\n",
    "plt.xlim(-20,)"
   ]
  },
  {
   "cell_type": "code",
   "execution_count": 13,
   "metadata": {},
   "outputs": [
    {
     "data": {
      "application/vnd.jupyter.widget-view+json": {
       "model_id": "ce273c18e43645898a0a5d5609e0f6cc",
       "version_major": 2,
       "version_minor": 0
      },
      "text/plain": [
       "Canvas(toolbar=Toolbar(toolitems=[('Home', 'Reset original view', 'home', 'home'), ('Back', 'Back to previous …"
      ]
     },
     "metadata": {},
     "output_type": "display_data"
    },
    {
     "data": {
      "text/plain": [
       "Text(0.5, 1.0, 'Max_derivative')"
      ]
     },
     "execution_count": 13,
     "metadata": {},
     "output_type": "execute_result"
    }
   ],
   "source": [
    "plt.figure()\n",
    "data['derivative_max'] = data.Mean.apply(lambda row: max(np.gradient(row)))\n",
    "data[data.bNoise == 1].derivative_max.hist(bins = 50)\n",
    "data[data.bNoise == 0].derivative_max.hist(bins = 50)\n",
    "data[data.bNoise == 2].derivative_max.hist(bins = 50)\n",
    "plt.legend(['Noise','Neuron','MU'])\n",
    "plt.title('Max_derivative'.format(i))"
   ]
  },
  {
   "cell_type": "markdown",
   "metadata": {},
   "source": [
    "### Numero de Zero Crossings"
   ]
  },
  {
   "cell_type": "code",
   "execution_count": 11,
   "metadata": {},
   "outputs": [],
   "source": [
    "def zero_crossings(sign):\n",
    "    return len(np.where(np.diff(np.sign(sign)))[0])"
   ]
  },
  {
   "cell_type": "code",
   "execution_count": 12,
   "metadata": {},
   "outputs": [],
   "source": [
    "data['ZeroCrossings'] = data.Mean.apply(lambda row: zero_crossings(row))"
   ]
  },
  {
   "cell_type": "code",
   "execution_count": 13,
   "metadata": {},
   "outputs": [
    {
     "data": {
      "application/vnd.jupyter.widget-view+json": {
       "model_id": "8eb7ee357ba44b4c943c265a0943db04",
       "version_major": 2,
       "version_minor": 0
      },
      "text/plain": [
       "Canvas(toolbar=Toolbar(toolitems=[('Home', 'Reset original view', 'home', 'home'), ('Back', 'Back to previous …"
      ]
     },
     "metadata": {},
     "output_type": "display_data"
    },
    {
     "data": {
      "text/plain": [
       "<Figure size 640x480 with 0 Axes>"
      ]
     },
     "execution_count": 13,
     "metadata": {},
     "output_type": "execute_result"
    },
    {
     "data": {
      "text/plain": [
       "(array([0.0047619 , 0.        , 0.27142857, 0.        , 0.23047619,\n",
       "        0.        , 0.1152381 , 0.        , 0.12095238, 0.        ,\n",
       "        0.02857143, 0.        , 0.06571429, 0.        , 0.        ,\n",
       "        0.04095238, 0.        , 0.05142857, 0.        , 0.02761905,\n",
       "        0.        , 0.01238095, 0.        , 0.01142857, 0.        ,\n",
       "        0.01142857, 0.        , 0.0047619 , 0.        , 0.00285714]),\n",
       " array([ 0.        ,  0.46666667,  0.93333333,  1.4       ,  1.86666667,\n",
       "         2.33333333,  2.8       ,  3.26666667,  3.73333333,  4.2       ,\n",
       "         4.66666667,  5.13333333,  5.6       ,  6.06666667,  6.53333333,\n",
       "         7.        ,  7.46666667,  7.93333333,  8.4       ,  8.86666667,\n",
       "         9.33333333,  9.8       , 10.26666667, 10.73333333, 11.2       ,\n",
       "        11.66666667, 12.13333333, 12.6       , 13.06666667, 13.53333333,\n",
       "        14.        ]),\n",
       " <a list of 30 Patch objects>)"
      ]
     },
     "execution_count": 13,
     "metadata": {},
     "output_type": "execute_result"
    },
    {
     "data": {
      "text/plain": [
       "(array([0.05379747, 0.        , 0.        , 0.81962025, 0.        ,\n",
       "        0.        , 0.0221519 , 0.        , 0.        , 0.        ,\n",
       "        0.07911392, 0.        , 0.        , 0.00316456, 0.        ,\n",
       "        0.        , 0.01582278, 0.        , 0.        , 0.        ,\n",
       "        0.        , 0.        , 0.        , 0.00316456, 0.        ,\n",
       "        0.        , 0.        , 0.        , 0.        , 0.00316456]),\n",
       " array([ 1. ,  1.3,  1.6,  1.9,  2.2,  2.5,  2.8,  3.1,  3.4,  3.7,  4. ,\n",
       "         4.3,  4.6,  4.9,  5.2,  5.5,  5.8,  6.1,  6.4,  6.7,  7. ,  7.3,\n",
       "         7.6,  7.9,  8.2,  8.5,  8.8,  9.1,  9.4,  9.7, 10. ]),\n",
       " <a list of 30 Patch objects>)"
      ]
     },
     "execution_count": 13,
     "metadata": {},
     "output_type": "execute_result"
    },
    {
     "data": {
      "text/plain": [
       "(array([0.00490196, 0.        , 0.        , 0.        , 0.1127451 ,\n",
       "        0.        , 0.        , 0.        , 0.66176471, 0.        ,\n",
       "        0.        , 0.        , 0.05392157, 0.        , 0.        ,\n",
       "        0.        , 0.        , 0.12254902, 0.        , 0.        ,\n",
       "        0.        , 0.01470588, 0.        , 0.        , 0.        ,\n",
       "        0.0245098 , 0.        , 0.        , 0.        , 0.00490196]),\n",
       " array([0.        , 0.23333333, 0.46666667, 0.7       , 0.93333333,\n",
       "        1.16666667, 1.4       , 1.63333333, 1.86666667, 2.1       ,\n",
       "        2.33333333, 2.56666667, 2.8       , 3.03333333, 3.26666667,\n",
       "        3.5       , 3.73333333, 3.96666667, 4.2       , 4.43333333,\n",
       "        4.66666667, 4.9       , 5.13333333, 5.36666667, 5.6       ,\n",
       "        5.83333333, 6.06666667, 6.3       , 6.53333333, 6.76666667,\n",
       "        7.        ]),\n",
       " <a list of 30 Patch objects>)"
      ]
     },
     "execution_count": 13,
     "metadata": {},
     "output_type": "execute_result"
    },
    {
     "data": {
      "text/plain": [
       "<matplotlib.legend.Legend at 0x7f1ddb1ed250>"
      ]
     },
     "execution_count": 13,
     "metadata": {},
     "output_type": "execute_result"
    },
    {
     "data": {
      "text/plain": [
       "Text(0.5, 1.0, 'Zero_crossings distribution')"
      ]
     },
     "execution_count": 13,
     "metadata": {},
     "output_type": "execute_result"
    },
    {
     "data": {
      "text/plain": [
       "Text(0.5, 0, 'Zero_Crossings')"
      ]
     },
     "execution_count": 13,
     "metadata": {},
     "output_type": "execute_result"
    },
    {
     "data": {
      "text/plain": [
       "Text(0, 0.5, '%')"
      ]
     },
     "execution_count": 13,
     "metadata": {},
     "output_type": "execute_result"
    }
   ],
   "source": [
    "plt.figure()\n",
    "h_noise = data.ZeroCrossings[data.bNoise == 1]\n",
    "h_neuron = data.ZeroCrossings[data.bNoise == 0]\n",
    "h_Mu = data.ZeroCrossings[data.bNoise == 2]\n",
    "\n",
    "weights = np.ones_like(h_noise.values)/float(len(h_noise.values))\n",
    "plt.hist(h_noise.values, weights=weights,bins= 30)\n",
    "\n",
    "weights = np.ones_like(h_neuron.values)/float(len(h_neuron.values))\n",
    "plt.hist(h_neuron.values, weights=weights,bins= 30)\n",
    "\n",
    "\n",
    "weights = np.ones_like(h_Mu.values)/float(len(h_Mu.values))\n",
    "plt.hist(h_Mu.values, weights=weights,bins= 30)\n",
    "\n",
    "plt.legend(['Noise','Neuron','MU'])\n",
    "plt.title('Zero_crossings distribution')\n",
    "plt.xlabel('Zero_Crossings')\n",
    "plt.ylabel('%')"
   ]
  },
  {
   "cell_type": "markdown",
   "metadata": {},
   "source": [
    "### Analizamos el ISI"
   ]
  },
  {
   "cell_type": "code",
   "execution_count": 14,
   "metadata": {},
   "outputs": [],
   "source": [
    "def Isi_pc(Isi_example,i):\n",
    "    suma = np.sum(Isi_example)\n",
    "    if suma == 0: return 0\n",
    "    else:\n",
    "        return np.sum(Isi_example[i:i+2])/suma"
   ]
  },
  {
   "cell_type": "code",
   "execution_count": 58,
   "metadata": {},
   "outputs": [],
   "source": [
    "band = 8\n",
    "pc = data.ISI.apply(Isi_pc,args=(band,))"
   ]
  },
  {
   "cell_type": "code",
   "execution_count": 59,
   "metadata": {},
   "outputs": [],
   "source": [
    "x = []\n",
    "threshold_list = np.linspace(0,1,1000)\n",
    "Noise_pc = pc[data.bNoise == 1]\n",
    "Neuron_pc = pc[data.bNoise == 0]\n",
    "MU_pc = pc[data.bNoise == 2]\n",
    "\n",
    "for t in threshold_list:\n",
    "    Noise_eliminated = len(Noise_pc[Noise_pc >=t])/len(Noise_pc)\n",
    "    Neuron_eliminated = len(Neuron_pc[Neuron_pc >=t])/len(Neuron_pc)\n",
    "    MU_eliminated = len(MU_pc[MU_pc >=t])/len(MU_pc)\n",
    "    x.append([Noise_eliminated,Neuron_eliminated,MU_eliminated])\n",
    "x = np.array(x).T\n",
    "x *= 100\n"
   ]
  },
  {
   "cell_type": "code",
   "execution_count": 60,
   "metadata": {},
   "outputs": [
    {
     "data": {
      "application/vnd.jupyter.widget-view+json": {
       "model_id": "7eb3dd400f474e6c8c9d6478ce13be7c",
       "version_major": 2,
       "version_minor": 0
      },
      "text/plain": [
       "Canvas(toolbar=Toolbar(toolitems=[('Home', 'Reset original view', 'home', 'home'), ('Back', 'Back to previous …"
      ]
     },
     "metadata": {},
     "output_type": "display_data"
    },
    {
     "data": {
      "text/plain": [
       "<Figure size 640x480 with 0 Axes>"
      ]
     },
     "execution_count": 60,
     "metadata": {},
     "output_type": "execute_result"
    },
    {
     "data": {
      "text/plain": [
       "[<matplotlib.lines.Line2D at 0x7f1dda95a790>]"
      ]
     },
     "execution_count": 60,
     "metadata": {},
     "output_type": "execute_result"
    },
    {
     "data": {
      "text/plain": [
       "[<matplotlib.lines.Line2D at 0x7f1dda968850>]"
      ]
     },
     "execution_count": 60,
     "metadata": {},
     "output_type": "execute_result"
    },
    {
     "data": {
      "text/plain": [
       "[<matplotlib.lines.Line2D at 0x7f1dda95ae90>]"
      ]
     },
     "execution_count": 60,
     "metadata": {},
     "output_type": "execute_result"
    },
    {
     "data": {
      "text/plain": [
       "<matplotlib.legend.Legend at 0x7f1dda970f90>"
      ]
     },
     "execution_count": 60,
     "metadata": {},
     "output_type": "execute_result"
    },
    {
     "data": {
      "text/plain": [
       "Text(0, 0.5, '% clusters eliminated')"
      ]
     },
     "execution_count": 60,
     "metadata": {},
     "output_type": "execute_result"
    },
    {
     "data": {
      "text/plain": [
       "Text(0.5, 0, 'threshold')"
      ]
     },
     "execution_count": 60,
     "metadata": {},
     "output_type": "execute_result"
    },
    {
     "data": {
      "text/plain": [
       "Text(0.5, 1.0, '90 Hz')"
      ]
     },
     "execution_count": 60,
     "metadata": {},
     "output_type": "execute_result"
    },
    {
     "data": {
      "text/plain": [
       "<matplotlib.collections.LineCollection at 0x7f1dda92b210>"
      ]
     },
     "execution_count": 60,
     "metadata": {},
     "output_type": "execute_result"
    }
   ],
   "source": [
    "plt.figure()\n",
    "plt.plot(threshold_list,x[0],label = 'Noise_eliminated')\n",
    "plt.plot(threshold_list,x[1],label = 'Neuron_eliminated')\n",
    "plt.plot(threshold_list,x[2],label = 'MU_eliminated')\n",
    "plt.legend()\n",
    "plt.ylabel('% clusters eliminated')\n",
    "plt.xlabel('threshold')\n",
    "plt.title(str((band + 1)*10)+' Hz')\n",
    "\n",
    "unit_min = min(np.where(x[1] == 0)[0])\n",
    "mu_min = min(np.where(x[2] == 0)[0])\n",
    "\n",
    "thres = max(threshold_list[[unit_min,mu_min]])\n",
    "plt.vlines(thres,-1,100)\n"
   ]
  },
  {
   "cell_type": "code",
   "execution_count": 42,
   "metadata": {},
   "outputs": [
    {
     "name": "stdout",
     "output_type": "stream",
     "text": [
      "200\n",
      "112\n"
     ]
    },
    {
     "data": {
      "text/plain": [
       "0.0038095238095238095"
      ]
     },
     "execution_count": 42,
     "metadata": {},
     "output_type": "execute_result"
    }
   ],
   "source": [
    "print(min(np.where(x[1] == 0)[0]))\n",
    "print(min(np.where(x[2] == 0)[0]))\n",
    "len(Noise_pc[Noise_pc>=thres])/len(Noise_pc)\n"
   ]
  },
  {
   "cell_type": "markdown",
   "metadata": {},
   "source": [
    "###### Distribucion de los porcentajes de ISI"
   ]
  },
  {
   "cell_type": "code",
   "execution_count": 25,
   "metadata": {},
   "outputs": [
    {
     "data": {
      "application/vnd.jupyter.widget-view+json": {
       "model_id": "433ced90d14b4d3cbc0e9fabf0376fe5",
       "version_major": 2,
       "version_minor": 0
      },
      "text/plain": [
       "Canvas(toolbar=Toolbar(toolitems=[('Home', 'Reset original view', 'home', 'home'), ('Back', 'Back to previous …"
      ]
     },
     "metadata": {},
     "output_type": "display_data"
    },
    {
     "data": {
      "text/plain": [
       "Text(0.5, 1.0, '%ISI_distribution')"
      ]
     },
     "execution_count": 25,
     "metadata": {},
     "output_type": "execute_result"
    }
   ],
   "source": [
    "plt.figure()\n",
    "Noise_pc.hist(bins = 100,label = 'Noise')\n",
    "Neuron_pc.hist(bins = 100,label = 'Neuron')\n",
    "MU_pc.hist(bins = 100,label = 'MU')\n",
    "plt.ylabel('Counts')\n",
    "plt.ylim(0,50)\n",
    "plt.xlabel('% of ISI in band 60Hz')\n",
    "plt.legend()\n",
    "plt.title('%ISI_distribution')"
   ]
  },
  {
   "cell_type": "markdown",
   "metadata": {},
   "source": [
    "# Que pasa si agrupamos por paciente?"
   ]
  },
  {
   "cell_type": "code",
   "execution_count": 33,
   "metadata": {},
   "outputs": [],
   "source": [
    "df_grouped = data.groupby(['PatientExperiment','bNoise'])"
   ]
  },
  {
   "cell_type": "code",
   "execution_count": 38,
   "metadata": {
    "collapsed": true,
    "jupyter": {
     "outputs_hidden": true
    }
   },
   "outputs": [
    {
     "data": {
      "image/png": "[encoded data removed]",
      "text/plain": [
       "<Figure size 1512x1944 with 60 Axes>"
      ]
     },
     "metadata": {
      "needs_background": "light"
     },
     "output_type": "display_data"
    }
   ],
   "source": [
    "import seaborn as sns\n",
    "g = sns.FacetGrid(data, col='PatientExperiment', hue='ZeroCrossings', col_wrap=7)\n",
    "g.map(sns.distplot, 'bNoise', hist_kws=dict(edgecolor='black'), bins=range(0, 11, 1), kde=False)\n",
    "plt.xlabel('Value Range')\n",
    "plt.ylabel('Frequency')\n",
    "plt.legend()\n",
    "plt.xticks(range(1, 11, 1))\n",
    "plt.show()"
   ]
  },
  {
   "cell_type": "markdown",
   "metadata": {},
   "source": [
    "### Buscamos el ancho de la señal\n",
    "#### Se define como la diferencia entre las dos medidas mas proximas a mitad de altura del pico"
   ]
  },
  {
   "cell_type": "code",
   "execution_count": 21,
   "metadata": {},
   "outputs": [
    {
     "data": {
      "text/plain": [
       "10"
      ]
     },
     "execution_count": 21,
     "metadata": {},
     "output_type": "execute_result"
    }
   ],
   "source": [
    "x = noise.Mean.iloc[300]\n",
    "def width(x):\n",
    "    x = x-x[0]\n",
    "    amplitude = x[19]\n",
    "    half_ammplitude = amplitude/2\n",
    "    min_left = np.argsort(np.abs(x[:19]-half_ammplitude))[0]\n",
    "    min_right = np.argsort(np.abs(x[19:]-half_ammplitude))[0] + 19\n",
    "    return np.abs(min_left - min_right)+1\n",
    "width(x)\n"
   ]
  },
  {
   "cell_type": "code",
   "execution_count": 102,
   "metadata": {},
   "outputs": [
    {
     "data": {
      "text/plain": [
       "<matplotlib.collections.LineCollection at 0x7f53e2e03d90>"
      ]
     },
     "execution_count": 102,
     "metadata": {},
     "output_type": "execute_result"
    },
    {
     "data": {
      "image/png": "[encoded data removed]",
      "text/plain": [
       "<Figure size 432x288 with 1 Axes>"
      ]
     },
     "metadata": {
      "needs_background": "light"
     },
     "output_type": "display_data"
    }
   ],
   "source": [
    "plt.plot(x - x[0],marker = 'o')\n",
    "plt.hlines((x[19] - x[0])/2,xmin = 0,xmax = 60)\n"
   ]
  },
  {
   "cell_type": "code",
   "execution_count": 22,
   "metadata": {
    "collapsed": true,
    "jupyter": {
     "outputs_hidden": true
    }
   },
   "outputs": [
    {
     "data": {
      "text/plain": [
       "Text(0.5, 1.0, 'width')"
      ]
     },
     "execution_count": 22,
     "metadata": {},
     "output_type": "execute_result"
    },
    {
     "data": {
      "image/png": "[encoded data removed]",
      "text/plain": [
       "<Figure size 432x288 with 1 Axes>"
      ]
     },
     "metadata": {
      "needs_background": "light"
     },
     "output_type": "display_data"
    }
   ],
   "source": [
    "data['width'] = data.Mean.apply(width)\n",
    "data[data.bNoise == 1].width.hist(bins = 50,density = True)\n",
    "data[data.bNoise == 0].width.hist(bins = 50,density = True)\n",
    "data[data.bNoise == 2].width.hist(bins = 50,density = True)\n",
    "plt.legend(['Noise','Neuron','MU'])\n",
    "plt.title('width')"
   ]
  },
  {
   "cell_type": "code",
   "execution_count": 40,
   "metadata": {},
   "outputs": [
    {
     "data": {
      "text/plain": [
       "<matplotlib.legend.Legend at 0x7f98169a61d0>"
      ]
     },
     "execution_count": 40,
     "metadata": {},
     "output_type": "execute_result"
    },
    {
     "data": {
      "image/png": "[encoded data removed]",
      "text/plain": [
       "<Figure size 432x288 with 1 Axes>"
      ]
     },
     "metadata": {
      "needs_background": "light"
     },
     "output_type": "display_data"
    }
   ],
   "source": [
    "h_noise = data.width[data.bNoise == 1]\n",
    "h_neuron = data.width[data.bNoise == 0]\n",
    "h_Mu = data.width[data.bNoise == 2]\n",
    "\n",
    "weights = np.ones_like(h_noise.values)/float(len(h_noise.values))\n",
    "plt.hist(h_noise.values, weights=weights,bins= 50,label= 'Noise')\n",
    "\n",
    "weights = np.ones_like(h_neuron.values)/float(len(h_neuron.values))\n",
    "plt.hist(h_neuron.values, weights=weights,bins= 50,label = 'Neurons')\n",
    "\n",
    "weights = np.ones_like(h_Mu.values)/float(len(h_Mu.values))\n",
    "plt.hist(h_Mu.values, weights=weights,bins= 50,label = 'MU')\n",
    "\n",
    "\n",
    "plt.xlabel('Width')\n",
    "plt.ylabel('%')\n",
    "plt.title('Width distribution')\n",
    "plt.legend()"
   ]
  },
  {
   "cell_type": "code",
   "execution_count": 31,
   "metadata": {},
   "outputs": [
    {
     "data": {
      "text/plain": [
       "0.9999999999999976"
      ]
     },
     "execution_count": 31,
     "metadata": {},
     "output_type": "execute_result"
    }
   ],
   "source": [
    "sum(weights)"
   ]
  },
  {
   "cell_type": "code",
   "execution_count": 152,
   "metadata": {},
   "outputs": [
    {
     "name": "stderr",
     "output_type": "stream",
     "text": [
      "/home/lorenzo/anaconda3/lib/python3.7/site-packages/ipykernel_launcher.py:1: RuntimeWarning: More than 20 figures have been opened. Figures created through the pyplot interface (`matplotlib.pyplot.figure`) are retained until explicitly closed and may consume too much memory. (To control this warning, see the rcParam `figure.max_open_warning`).\n",
      "  \"\"\"Entry point for launching an IPython kernel.\n"
     ]
    },
    {
     "data": {
      "application/vnd.jupyter.widget-view+json": {
       "model_id": "2c10b714e0994b6c98c657a5bbe4511b",
       "version_major": 2,
       "version_minor": 0
      },
      "text/plain": [
       "Canvas(toolbar=Toolbar(toolitems=[('Home', 'Reset original view', 'home', 'home'), ('Back', 'Back to previous …"
      ]
     },
     "metadata": {},
     "output_type": "display_data"
    },
    {
     "data": {
      "text/plain": [
       "<BarContainer object of 100 artists>"
      ]
     },
     "execution_count": 152,
     "metadata": {},
     "output_type": "execute_result"
    }
   ],
   "source": [
    "plt.figure()\n",
    "weights = np.ones_like(data.ISI.loc[1011])/float(len(data.ISI.loc[1011]))\n",
    "plt.hist(data.ISI.loc[1011], weights=weights,bins= 50,label = 'Neurons')\n",
    "plt.xlim(0,100)\n",
    "\n",
    "plt.bar(np.arange(100),data.ISI.loc[1011])"
   ]
  },
  {
   "cell_type": "code",
   "execution_count": 145,
   "metadata": {},
   "outputs": [
    {
     "data": {
      "text/html": [
       "<div>\n",
       "<style scoped>\n",
       "    .dataframe tbody tr th:only-of-type {\n",
       "        vertical-align: middle;\n",
       "    }\n",
       "\n",
       "    .dataframe tbody tr th {\n",
       "        vertical-align: top;\n",
       "    }\n",
       "\n",
       "    .dataframe thead th {\n",
       "        text-align: right;\n",
       "    }\n",
       "</style>\n",
       "<table border=\"1\" class=\"dataframe\">\n",
       "  <thead>\n",
       "    <tr style=\"text-align: right;\">\n",
       "      <th></th>\n",
       "      <th>PatientExperiment</th>\n",
       "      <th>Channel</th>\n",
       "      <th>Cluster</th>\n",
       "      <th>ISI</th>\n",
       "      <th>bNoise</th>\n",
       "      <th>Mean</th>\n",
       "      <th>ZeroCrossings</th>\n",
       "      <th>Amplitude</th>\n",
       "      <th>derivative_peak</th>\n",
       "      <th>derivative_max</th>\n",
       "    </tr>\n",
       "  </thead>\n",
       "  <tbody>\n",
       "    <tr>\n",
       "      <th>1006</th>\n",
       "      <td>HEC006\\novel7</td>\n",
       "      <td>106</td>\n",
       "      <td>1</td>\n",
       "      <td>[0, 1, 0, 0, 0, 0, 1, 1, 0, 2, 0, 0, 0, 1, 1, ...</td>\n",
       "      <td>1</td>\n",
       "      <td>[3.7621682723734806, 4.119194152487458, 4.3560...</td>\n",
       "      <td>2</td>\n",
       "      <td>51.658763</td>\n",
       "      <td>5.665918</td>\n",
       "      <td>8.832562</td>\n",
       "    </tr>\n",
       "    <tr>\n",
       "      <th>1007</th>\n",
       "      <td>HEC006\\novel7</td>\n",
       "      <td>106</td>\n",
       "      <td>2</td>\n",
       "      <td>[0, 0, 0, 0, 0, 2, 0, 2, 2, 1, 0, 0, 0, 0, 0, ...</td>\n",
       "      <td>1</td>\n",
       "      <td>[-10.330099280022724, -10.039275342110749, -9....</td>\n",
       "      <td>3</td>\n",
       "      <td>54.153655</td>\n",
       "      <td>-4.846350</td>\n",
       "      <td>8.364436</td>\n",
       "    </tr>\n",
       "    <tr>\n",
       "      <th>1008</th>\n",
       "      <td>HEC006\\novel7</td>\n",
       "      <td>107</td>\n",
       "      <td>1</td>\n",
       "      <td>[0, 1, 0, 4, 4, 0, 1, 1, 3, 1, 0, 0, 0, 0, 0, ...</td>\n",
       "      <td>1</td>\n",
       "      <td>[0.7380044003399401, 0.9244030406310962, 1.197...</td>\n",
       "      <td>2</td>\n",
       "      <td>47.373496</td>\n",
       "      <td>5.895468</td>\n",
       "      <td>9.118828</td>\n",
       "    </tr>\n",
       "    <tr>\n",
       "      <th>1009</th>\n",
       "      <td>HEC006\\novel7</td>\n",
       "      <td>107</td>\n",
       "      <td>2</td>\n",
       "      <td>[0, 1, 0, 0, 1, 0, 1, 3, 2, 1, 0, 0, 0, 0, 0, ...</td>\n",
       "      <td>1</td>\n",
       "      <td>[-9.347258278803846, -8.448547927868761, -7.02...</td>\n",
       "      <td>2</td>\n",
       "      <td>52.200807</td>\n",
       "      <td>-5.369523</td>\n",
       "      <td>8.640624</td>\n",
       "    </tr>\n",
       "    <tr>\n",
       "      <th>1010</th>\n",
       "      <td>HEC006\\novel7</td>\n",
       "      <td>108</td>\n",
       "      <td>1</td>\n",
       "      <td>[0, 0, 2, 0, 0, 0, 0, 0, 1, 1, 2, 0, 0, 0, 0, ...</td>\n",
       "      <td>1</td>\n",
       "      <td>[3.9168647681570574, 4.098110216485827, 4.0094...</td>\n",
       "      <td>4</td>\n",
       "      <td>47.634766</td>\n",
       "      <td>5.650824</td>\n",
       "      <td>8.758860</td>\n",
       "    </tr>\n",
       "    <tr>\n",
       "      <th>1011</th>\n",
       "      <td>HEC006\\novel7</td>\n",
       "      <td>105</td>\n",
       "      <td>1</td>\n",
       "      <td>[0, 1, 0, 0, 0, 0, 1, 4, 1, 4, 4, 0, 0, 0, 0, ...</td>\n",
       "      <td>1</td>\n",
       "      <td>[-19.770666649946026, -18.50220192666221, -16....</td>\n",
       "      <td>2</td>\n",
       "      <td>72.588824</td>\n",
       "      <td>-4.758389</td>\n",
       "      <td>8.486191</td>\n",
       "    </tr>\n",
       "    <tr>\n",
       "      <th>1012</th>\n",
       "      <td>HEC006\\novel7</td>\n",
       "      <td>105</td>\n",
       "      <td>2</td>\n",
       "      <td>[0, 0, 1, 1, 0, 0, 1, 0, 0, 1, 2, 0, 0, 1, 0, ...</td>\n",
       "      <td>1</td>\n",
       "      <td>[6.194538638478575, 6.2671441347556645, 6.4422...</td>\n",
       "      <td>2</td>\n",
       "      <td>64.417368</td>\n",
       "      <td>5.626229</td>\n",
       "      <td>8.859376</td>\n",
       "    </tr>\n",
       "    <tr>\n",
       "      <th>1013</th>\n",
       "      <td>HEC006\\novel7</td>\n",
       "      <td>100</td>\n",
       "      <td>1</td>\n",
       "      <td>[0, 11, 37, 53, 53, 37, 41, 48, 46, 42, 47, 55...</td>\n",
       "      <td>2</td>\n",
       "      <td>[-0.08923110227810187, -0.5338958914880273, -1...</td>\n",
       "      <td>1</td>\n",
       "      <td>47.529477</td>\n",
       "      <td>3.416334</td>\n",
       "      <td>5.475024</td>\n",
       "    </tr>\n",
       "    <tr>\n",
       "      <th>1014</th>\n",
       "      <td>HEC006\\novel7</td>\n",
       "      <td>100</td>\n",
       "      <td>2</td>\n",
       "      <td>[0, 1, 3, 4, 6, 1, 4, 0, 2, 0, 1, 1, 4, 2, 3, ...</td>\n",
       "      <td>2</td>\n",
       "      <td>[-1.547942828255201, -1.9573210623870798, -2.1...</td>\n",
       "      <td>3</td>\n",
       "      <td>44.803954</td>\n",
       "      <td>4.790383</td>\n",
       "      <td>7.404051</td>\n",
       "    </tr>\n",
       "    <tr>\n",
       "      <th>1015</th>\n",
       "      <td>HEC006\\novel7</td>\n",
       "      <td>100</td>\n",
       "      <td>3</td>\n",
       "      <td>[0, 3, 7, 2, 6, 5, 7, 6, 4, 3, 9, 4, 7, 11, 8,...</td>\n",
       "      <td>0</td>\n",
       "      <td>[5.917732549896903, 6.055020863578739, 6.19651...</td>\n",
       "      <td>2</td>\n",
       "      <td>56.888472</td>\n",
       "      <td>4.166212</td>\n",
       "      <td>6.263434</td>\n",
       "    </tr>\n",
       "    <tr>\n",
       "      <th>1016</th>\n",
       "      <td>HEC006\\novel7</td>\n",
       "      <td>100</td>\n",
       "      <td>4</td>\n",
       "      <td>[0, 0, 0, 0, 0, 0, 0, 1, 0, 0, 3, 4, 3, 0, 0, ...</td>\n",
       "      <td>0</td>\n",
       "      <td>[19.032218366579595, 18.92829283956088, 18.680...</td>\n",
       "      <td>2</td>\n",
       "      <td>313.033939</td>\n",
       "      <td>31.199284</td>\n",
       "      <td>48.023549</td>\n",
       "    </tr>\n",
       "    <tr>\n",
       "      <th>1017</th>\n",
       "      <td>HEC006\\novel7</td>\n",
       "      <td>100</td>\n",
       "      <td>5</td>\n",
       "      <td>[0, 16, 19, 11, 8, 10, 9, 9, 7, 6, 5, 13, 5, 1...</td>\n",
       "      <td>0</td>\n",
       "      <td>[4.72680571100902, 4.457010426154337, 4.192175...</td>\n",
       "      <td>2</td>\n",
       "      <td>100.976087</td>\n",
       "      <td>8.383163</td>\n",
       "      <td>12.754087</td>\n",
       "    </tr>\n",
       "    <tr>\n",
       "      <th>1018</th>\n",
       "      <td>HEC006\\novel7</td>\n",
       "      <td>101</td>\n",
       "      <td>1</td>\n",
       "      <td>[0, 0, 4, 3, 1, 4, 4, 4, 2, 5, 0, 3, 3, 1, 4, ...</td>\n",
       "      <td>2</td>\n",
       "      <td>[2.9332065631812374, 2.836720368276292, 2.7338...</td>\n",
       "      <td>2</td>\n",
       "      <td>40.729487</td>\n",
       "      <td>3.592203</td>\n",
       "      <td>5.594207</td>\n",
       "    </tr>\n",
       "    <tr>\n",
       "      <th>1019</th>\n",
       "      <td>HEC006\\novel7</td>\n",
       "      <td>101</td>\n",
       "      <td>2</td>\n",
       "      <td>[0, 0, 0, 0, 0, 0, 1, 0, 1, 1, 0, 0, 2, 1, 0, ...</td>\n",
       "      <td>0</td>\n",
       "      <td>[3.5041450224052917, 3.433929918432683, 3.4050...</td>\n",
       "      <td>2</td>\n",
       "      <td>54.679953</td>\n",
       "      <td>3.753469</td>\n",
       "      <td>7.222059</td>\n",
       "    </tr>\n",
       "    <tr>\n",
       "      <th>1020</th>\n",
       "      <td>HEC006\\novel7</td>\n",
       "      <td>101</td>\n",
       "      <td>3</td>\n",
       "      <td>[0, 1, 2, 4, 1, 1, 2, 2, 2, 1, 2, 3, 3, 2, 2, ...</td>\n",
       "      <td>0</td>\n",
       "      <td>[5.93071544148342, 5.890194893402565, 5.818623...</td>\n",
       "      <td>2</td>\n",
       "      <td>55.253096</td>\n",
       "      <td>3.405230</td>\n",
       "      <td>5.230955</td>\n",
       "    </tr>\n",
       "    <tr>\n",
       "      <th>1021</th>\n",
       "      <td>HEC006\\novel7</td>\n",
       "      <td>101</td>\n",
       "      <td>4</td>\n",
       "      <td>[0, 0, 0, 0, 0, 0, 0, 0, 0, 0, 0, 1, 0, 0, 0, ...</td>\n",
       "      <td>0</td>\n",
       "      <td>[6.154634460277215, 6.168812800789609, 6.55264...</td>\n",
       "      <td>2</td>\n",
       "      <td>103.868906</td>\n",
       "      <td>8.207129</td>\n",
       "      <td>12.694589</td>\n",
       "    </tr>\n",
       "    <tr>\n",
       "      <th>1022</th>\n",
       "      <td>HEC006\\novel7</td>\n",
       "      <td>101</td>\n",
       "      <td>5</td>\n",
       "      <td>[0, 0, 0, 0, 0, 1, 0, 0, 0, 0, 0, 0, 0, 0, 0, ...</td>\n",
       "      <td>0</td>\n",
       "      <td>[5.264270730687422, 4.5593930922749, 3.7308700...</td>\n",
       "      <td>2</td>\n",
       "      <td>164.704978</td>\n",
       "      <td>12.592013</td>\n",
       "      <td>19.030476</td>\n",
       "    </tr>\n",
       "    <tr>\n",
       "      <th>1023</th>\n",
       "      <td>HEC006\\novel7</td>\n",
       "      <td>102</td>\n",
       "      <td>1</td>\n",
       "      <td>[0, 6, 16, 8, 13, 12, 12, 8, 10, 10, 13, 11, 1...</td>\n",
       "      <td>0</td>\n",
       "      <td>[3.732296703340961, 3.727171706549985, 3.71163...</td>\n",
       "      <td>2</td>\n",
       "      <td>51.357004</td>\n",
       "      <td>4.098048</td>\n",
       "      <td>6.275761</td>\n",
       "    </tr>\n",
       "    <tr>\n",
       "      <th>1024</th>\n",
       "      <td>HEC006\\novel7</td>\n",
       "      <td>102</td>\n",
       "      <td>2</td>\n",
       "      <td>[0, 2, 3, 2, 1, 1, 3, 3, 1, 4, 1, 3, 4, 2, 5, ...</td>\n",
       "      <td>2</td>\n",
       "      <td>[-0.5602731326071725, -0.8528639965189203, -1....</td>\n",
       "      <td>1</td>\n",
       "      <td>48.274347</td>\n",
       "      <td>4.204171</td>\n",
       "      <td>6.856612</td>\n",
       "    </tr>\n",
       "    <tr>\n",
       "      <th>1025</th>\n",
       "      <td>HEC006\\novel7</td>\n",
       "      <td>103</td>\n",
       "      <td>1</td>\n",
       "      <td>[0, 13, 13, 29, 11, 14, 19, 14, 12, 11, 13, 23...</td>\n",
       "      <td>2</td>\n",
       "      <td>[4.259762178405328, 4.219411524734249, 4.17682...</td>\n",
       "      <td>2</td>\n",
       "      <td>47.481007</td>\n",
       "      <td>3.410862</td>\n",
       "      <td>5.282681</td>\n",
       "    </tr>\n",
       "    <tr>\n",
       "      <th>1026</th>\n",
       "      <td>HEC006\\novel7</td>\n",
       "      <td>103</td>\n",
       "      <td>2</td>\n",
       "      <td>[0, 5, 3, 4, 2, 2, 5, 4, 3, 3, 6, 5, 3, 4, 3, ...</td>\n",
       "      <td>0</td>\n",
       "      <td>[7.331032081529645, 7.030678299130759, 6.78042...</td>\n",
       "      <td>2</td>\n",
       "      <td>89.866039</td>\n",
       "      <td>4.969286</td>\n",
       "      <td>7.897065</td>\n",
       "    </tr>\n",
       "    <tr>\n",
       "      <th>1027</th>\n",
       "      <td>HEC006\\novel7</td>\n",
       "      <td>104</td>\n",
       "      <td>1</td>\n",
       "      <td>[0, 190, 257, 178, 159, 120, 140, 151, 131, 15...</td>\n",
       "      <td>2</td>\n",
       "      <td>[0.5382549959035129, 0.3135151733458751, 0.029...</td>\n",
       "      <td>2</td>\n",
       "      <td>48.624623</td>\n",
       "      <td>4.265215</td>\n",
       "      <td>6.774028</td>\n",
       "    </tr>\n",
       "    <tr>\n",
       "      <th>1028</th>\n",
       "      <td>HEC006\\novel7</td>\n",
       "      <td>104</td>\n",
       "      <td>2</td>\n",
       "      <td>[0, 7, 7, 6, 0, 4, 2, 3, 4, 2, 2, 3, 6, 2, 5, ...</td>\n",
       "      <td>0</td>\n",
       "      <td>[8.020501110795491, 7.836319245899323, 7.82784...</td>\n",
       "      <td>2</td>\n",
       "      <td>113.480974</td>\n",
       "      <td>7.729545</td>\n",
       "      <td>11.853597</td>\n",
       "    </tr>\n",
       "  </tbody>\n",
       "</table>\n",
       "</div>"
      ],
      "text/plain": [
       "     PatientExperiment Channel Cluster  \\\n",
       "1006     HEC006\\novel7     106       1   \n",
       "1007     HEC006\\novel7     106       2   \n",
       "1008     HEC006\\novel7     107       1   \n",
       "1009     HEC006\\novel7     107       2   \n",
       "1010     HEC006\\novel7     108       1   \n",
       "1011     HEC006\\novel7     105       1   \n",
       "1012     HEC006\\novel7     105       2   \n",
       "1013     HEC006\\novel7     100       1   \n",
       "1014     HEC006\\novel7     100       2   \n",
       "1015     HEC006\\novel7     100       3   \n",
       "1016     HEC006\\novel7     100       4   \n",
       "1017     HEC006\\novel7     100       5   \n",
       "1018     HEC006\\novel7     101       1   \n",
       "1019     HEC006\\novel7     101       2   \n",
       "1020     HEC006\\novel7     101       3   \n",
       "1021     HEC006\\novel7     101       4   \n",
       "1022     HEC006\\novel7     101       5   \n",
       "1023     HEC006\\novel7     102       1   \n",
       "1024     HEC006\\novel7     102       2   \n",
       "1025     HEC006\\novel7     103       1   \n",
       "1026     HEC006\\novel7     103       2   \n",
       "1027     HEC006\\novel7     104       1   \n",
       "1028     HEC006\\novel7     104       2   \n",
       "\n",
       "                                                    ISI bNoise  \\\n",
       "1006  [0, 1, 0, 0, 0, 0, 1, 1, 0, 2, 0, 0, 0, 1, 1, ...      1   \n",
       "1007  [0, 0, 0, 0, 0, 2, 0, 2, 2, 1, 0, 0, 0, 0, 0, ...      1   \n",
       "1008  [0, 1, 0, 4, 4, 0, 1, 1, 3, 1, 0, 0, 0, 0, 0, ...      1   \n",
       "1009  [0, 1, 0, 0, 1, 0, 1, 3, 2, 1, 0, 0, 0, 0, 0, ...      1   \n",
       "1010  [0, 0, 2, 0, 0, 0, 0, 0, 1, 1, 2, 0, 0, 0, 0, ...      1   \n",
       "1011  [0, 1, 0, 0, 0, 0, 1, 4, 1, 4, 4, 0, 0, 0, 0, ...      1   \n",
       "1012  [0, 0, 1, 1, 0, 0, 1, 0, 0, 1, 2, 0, 0, 1, 0, ...      1   \n",
       "1013  [0, 11, 37, 53, 53, 37, 41, 48, 46, 42, 47, 55...      2   \n",
       "1014  [0, 1, 3, 4, 6, 1, 4, 0, 2, 0, 1, 1, 4, 2, 3, ...      2   \n",
       "1015  [0, 3, 7, 2, 6, 5, 7, 6, 4, 3, 9, 4, 7, 11, 8,...      0   \n",
       "1016  [0, 0, 0, 0, 0, 0, 0, 1, 0, 0, 3, 4, 3, 0, 0, ...      0   \n",
       "1017  [0, 16, 19, 11, 8, 10, 9, 9, 7, 6, 5, 13, 5, 1...      0   \n",
       "1018  [0, 0, 4, 3, 1, 4, 4, 4, 2, 5, 0, 3, 3, 1, 4, ...      2   \n",
       "1019  [0, 0, 0, 0, 0, 0, 1, 0, 1, 1, 0, 0, 2, 1, 0, ...      0   \n",
       "1020  [0, 1, 2, 4, 1, 1, 2, 2, 2, 1, 2, 3, 3, 2, 2, ...      0   \n",
       "1021  [0, 0, 0, 0, 0, 0, 0, 0, 0, 0, 0, 1, 0, 0, 0, ...      0   \n",
       "1022  [0, 0, 0, 0, 0, 1, 0, 0, 0, 0, 0, 0, 0, 0, 0, ...      0   \n",
       "1023  [0, 6, 16, 8, 13, 12, 12, 8, 10, 10, 13, 11, 1...      0   \n",
       "1024  [0, 2, 3, 2, 1, 1, 3, 3, 1, 4, 1, 3, 4, 2, 5, ...      2   \n",
       "1025  [0, 13, 13, 29, 11, 14, 19, 14, 12, 11, 13, 23...      2   \n",
       "1026  [0, 5, 3, 4, 2, 2, 5, 4, 3, 3, 6, 5, 3, 4, 3, ...      0   \n",
       "1027  [0, 190, 257, 178, 159, 120, 140, 151, 131, 15...      2   \n",
       "1028  [0, 7, 7, 6, 0, 4, 2, 3, 4, 2, 2, 3, 6, 2, 5, ...      0   \n",
       "\n",
       "                                                   Mean  ZeroCrossings  \\\n",
       "1006  [3.7621682723734806, 4.119194152487458, 4.3560...              2   \n",
       "1007  [-10.330099280022724, -10.039275342110749, -9....              3   \n",
       "1008  [0.7380044003399401, 0.9244030406310962, 1.197...              2   \n",
       "1009  [-9.347258278803846, -8.448547927868761, -7.02...              2   \n",
       "1010  [3.9168647681570574, 4.098110216485827, 4.0094...              4   \n",
       "1011  [-19.770666649946026, -18.50220192666221, -16....              2   \n",
       "1012  [6.194538638478575, 6.2671441347556645, 6.4422...              2   \n",
       "1013  [-0.08923110227810187, -0.5338958914880273, -1...              1   \n",
       "1014  [-1.547942828255201, -1.9573210623870798, -2.1...              3   \n",
       "1015  [5.917732549896903, 6.055020863578739, 6.19651...              2   \n",
       "1016  [19.032218366579595, 18.92829283956088, 18.680...              2   \n",
       "1017  [4.72680571100902, 4.457010426154337, 4.192175...              2   \n",
       "1018  [2.9332065631812374, 2.836720368276292, 2.7338...              2   \n",
       "1019  [3.5041450224052917, 3.433929918432683, 3.4050...              2   \n",
       "1020  [5.93071544148342, 5.890194893402565, 5.818623...              2   \n",
       "1021  [6.154634460277215, 6.168812800789609, 6.55264...              2   \n",
       "1022  [5.264270730687422, 4.5593930922749, 3.7308700...              2   \n",
       "1023  [3.732296703340961, 3.727171706549985, 3.71163...              2   \n",
       "1024  [-0.5602731326071725, -0.8528639965189203, -1....              1   \n",
       "1025  [4.259762178405328, 4.219411524734249, 4.17682...              2   \n",
       "1026  [7.331032081529645, 7.030678299130759, 6.78042...              2   \n",
       "1027  [0.5382549959035129, 0.3135151733458751, 0.029...              2   \n",
       "1028  [8.020501110795491, 7.836319245899323, 7.82784...              2   \n",
       "\n",
       "       Amplitude  derivative_peak  derivative_max  \n",
       "1006   51.658763         5.665918        8.832562  \n",
       "1007   54.153655        -4.846350        8.364436  \n",
       "1008   47.373496         5.895468        9.118828  \n",
       "1009   52.200807        -5.369523        8.640624  \n",
       "1010   47.634766         5.650824        8.758860  \n",
       "1011   72.588824        -4.758389        8.486191  \n",
       "1012   64.417368         5.626229        8.859376  \n",
       "1013   47.529477         3.416334        5.475024  \n",
       "1014   44.803954         4.790383        7.404051  \n",
       "1015   56.888472         4.166212        6.263434  \n",
       "1016  313.033939        31.199284       48.023549  \n",
       "1017  100.976087         8.383163       12.754087  \n",
       "1018   40.729487         3.592203        5.594207  \n",
       "1019   54.679953         3.753469        7.222059  \n",
       "1020   55.253096         3.405230        5.230955  \n",
       "1021  103.868906         8.207129       12.694589  \n",
       "1022  164.704978        12.592013       19.030476  \n",
       "1023   51.357004         4.098048        6.275761  \n",
       "1024   48.274347         4.204171        6.856612  \n",
       "1025   47.481007         3.410862        5.282681  \n",
       "1026   89.866039         4.969286        7.897065  \n",
       "1027   48.624623         4.265215        6.774028  \n",
       "1028  113.480974         7.729545       11.853597  "
      ]
     },
     "execution_count": 145,
     "metadata": {},
     "output_type": "execute_result"
    }
   ],
   "source": [
    "data[data.PatientExperiment == 'HEC006\\\\novel7']"
   ]
  },
  {
   "cell_type": "code",
   "execution_count": 142,
   "metadata": {},
   "outputs": [
    {
     "data": {
      "text/plain": [
       "array(['HEC016\\\\016context1\\\\016context1',\n",
       "       'HEC017\\\\017context2\\\\017context2_prescr',\n",
       "       'HEC017\\\\017context2\\\\017context2_postscr',\n",
       "       'HEC018\\\\fanis2\\\\000lfpscr_context_post',\n",
       "       'HEC018\\\\fanis2\\\\000lfpscr_context_pre',\n",
       "       'HEC022\\\\fanis2\\\\002lfpscr_context_post',\n",
       "       'HEC017\\\\017context1\\\\017context1_prescr',\n",
       "       'HEC017\\\\017context1\\\\017context1_postscr', 'HEC017\\\\017context2',\n",
       "       'HEC018\\\\fanis1-HEC18\\\\001lfpscr_context_pre', 'HEC006\\\\novel1',\n",
       "       'HEC006\\\\novel3', 'HEC006\\\\novel4', 'HEC006\\\\novel6',\n",
       "       'HEC006\\\\novel7', 'HEC006\\\\novel8', 'HEC008\\\\novel3',\n",
       "       'HEC008\\\\novel4', 'HEC010\\\\novel1_F1', 'HEC020\\\\invariance2',\n",
       "       'HEC022\\\\fanis1\\\\001lfpscr_context_pre',\n",
       "       'HEC022\\\\fanis2\\\\002lfpscr_context_pre',\n",
       "       'HEC022\\\\fanis3\\\\003lfpscr_context_post',\n",
       "       'HEC031\\\\HEC031_rsvpscr1', 'HEC031\\\\HEC031_rsvpscr2',\n",
       "       'HEC031\\\\HEC031_rsvpscr3', 'HEC031\\\\HEC031_rsvpscr5',\n",
       "       'HEC031\\\\HEC031_rsvpscr6', 'HEC031\\\\HEC031_rsvpscr7',\n",
       "       'HEC031\\\\HEC031_rsvpscr8', 'HEC031\\\\HEC031_rsvpscr10',\n",
       "       'HEC031\\\\HEC031_rsvpscr11', 'HEC031\\\\HEC031_rsvpscr13',\n",
       "       'HEC031\\\\HEC031_rsvpscr14', 'HEC031\\\\HEC031_rsvpscr15',\n",
       "       'HEC031\\\\HEC031_rsvpscr16', 'HEC031\\\\HEC031_story1',\n",
       "       'HEC031\\\\HEC031_story2', 'HEC030\\\\HEC030_rsvpscr2',\n",
       "       'HEC030\\\\HEC030_rsvpscr3', 'HEC030\\\\HEC030_rsvpscr6',\n",
       "       'HEC030\\\\HEC030_rsvpscr8', 'HEC030\\\\HEC030_rsvpscr9',\n",
       "       'HEC030\\\\HEC030_rsvpscr10', 'HEC030\\\\HEC030_rsvpscr13',\n",
       "       'HEC030\\\\HEC030_rsvpscr14', 'HEC030\\\\HEC030_story1',\n",
       "       'HEC030\\\\HEC030_story2', 'HEC030\\\\HEC030_story3',\n",
       "       'HEC030\\\\HEC030_story4', 'HEC030\\\\HEC030_story5',\n",
       "       'HEC032\\\\HEC032_rsvpscr12', 'HEC032\\\\HEC032_rsvpscr13',\n",
       "       'HEC032\\\\HEC032_rsvpscr14', 'HEC032\\\\HEC032_rsvpscr15',\n",
       "       'HEC032\\\\HEC032_rsvpscr16', 'HEC032\\\\HEC032_rsvpscr17',\n",
       "       'HEC032\\\\HEC032_rsvpscr18', 'HEC032\\\\HEC032_rsvpscr19',\n",
       "       'HEC032\\\\HEC032_story1'], dtype=object)"
      ]
     },
     "execution_count": 142,
     "metadata": {},
     "output_type": "execute_result"
    }
   ],
   "source": [
    "data.PatientExperiment.unique()"
   ]
  },
  {
   "cell_type": "code",
   "execution_count": 8,
   "metadata": {},
   "outputs": [],
   "source": [
    "data = data[data.PatientExperiment.str.contains('HEC030|HEC031|HEC032')]\n",
    "data = data.groupby('PatientExperiment')"
   ]
  },
  {
   "cell_type": "code",
   "execution_count": 10,
   "metadata": {},
   "outputs": [
    {
     "data": {
      "text/plain": [
       "PatientExperiment\n",
       "HEC030\\HEC030_rsvpscr10     9\n",
       "HEC030\\HEC030_rsvpscr13     8\n",
       "HEC030\\HEC030_rsvpscr14     1\n",
       "HEC030\\HEC030_rsvpscr2     33\n",
       "HEC030\\HEC030_rsvpscr3      5\n",
       "HEC030\\HEC030_rsvpscr6     26\n",
       "HEC030\\HEC030_rsvpscr8      3\n",
       "HEC030\\HEC030_rsvpscr9      3\n",
       "HEC030\\HEC030_story1        3\n",
       "HEC030\\HEC030_story2        4\n",
       "HEC030\\HEC030_story3       11\n",
       "HEC030\\HEC030_story4        4\n",
       "HEC030\\HEC030_story5        4\n",
       "HEC031\\HEC031_rsvpscr1      2\n",
       "HEC031\\HEC031_rsvpscr10     3\n",
       "HEC031\\HEC031_rsvpscr11     3\n",
       "HEC031\\HEC031_rsvpscr13     5\n",
       "HEC031\\HEC031_rsvpscr14     2\n",
       "HEC031\\HEC031_rsvpscr15     1\n",
       "HEC031\\HEC031_rsvpscr16     5\n",
       "HEC031\\HEC031_rsvpscr2      1\n",
       "HEC031\\HEC031_rsvpscr3      5\n",
       "HEC031\\HEC031_rsvpscr5      3\n",
       "HEC031\\HEC031_rsvpscr6      4\n",
       "HEC031\\HEC031_rsvpscr7     13\n",
       "HEC031\\HEC031_rsvpscr8     20\n",
       "HEC031\\HEC031_story1        3\n",
       "HEC031\\HEC031_story2        4\n",
       "HEC032\\HEC032_rsvpscr12     4\n",
       "HEC032\\HEC032_rsvpscr13     2\n",
       "HEC032\\HEC032_rsvpscr14     1\n",
       "HEC032\\HEC032_rsvpscr15     2\n",
       "HEC032\\HEC032_rsvpscr16     1\n",
       "HEC032\\HEC032_rsvpscr17     1\n",
       "HEC032\\HEC032_rsvpscr18     4\n",
       "HEC032\\HEC032_rsvpscr19     2\n",
       "HEC032\\HEC032_story1        1\n",
       "dtype: int64"
      ]
     },
     "execution_count": 10,
     "metadata": {},
     "output_type": "execute_result"
    }
   ],
   "source": [
    "data.size()"
   ]
  },
  {
   "cell_type": "code",
   "execution_count": null,
   "metadata": {},
   "outputs": [],
   "source": []
  }
 ],
 "metadata": {
  "kernelspec": {
   "display_name": "Python 3",
   "language": "python",
   "name": "python3"
  },
  "language_info": {
   "codemirror_mode": {
    "name": "ipython",
    "version": 3
   },
   "file_extension": ".py",
   "mimetype": "text/x-python",
   "name": "python",
   "nbconvert_exporter": "python",
   "pygments_lexer": "ipython3",
   "version": "3.7.6"
  },
  "widgets": {
   "application/vnd.jupyter.widget-state+json": {
    "state": {
     "0900782fcfaf4a418255c4f346197480": {
      "model_module": "@jupyter-widgets/base",
      "model_module_version": "1.2.0",
      "model_name": "LayoutModel",
      "state": {}
     },
     "0dd9ae7da182407c85582f5bced66617": {
      "model_module": "jupyter-matplotlib",
      "model_module_version": "^0.7.2",
      "model_name": "ToolbarModel",
      "state": {
       "layout": "IPY_MODEL_dcdf03be14354a8b90cb7ff40e2a5849",
       "toolitems": [
        [
         "Home",
         "Reset original view",
         "home",
         "home"
        ],
        [
         "Back",
         "Back to previous view",
         "arrow-left",
         "back"
        ],
        [
         "Forward",
         "Forward to next view",
         "arrow-right",
         "forward"
        ],
        [
         "Pan",
         "Pan axes with left mouse, zoom with right",
         "arrows",
         "pan"
        ],
        [
         "Zoom",
         "Zoom to rectangle",
         "square-o",
         "zoom"
        ],
        [
         "Download",
         "Download plot",
         "floppy-o",
         "save_figure"
        ]
       ]
      }
     },
     "0e4e26e792ba4ce9ae82a755421b9e02": {
      "model_module": "jupyter-matplotlib",
      "model_module_version": "^0.7.2",
      "model_name": "MPLCanvasModel",
      "state": {
       "_figure_label": "Figure 2",
       "_height": 480,
       "_image_mode": "diff",
       "_width": 640,
       "layout": "IPY_MODEL_ec79fa81c0044e68939dccd0a35a6f68",
       "toolbar": "IPY_MODEL_c1f346fce9e24c89b9813d0fde8b16ea",
       "toolbar_position": "left"
      }
     },
     "1577b58065b046b9a3fc78313f87861a": {
      "model_module": "jupyter-matplotlib",
      "model_module_version": "^0.7.2",
      "model_name": "ToolbarModel",
      "state": {
       "layout": "IPY_MODEL_ce5f82f8a6824cc197aaa322dca5eb1b",
       "toolitems": [
        [
         "Home",
         "Reset original view",
         "home",
         "home"
        ],
        [
         "Back",
         "Back to previous view",
         "arrow-left",
         "back"
        ],
        [
         "Forward",
         "Forward to next view",
         "arrow-right",
         "forward"
        ],
        [
         "Pan",
         "Pan axes with left mouse, zoom with right",
         "arrows",
         "pan"
        ],
        [
         "Zoom",
         "Zoom to rectangle",
         "square-o",
         "zoom"
        ],
        [
         "Download",
         "Download plot",
         "floppy-o",
         "save_figure"
        ]
       ]
      }
     },
     "6f28c19802dc4889b30f31be89951165": {
      "model_module": "jupyter-matplotlib",
      "model_module_version": "^0.7.2",
      "model_name": "MPLCanvasModel",
      "state": {
       "_figure_label": "Figure 1",
       "_height": 480,
       "_image_mode": "diff",
       "_width": 640,
       "layout": "IPY_MODEL_a975d2c571464992b599e3c51204948f",
       "toolbar": "IPY_MODEL_0dd9ae7da182407c85582f5bced66617",
       "toolbar_position": "left"
      }
     },
     "a975d2c571464992b599e3c51204948f": {
      "model_module": "@jupyter-widgets/base",
      "model_module_version": "1.2.0",
      "model_name": "LayoutModel",
      "state": {}
     },
     "c1f346fce9e24c89b9813d0fde8b16ea": {
      "model_module": "jupyter-matplotlib",
      "model_module_version": "^0.7.2",
      "model_name": "ToolbarModel",
      "state": {
       "layout": "IPY_MODEL_ddf7088700a54483ae17828e18a33f00",
       "toolitems": [
        [
         "Home",
         "Reset original view",
         "home",
         "home"
        ],
        [
         "Back",
         "Back to previous view",
         "arrow-left",
         "back"
        ],
        [
         "Forward",
         "Forward to next view",
         "arrow-right",
         "forward"
        ],
        [
         "Pan",
         "Pan axes with left mouse, zoom with right",
         "arrows",
         "pan"
        ],
        [
         "Zoom",
         "Zoom to rectangle",
         "square-o",
         "zoom"
        ],
        [
         "Download",
         "Download plot",
         "floppy-o",
         "save_figure"
        ]
       ]
      }
     },
     "ce5f82f8a6824cc197aaa322dca5eb1b": {
      "model_module": "@jupyter-widgets/base",
      "model_module_version": "1.2.0",
      "model_name": "LayoutModel",
      "state": {}
     },
     "dcdf03be14354a8b90cb7ff40e2a5849": {
      "model_module": "@jupyter-widgets/base",
      "model_module_version": "1.2.0",
      "model_name": "LayoutModel",
      "state": {}
     },
     "ddf7088700a54483ae17828e18a33f00": {
      "model_module": "@jupyter-widgets/base",
      "model_module_version": "1.2.0",
      "model_name": "LayoutModel",
      "state": {}
     },
     "ec79fa81c0044e68939dccd0a35a6f68": {
      "model_module": "@jupyter-widgets/base",
      "model_module_version": "1.2.0",
      "model_name": "LayoutModel",
      "state": {}
     },
     "f8ed2d1301a74d7b8bfa1cba297192dd": {
      "model_module": "jupyter-matplotlib",
      "model_module_version": "^0.7.2",
      "model_name": "MPLCanvasModel",
      "state": {
       "_figure_label": "Figure 3",
       "_height": 1000,
       "_image_mode": "diff",
       "_message": "x=-158.668     y=0.0263502   ",
       "_width": 1000,
       "layout": "IPY_MODEL_0900782fcfaf4a418255c4f346197480",
       "toolbar": "IPY_MODEL_1577b58065b046b9a3fc78313f87861a",
       "toolbar_position": "left"
      }
     }
    },
    "version_major": 2,
    "version_minor": 0
   }
  }
 },
 "nbformat": 4,
 "nbformat_minor": 4
}
