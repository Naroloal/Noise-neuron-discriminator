{
 "cells": [
  {
   "cell_type": "code",
   "execution_count": 720,
   "metadata": {},
   "outputs": [],
   "source": [
    "from scipy import stats\n",
    "%matplotlib widget\n",
    "from scipy.io import loadmat\n",
    "import numpy as np\n",
    "import pandas as pd\n",
    "import matplotlib.pyplot as plt\n",
    "import seaborn as sbn\n",
    "import matplotlib.cm as cm\n",
    "from Funciones_auxiliares import Mat_to_dataframe,see_teams,get_cluster_indexs,plot_branch,plot_teams,find_mix\n",
    "from scipy import cluster\n",
    "import scipy as sp\n",
    "import math\n"
   ]
  },
  {
   "cell_type": "markdown",
   "metadata": {},
   "source": [
    "### Importamos la data"
   ]
  },
  {
   "cell_type": "code",
   "execution_count": 760,
   "metadata": {},
   "outputs": [
    {
     "data": {
      "application/vnd.jupyter.widget-view+json": {
       "model_id": "2427c2f6f76b4ccea9566f379c5f820e",
       "version_major": 2,
       "version_minor": 0
      },
      "text/plain": [
       "Canvas(toolbar=Toolbar(toolitems=[('Home', 'Reset original view', 'home', 'home'), ('Back', 'Back to previous …"
      ]
     },
     "metadata": {},
     "output_type": "display_data"
    },
    {
     "name": "stdout",
     "output_type": "stream",
     "text": [
      "First df has 206\n",
      "Second df has 811\n",
      "Third df has 560\n"
     ]
    }
   ],
   "source": [
    "plt.close('all')\n",
    "plt.clf()\n",
    "plt.close()\n",
    "data = pd.read_pickle('Datos/PCCIBNMZc')\n",
    "data['Mean'] = data.Bulk.apply(lambda row: np.mean(row,axis = 0))\n",
    "data['Mean'] = (data['Mean'] - data.Mean.apply(lambda row:np.mean(row)))/data.Mean.apply(lambda row:np.std(row))\n",
    "del data['Bulk']\n",
    "Maindf =  data[data.PatientExperiment.str.contains('HEC030|HEC031|HEC032|HEC034')]\n",
    "Second_df = data[data.PatientExperiment.str.contains('HEC018|HEC020|HEC022|HEC017')]\n",
    "Third_df = data[data.PatientExperiment.str.contains('HEC006|HEC008|HEC010|HEC016')]\n",
    "print('First df has',len(Maindf))\n",
    "print('Second df has',len(Second_df))\n",
    "print('Third df has',len(Third_df))\n"
   ]
  },
  {
   "cell_type": "markdown",
   "metadata": {},
   "source": [
    "## Usamos el primer dataframe"
   ]
  },
  {
   "cell_type": "markdown",
   "metadata": {},
   "source": [
    "Concatenamos y estudiamos el tamanio"
   ]
  },
  {
   "cell_type": "code",
   "execution_count": 761,
   "metadata": {},
   "outputs": [
    {
     "name": "stdout",
     "output_type": "stream",
     "text": [
      "there are 165 noises and 41 neurons\n"
     ]
    }
   ],
   "source": [
    "Noise = Maindf[Maindf.bNoise == 1]\n",
    "Noise.reset_index(inplace = True)\n",
    "Neuron = Maindf[Maindf.bNoise == 0]\n",
    "Neuron.reset_index(inplace = True)\n",
    "Mu = Maindf[Maindf.bNoise == 2]\n",
    "Mu.reset_index(inplace = True)\n",
    "\n",
    "df = pd.concat([Neuron,Mu,Noise],ignore_index = True,sort = False)\n",
    "t = df[df.bNoise == 1].index[0]\n",
    "print('there are',len(df) - t,'noises and', t,'neurons')"
   ]
  },
  {
   "cell_type": "markdown",
   "metadata": {},
   "source": [
    "Calculamos la matriz de correlacion"
   ]
  },
  {
   "cell_type": "code",
   "execution_count": 762,
   "metadata": {},
   "outputs": [],
   "source": [
    "Mean= pd.DataFrame(np.array(df.Mean.to_list()))\n",
    "Corr = Mean.T.corr()\n",
    "Corr = Corr.values"
   ]
  },
  {
   "cell_type": "code",
   "execution_count": 763,
   "metadata": {},
   "outputs": [],
   "source": [
    "threshold2 = 0.99 # For Pearson is defined as 1 - correlation"
   ]
  },
  {
   "cell_type": "markdown",
   "metadata": {},
   "source": [
    "Separamos en correlaciones entre ruidos y correlaciones mezcladas"
   ]
  },
  {
   "cell_type": "code",
   "execution_count": 764,
   "metadata": {},
   "outputs": [],
   "source": [
    "Noise_corr = Corr[t:,t:]\n",
    "Neu_noi_corr = Corr[t:,:t]\n",
    "Noise_correlated = np.where(Noise_corr>threshold2)\n",
    "Neuron_noise_correlated = np.where(Neu_noi_corr > threshold2)"
   ]
  },
  {
   "cell_type": "code",
   "execution_count": 765,
   "metadata": {},
   "outputs": [
    {
     "data": {
      "application/vnd.jupyter.widget-view+json": {
       "model_id": "8d0291e09fdb4a608ee2f5d74dc0499e",
       "version_major": 2,
       "version_minor": 0
      },
      "text/plain": [
       "Canvas(toolbar=Toolbar(toolitems=[('Home', 'Reset original view', 'home', 'home'), ('Back', 'Back to previous …"
      ]
     },
     "metadata": {},
     "output_type": "display_data"
    },
    {
     "data": {
      "text/plain": [
       "<matplotlib.colorbar.Colorbar at 0x7fbb2084cf90>"
      ]
     },
     "execution_count": 765,
     "metadata": {},
     "output_type": "execute_result"
    }
   ],
   "source": [
    "plt.figure()\n",
    "plt.title('Noise correlation')\n",
    "plt.imshow(Noise_corr)\n",
    "plt.colorbar()"
   ]
  },
  {
   "cell_type": "markdown",
   "metadata": {},
   "source": [
    "Cuantas neuronas fueron capturadas por los ruidos?"
   ]
  },
  {
   "cell_type": "code",
   "execution_count": 766,
   "metadata": {},
   "outputs": [
    {
     "name": "stdout",
     "output_type": "stream",
     "text": [
      "0 neurons were captured by the noise-database\n",
      "this represents 0.0 % of neurons\n"
     ]
    }
   ],
   "source": [
    "Neuron_noise_correlated\n",
    "Neurons_captured = set(Neuron_noise_correlated[1])\n",
    "print(len(Neurons_captured),'neurons were captured by the noise-database')\n",
    "print('this represents',len(Neurons_captured)/t*100,'% of neurons' )"
   ]
  },
  {
   "cell_type": "markdown",
   "metadata": {},
   "source": [
    "Cuantas son los ruidos responsables?"
   ]
  },
  {
   "cell_type": "code",
   "execution_count": 767,
   "metadata": {},
   "outputs": [
    {
     "name": "stdout",
     "output_type": "stream",
     "text": [
      "0 noises are responsible for the captured neurons\n"
     ]
    }
   ],
   "source": [
    "bad_noises = set(Neuron_noise_correlated[0] + t)\n",
    "print(len(bad_noises), 'noises are responsible for the captured neurons')"
   ]
  },
  {
   "cell_type": "markdown",
   "metadata": {},
   "source": [
    "Tiramos estos ruidos"
   ]
  },
  {
   "cell_type": "code",
   "execution_count": 768,
   "metadata": {},
   "outputs": [
    {
     "data": {
      "text/html": [
       "<div>\n",
       "<style scoped>\n",
       "    .dataframe tbody tr th:only-of-type {\n",
       "        vertical-align: middle;\n",
       "    }\n",
       "\n",
       "    .dataframe tbody tr th {\n",
       "        vertical-align: top;\n",
       "    }\n",
       "\n",
       "    .dataframe thead th {\n",
       "        text-align: right;\n",
       "    }\n",
       "</style>\n",
       "<table border=\"1\" class=\"dataframe\">\n",
       "  <thead>\n",
       "    <tr style=\"text-align: right;\">\n",
       "      <th></th>\n",
       "      <th>index</th>\n",
       "      <th>PatientExperiment</th>\n",
       "      <th>Channel</th>\n",
       "      <th>Cluster</th>\n",
       "      <th>ISI</th>\n",
       "      <th>bNoise</th>\n",
       "      <th>Mean</th>\n",
       "      <th>ZeroCrossings</th>\n",
       "    </tr>\n",
       "  </thead>\n",
       "  <tbody>\n",
       "    <tr>\n",
       "      <th>0</th>\n",
       "      <td>1371</td>\n",
       "      <td>HEC031\\HEC031_rsvpscr1</td>\n",
       "      <td>67</td>\n",
       "      <td>2</td>\n",
       "      <td>[0, 19, 48, 29, 22, 27, 40, 29, 28, 34, 22, 13...</td>\n",
       "      <td>0</td>\n",
       "      <td>[0.46205828764700624, 0.45961202320080163, 0.4...</td>\n",
       "      <td>2</td>\n",
       "    </tr>\n",
       "    <tr>\n",
       "      <th>1</th>\n",
       "      <td>1372</td>\n",
       "      <td>HEC031\\HEC031_rsvpscr1</td>\n",
       "      <td>83</td>\n",
       "      <td>3</td>\n",
       "      <td>[0, 0, 0, 0, 1, 10, 20, 34, 57, 84, 122, 145, ...</td>\n",
       "      <td>0</td>\n",
       "      <td>[0.307245663696955, 0.293584475713073, 0.28363...</td>\n",
       "      <td>2</td>\n",
       "    </tr>\n",
       "    <tr>\n",
       "      <th>2</th>\n",
       "      <td>1373</td>\n",
       "      <td>HEC031\\HEC031_rsvpscr2</td>\n",
       "      <td>69</td>\n",
       "      <td>2</td>\n",
       "      <td>[0, 2, 2, 0, 6, 16, 10, 8, 4, 2, 7, 0, 1, 3, 1...</td>\n",
       "      <td>0</td>\n",
       "      <td>[0.4699860513025339, 0.461210171311911, 0.4574...</td>\n",
       "      <td>2</td>\n",
       "    </tr>\n",
       "    <tr>\n",
       "      <th>3</th>\n",
       "      <td>1374</td>\n",
       "      <td>HEC031\\HEC031_rsvpscr3</td>\n",
       "      <td>71</td>\n",
       "      <td>4</td>\n",
       "      <td>[0, 0, 0, 0, 1, 0, 0, 0, 1, 0, 0, 0, 0, 1, 1, ...</td>\n",
       "      <td>0</td>\n",
       "      <td>[0.47835373666881453, 0.48100577398280886, 0.4...</td>\n",
       "      <td>2</td>\n",
       "    </tr>\n",
       "    <tr>\n",
       "      <th>4</th>\n",
       "      <td>1375</td>\n",
       "      <td>HEC031\\HEC031_rsvpscr3</td>\n",
       "      <td>74</td>\n",
       "      <td>2</td>\n",
       "      <td>[0, 1, 1, 0, 0, 1, 1, 2, 3, 4, 5, 2, 4, 5, 6, ...</td>\n",
       "      <td>0</td>\n",
       "      <td>[0.3667226811380243, 0.3735720464271817, 0.371...</td>\n",
       "      <td>2</td>\n",
       "    </tr>\n",
       "    <tr>\n",
       "      <th>...</th>\n",
       "      <td>...</td>\n",
       "      <td>...</td>\n",
       "      <td>...</td>\n",
       "      <td>...</td>\n",
       "      <td>...</td>\n",
       "      <td>...</td>\n",
       "      <td>...</td>\n",
       "      <td>...</td>\n",
       "    </tr>\n",
       "    <tr>\n",
       "      <th>201</th>\n",
       "      <td>1572</td>\n",
       "      <td>HEC032\\HEC032_rsvpscr18</td>\n",
       "      <td>84</td>\n",
       "      <td>7</td>\n",
       "      <td>[0, 3, 173, 18, 64, 78, 26, 30, 30, 23, 36, 12...</td>\n",
       "      <td>1</td>\n",
       "      <td>[0.21780957951268345, 0.11159837299633442, 0.0...</td>\n",
       "      <td>2</td>\n",
       "    </tr>\n",
       "    <tr>\n",
       "      <th>202</th>\n",
       "      <td>1573</td>\n",
       "      <td>HEC032\\HEC032_rsvpscr18</td>\n",
       "      <td>84</td>\n",
       "      <td>8</td>\n",
       "      <td>[0, 20, 224, 38, 38, 15, 16, 19, 4, 4, 6, 3, 4...</td>\n",
       "      <td>1</td>\n",
       "      <td>[1.694084884589133, 1.7052796411176798, 1.6715...</td>\n",
       "      <td>4</td>\n",
       "    </tr>\n",
       "    <tr>\n",
       "      <th>203</th>\n",
       "      <td>1574</td>\n",
       "      <td>HEC032\\HEC032_rsvpscr19</td>\n",
       "      <td>66</td>\n",
       "      <td>2</td>\n",
       "      <td>[0, 5, 17, 20, 7, 4, 3, 4, 3, 1, 0, 1, 2, 0, 0...</td>\n",
       "      <td>1</td>\n",
       "      <td>[1.0145492433622894, 1.152869406086479, 1.2228...</td>\n",
       "      <td>4</td>\n",
       "    </tr>\n",
       "    <tr>\n",
       "      <th>204</th>\n",
       "      <td>1575</td>\n",
       "      <td>HEC032\\HEC032_rsvpscr19</td>\n",
       "      <td>68</td>\n",
       "      <td>2</td>\n",
       "      <td>[0, 0, 0, 0, 0, 0, 0, 0, 0, 0, 0, 0, 0, 0, 0, ...</td>\n",
       "      <td>1</td>\n",
       "      <td>[0.4941874471216272, 0.4610334984942442, 0.463...</td>\n",
       "      <td>9</td>\n",
       "    </tr>\n",
       "    <tr>\n",
       "      <th>205</th>\n",
       "      <td>1576</td>\n",
       "      <td>HEC032\\HEC032_story1</td>\n",
       "      <td>67</td>\n",
       "      <td>2</td>\n",
       "      <td>[0, 0, 0, 0, 0, 0, 0, 0, 0, 0, 0, 0, 0, 0, 0, ...</td>\n",
       "      <td>1</td>\n",
       "      <td>[0.22602934003342504, 0.2378644402212188, 0.25...</td>\n",
       "      <td>9</td>\n",
       "    </tr>\n",
       "  </tbody>\n",
       "</table>\n",
       "<p>206 rows × 8 columns</p>\n",
       "</div>"
      ],
      "text/plain": [
       "     index        PatientExperiment Channel Cluster  \\\n",
       "0     1371   HEC031\\HEC031_rsvpscr1      67       2   \n",
       "1     1372   HEC031\\HEC031_rsvpscr1      83       3   \n",
       "2     1373   HEC031\\HEC031_rsvpscr2      69       2   \n",
       "3     1374   HEC031\\HEC031_rsvpscr3      71       4   \n",
       "4     1375   HEC031\\HEC031_rsvpscr3      74       2   \n",
       "..     ...                      ...     ...     ...   \n",
       "201   1572  HEC032\\HEC032_rsvpscr18      84       7   \n",
       "202   1573  HEC032\\HEC032_rsvpscr18      84       8   \n",
       "203   1574  HEC032\\HEC032_rsvpscr19      66       2   \n",
       "204   1575  HEC032\\HEC032_rsvpscr19      68       2   \n",
       "205   1576     HEC032\\HEC032_story1      67       2   \n",
       "\n",
       "                                                   ISI bNoise  \\\n",
       "0    [0, 19, 48, 29, 22, 27, 40, 29, 28, 34, 22, 13...      0   \n",
       "1    [0, 0, 0, 0, 1, 10, 20, 34, 57, 84, 122, 145, ...      0   \n",
       "2    [0, 2, 2, 0, 6, 16, 10, 8, 4, 2, 7, 0, 1, 3, 1...      0   \n",
       "3    [0, 0, 0, 0, 1, 0, 0, 0, 1, 0, 0, 0, 0, 1, 1, ...      0   \n",
       "4    [0, 1, 1, 0, 0, 1, 1, 2, 3, 4, 5, 2, 4, 5, 6, ...      0   \n",
       "..                                                 ...    ...   \n",
       "201  [0, 3, 173, 18, 64, 78, 26, 30, 30, 23, 36, 12...      1   \n",
       "202  [0, 20, 224, 38, 38, 15, 16, 19, 4, 4, 6, 3, 4...      1   \n",
       "203  [0, 5, 17, 20, 7, 4, 3, 4, 3, 1, 0, 1, 2, 0, 0...      1   \n",
       "204  [0, 0, 0, 0, 0, 0, 0, 0, 0, 0, 0, 0, 0, 0, 0, ...      1   \n",
       "205  [0, 0, 0, 0, 0, 0, 0, 0, 0, 0, 0, 0, 0, 0, 0, ...      1   \n",
       "\n",
       "                                                  Mean  ZeroCrossings  \n",
       "0    [0.46205828764700624, 0.45961202320080163, 0.4...              2  \n",
       "1    [0.307245663696955, 0.293584475713073, 0.28363...              2  \n",
       "2    [0.4699860513025339, 0.461210171311911, 0.4574...              2  \n",
       "3    [0.47835373666881453, 0.48100577398280886, 0.4...              2  \n",
       "4    [0.3667226811380243, 0.3735720464271817, 0.371...              2  \n",
       "..                                                 ...            ...  \n",
       "201  [0.21780957951268345, 0.11159837299633442, 0.0...              2  \n",
       "202  [1.694084884589133, 1.7052796411176798, 1.6715...              4  \n",
       "203  [1.0145492433622894, 1.152869406086479, 1.2228...              4  \n",
       "204  [0.4941874471216272, 0.4610334984942442, 0.463...              9  \n",
       "205  [0.22602934003342504, 0.2378644402212188, 0.25...              9  \n",
       "\n",
       "[206 rows x 8 columns]"
      ]
     },
     "execution_count": 768,
     "metadata": {},
     "output_type": "execute_result"
    }
   ],
   "source": [
    "New_df = df.drop(bad_noises)\n",
    "New_df"
   ]
  },
  {
   "cell_type": "markdown",
   "metadata": {},
   "source": [
    "Repetimos todo el proceso y verificamos que no hayan neuronas encontradas"
   ]
  },
  {
   "cell_type": "code",
   "execution_count": 769,
   "metadata": {},
   "outputs": [
    {
     "name": "stdout",
     "output_type": "stream",
     "text": [
      "206\n",
      "0 neurons were captured\n"
     ]
    }
   ],
   "source": [
    "New_df.reset_index(drop = True)\n",
    "t = New_df[New_df.bNoise == 1].index[0]\n",
    "print(len(New_df))\n",
    "Mean= pd.DataFrame(np.array(New_df.Mean.to_list()))\n",
    "Corr = Mean.T.corr()\n",
    "Corr = Corr.values\n",
    "Noise_corr = Corr[t:,t:]\n",
    "Neu_noi_corr = Corr[t:,:t]\n",
    "Noise_correlated = np.where(Noise_corr>threshold2)\n",
    "Neuron_noise_correlated = np.where(Neu_noi_corr > threshold2)\n",
    "Neuron_noise_correlated\n",
    "Neurons_captured = set(Neuron_noise_correlated[1])\n",
    "print(len(Neurons_captured),'neurons were captured')"
   ]
  },
  {
   "cell_type": "markdown",
   "metadata": {},
   "source": [
    "## Concatenamos con el segundo dataframe"
   ]
  },
  {
   "cell_type": "markdown",
   "metadata": {},
   "source": [
    "Repetimos exactamente el mismo proceso, guardo separadamente el ruido anterior para saber cuanto ruido puedo encontrar"
   ]
  },
  {
   "cell_type": "code",
   "execution_count": 770,
   "metadata": {},
   "outputs": [],
   "source": [
    "Noise_old = Noise\n",
    "t2 = len(Noise_old)"
   ]
  },
  {
   "cell_type": "markdown",
   "metadata": {},
   "source": [
    "Agrego solamente las neuronas."
   ]
  },
  {
   "cell_type": "code",
   "execution_count": 771,
   "metadata": {},
   "outputs": [
    {
     "name": "stdout",
     "output_type": "stream",
     "text": [
      "446 elements are in the df\n",
      "281 elements are neurons. 165 elements are noises\n"
     ]
    }
   ],
   "source": [
    "df = pd.concat([Second_df,New_df],ignore_index=True,sort = False)\n",
    "Noise = df[df.bNoise == 1]\n",
    "Noise.reset_index(inplace = True)\n",
    "Neuron = df[df.bNoise == 0]\n",
    "Neuron.reset_index(inplace = True)\n",
    "Mu = df[df.bNoise == 2]\n",
    "Mu.reset_index(inplace = True)\n",
    "\n",
    "df = pd.concat([Neuron,Mu,Noise_old],ignore_index = True,sort = False)\n",
    "t = df[df.bNoise == 1].index[0]\n",
    "print(len(df),'elements are in the df')\n",
    "print(len(df[df.bNoise != 1]),'elements are neurons.',len(df[df.bNoise == 1]),'elements are noises')\n"
   ]
  },
  {
   "cell_type": "code",
   "execution_count": 772,
   "metadata": {},
   "outputs": [],
   "source": [
    "Mean= pd.DataFrame(np.array(df.Mean.to_list()))\n",
    "Corr = Mean.T.corr()\n",
    "Corr = Corr.values"
   ]
  },
  {
   "cell_type": "code",
   "execution_count": 773,
   "metadata": {},
   "outputs": [],
   "source": [
    "Noise_corr = Corr[t:,t:]\n",
    "Neu_noi_corr = Corr[t:,:t]\n",
    "Noise_correlated = np.where(Noise_corr>threshold2)\n",
    "Neuron_noise_correlated = np.where(Neu_noi_corr > threshold2)"
   ]
  },
  {
   "cell_type": "code",
   "execution_count": 774,
   "metadata": {},
   "outputs": [
    {
     "name": "stdout",
     "output_type": "stream",
     "text": [
      "1 neurons were captured by the noise-database\n",
      "this represents 0.3558718861209964 % of Neurons\n"
     ]
    }
   ],
   "source": [
    "Neurons_captured = set(Neuron_noise_correlated[1])\n",
    "print(len(Neurons_captured),'neurons were captured by the noise-database')\n",
    "print('this represents',len(Neurons_captured)/(len(df[df.bNoise != 1]))*100,'% of Neurons')"
   ]
  },
  {
   "cell_type": "code",
   "execution_count": 775,
   "metadata": {},
   "outputs": [
    {
     "data": {
      "text/plain": [
       "1"
      ]
     },
     "execution_count": 775,
     "metadata": {},
     "output_type": "execute_result"
    }
   ],
   "source": [
    "bad_noises = list(set(Neuron_noise_correlated[0] + t))\n",
    "len(bad_noises)"
   ]
  },
  {
   "cell_type": "code",
   "execution_count": 776,
   "metadata": {},
   "outputs": [
    {
     "data": {
      "text/html": [
       "<div>\n",
       "<style scoped>\n",
       "    .dataframe tbody tr th:only-of-type {\n",
       "        vertical-align: middle;\n",
       "    }\n",
       "\n",
       "    .dataframe tbody tr th {\n",
       "        vertical-align: top;\n",
       "    }\n",
       "\n",
       "    .dataframe thead th {\n",
       "        text-align: right;\n",
       "    }\n",
       "</style>\n",
       "<table border=\"1\" class=\"dataframe\">\n",
       "  <thead>\n",
       "    <tr style=\"text-align: right;\">\n",
       "      <th></th>\n",
       "      <th>level_0</th>\n",
       "      <th>PatientExperiment</th>\n",
       "      <th>Channel</th>\n",
       "      <th>Cluster</th>\n",
       "      <th>ISI</th>\n",
       "      <th>bNoise</th>\n",
       "      <th>Mean</th>\n",
       "      <th>ZeroCrossings</th>\n",
       "      <th>index</th>\n",
       "    </tr>\n",
       "  </thead>\n",
       "  <tbody>\n",
       "    <tr>\n",
       "      <th>0</th>\n",
       "      <td>1.0</td>\n",
       "      <td>HEC017\\017context2\\017context2_prescr</td>\n",
       "      <td>113</td>\n",
       "      <td>2</td>\n",
       "      <td>[0, 3, 1, 1, 0, 0, 0, 1, 0, 0, 0, 0, 1, 0, 1, ...</td>\n",
       "      <td>0</td>\n",
       "      <td>[0.4148400945586795, 0.41008625177590113, 0.39...</td>\n",
       "      <td>2</td>\n",
       "      <td>NaN</td>\n",
       "    </tr>\n",
       "    <tr>\n",
       "      <th>1</th>\n",
       "      <td>2.0</td>\n",
       "      <td>HEC017\\017context2\\017context2_prescr</td>\n",
       "      <td>113</td>\n",
       "      <td>3</td>\n",
       "      <td>[0, 0, 0, 0, 0, 1, 0, 1, 0, 0, 0, 0, 0, 0, 0, ...</td>\n",
       "      <td>0</td>\n",
       "      <td>[0.1465658286378676, 0.13310457368256473, 0.12...</td>\n",
       "      <td>6</td>\n",
       "      <td>NaN</td>\n",
       "    </tr>\n",
       "    <tr>\n",
       "      <th>2</th>\n",
       "      <td>14.0</td>\n",
       "      <td>HEC017\\017context2\\017context2_prescr</td>\n",
       "      <td>118</td>\n",
       "      <td>3</td>\n",
       "      <td>[0, 4, 1, 0, 2, 0, 0, 0, 0, 0, 0, 1, 0, 0, 0, ...</td>\n",
       "      <td>0</td>\n",
       "      <td>[0.39807454790263525, 0.3830459993330923, 0.37...</td>\n",
       "      <td>2</td>\n",
       "      <td>NaN</td>\n",
       "    </tr>\n",
       "    <tr>\n",
       "      <th>3</th>\n",
       "      <td>23.0</td>\n",
       "      <td>HEC017\\017context2\\017context2_prescr</td>\n",
       "      <td>120</td>\n",
       "      <td>3</td>\n",
       "      <td>[0, 0, 0, 1, 0, 1, 1, 0, 0, 0, 0, 0, 1, 0, 0, ...</td>\n",
       "      <td>0</td>\n",
       "      <td>[0.08402676015159298, 0.05090180060164797, 0.0...</td>\n",
       "      <td>8</td>\n",
       "      <td>NaN</td>\n",
       "    </tr>\n",
       "    <tr>\n",
       "      <th>4</th>\n",
       "      <td>26.0</td>\n",
       "      <td>HEC017\\017context2\\017context2_prescr</td>\n",
       "      <td>122</td>\n",
       "      <td>2</td>\n",
       "      <td>[0, 1, 7, 0, 0, 0, 1, 0, 0, 0, 0, 0, 0, 0, 0, ...</td>\n",
       "      <td>0</td>\n",
       "      <td>[0.43204238087330993, 0.4127649121444305, 0.39...</td>\n",
       "      <td>2</td>\n",
       "      <td>NaN</td>\n",
       "    </tr>\n",
       "    <tr>\n",
       "      <th>...</th>\n",
       "      <td>...</td>\n",
       "      <td>...</td>\n",
       "      <td>...</td>\n",
       "      <td>...</td>\n",
       "      <td>...</td>\n",
       "      <td>...</td>\n",
       "      <td>...</td>\n",
       "      <td>...</td>\n",
       "      <td>...</td>\n",
       "    </tr>\n",
       "    <tr>\n",
       "      <th>441</th>\n",
       "      <td>NaN</td>\n",
       "      <td>HEC032\\HEC032_rsvpscr18</td>\n",
       "      <td>84</td>\n",
       "      <td>7</td>\n",
       "      <td>[0, 3, 173, 18, 64, 78, 26, 30, 30, 23, 36, 12...</td>\n",
       "      <td>1</td>\n",
       "      <td>[0.21780957951268345, 0.11159837299633442, 0.0...</td>\n",
       "      <td>2</td>\n",
       "      <td>1572.0</td>\n",
       "    </tr>\n",
       "    <tr>\n",
       "      <th>442</th>\n",
       "      <td>NaN</td>\n",
       "      <td>HEC032\\HEC032_rsvpscr18</td>\n",
       "      <td>84</td>\n",
       "      <td>8</td>\n",
       "      <td>[0, 20, 224, 38, 38, 15, 16, 19, 4, 4, 6, 3, 4...</td>\n",
       "      <td>1</td>\n",
       "      <td>[1.694084884589133, 1.7052796411176798, 1.6715...</td>\n",
       "      <td>4</td>\n",
       "      <td>1573.0</td>\n",
       "    </tr>\n",
       "    <tr>\n",
       "      <th>443</th>\n",
       "      <td>NaN</td>\n",
       "      <td>HEC032\\HEC032_rsvpscr19</td>\n",
       "      <td>66</td>\n",
       "      <td>2</td>\n",
       "      <td>[0, 5, 17, 20, 7, 4, 3, 4, 3, 1, 0, 1, 2, 0, 0...</td>\n",
       "      <td>1</td>\n",
       "      <td>[1.0145492433622894, 1.152869406086479, 1.2228...</td>\n",
       "      <td>4</td>\n",
       "      <td>1574.0</td>\n",
       "    </tr>\n",
       "    <tr>\n",
       "      <th>444</th>\n",
       "      <td>NaN</td>\n",
       "      <td>HEC032\\HEC032_rsvpscr19</td>\n",
       "      <td>68</td>\n",
       "      <td>2</td>\n",
       "      <td>[0, 0, 0, 0, 0, 0, 0, 0, 0, 0, 0, 0, 0, 0, 0, ...</td>\n",
       "      <td>1</td>\n",
       "      <td>[0.4941874471216272, 0.4610334984942442, 0.463...</td>\n",
       "      <td>9</td>\n",
       "      <td>1575.0</td>\n",
       "    </tr>\n",
       "    <tr>\n",
       "      <th>445</th>\n",
       "      <td>NaN</td>\n",
       "      <td>HEC032\\HEC032_story1</td>\n",
       "      <td>67</td>\n",
       "      <td>2</td>\n",
       "      <td>[0, 0, 0, 0, 0, 0, 0, 0, 0, 0, 0, 0, 0, 0, 0, ...</td>\n",
       "      <td>1</td>\n",
       "      <td>[0.22602934003342504, 0.2378644402212188, 0.25...</td>\n",
       "      <td>9</td>\n",
       "      <td>1576.0</td>\n",
       "    </tr>\n",
       "  </tbody>\n",
       "</table>\n",
       "<p>445 rows × 9 columns</p>\n",
       "</div>"
      ],
      "text/plain": [
       "     level_0                      PatientExperiment Channel Cluster  \\\n",
       "0        1.0  HEC017\\017context2\\017context2_prescr     113       2   \n",
       "1        2.0  HEC017\\017context2\\017context2_prescr     113       3   \n",
       "2       14.0  HEC017\\017context2\\017context2_prescr     118       3   \n",
       "3       23.0  HEC017\\017context2\\017context2_prescr     120       3   \n",
       "4       26.0  HEC017\\017context2\\017context2_prescr     122       2   \n",
       "..       ...                                    ...     ...     ...   \n",
       "441      NaN                HEC032\\HEC032_rsvpscr18      84       7   \n",
       "442      NaN                HEC032\\HEC032_rsvpscr18      84       8   \n",
       "443      NaN                HEC032\\HEC032_rsvpscr19      66       2   \n",
       "444      NaN                HEC032\\HEC032_rsvpscr19      68       2   \n",
       "445      NaN                   HEC032\\HEC032_story1      67       2   \n",
       "\n",
       "                                                   ISI bNoise  \\\n",
       "0    [0, 3, 1, 1, 0, 0, 0, 1, 0, 0, 0, 0, 1, 0, 1, ...      0   \n",
       "1    [0, 0, 0, 0, 0, 1, 0, 1, 0, 0, 0, 0, 0, 0, 0, ...      0   \n",
       "2    [0, 4, 1, 0, 2, 0, 0, 0, 0, 0, 0, 1, 0, 0, 0, ...      0   \n",
       "3    [0, 0, 0, 1, 0, 1, 1, 0, 0, 0, 0, 0, 1, 0, 0, ...      0   \n",
       "4    [0, 1, 7, 0, 0, 0, 1, 0, 0, 0, 0, 0, 0, 0, 0, ...      0   \n",
       "..                                                 ...    ...   \n",
       "441  [0, 3, 173, 18, 64, 78, 26, 30, 30, 23, 36, 12...      1   \n",
       "442  [0, 20, 224, 38, 38, 15, 16, 19, 4, 4, 6, 3, 4...      1   \n",
       "443  [0, 5, 17, 20, 7, 4, 3, 4, 3, 1, 0, 1, 2, 0, 0...      1   \n",
       "444  [0, 0, 0, 0, 0, 0, 0, 0, 0, 0, 0, 0, 0, 0, 0, ...      1   \n",
       "445  [0, 0, 0, 0, 0, 0, 0, 0, 0, 0, 0, 0, 0, 0, 0, ...      1   \n",
       "\n",
       "                                                  Mean  ZeroCrossings   index  \n",
       "0    [0.4148400945586795, 0.41008625177590113, 0.39...              2     NaN  \n",
       "1    [0.1465658286378676, 0.13310457368256473, 0.12...              6     NaN  \n",
       "2    [0.39807454790263525, 0.3830459993330923, 0.37...              2     NaN  \n",
       "3    [0.08402676015159298, 0.05090180060164797, 0.0...              8     NaN  \n",
       "4    [0.43204238087330993, 0.4127649121444305, 0.39...              2     NaN  \n",
       "..                                                 ...            ...     ...  \n",
       "441  [0.21780957951268345, 0.11159837299633442, 0.0...              2  1572.0  \n",
       "442  [1.694084884589133, 1.7052796411176798, 1.6715...              4  1573.0  \n",
       "443  [1.0145492433622894, 1.152869406086479, 1.2228...              4  1574.0  \n",
       "444  [0.4941874471216272, 0.4610334984942442, 0.463...              9  1575.0  \n",
       "445  [0.22602934003342504, 0.2378644402212188, 0.25...              9  1576.0  \n",
       "\n",
       "[445 rows x 9 columns]"
      ]
     },
     "execution_count": 776,
     "metadata": {},
     "output_type": "execute_result"
    }
   ],
   "source": [
    "New_df = df.drop(bad_noises)\n",
    "New_df"
   ]
  },
  {
   "cell_type": "code",
   "execution_count": 777,
   "metadata": {},
   "outputs": [
    {
     "name": "stdout",
     "output_type": "stream",
     "text": [
      "446\n",
      "0\n"
     ]
    }
   ],
   "source": [
    "New_df.reset_index(drop = True)\n",
    "t = New_df[New_df.bNoise == 1].index[0]\n",
    "print(len(df))\n",
    "Mean= pd.DataFrame(np.array(New_df.Mean.to_list()))\n",
    "Corr = Mean.T.corr()\n",
    "Corr = Corr.values\n",
    "Noise_corr = Corr[t:,t:]\n",
    "Neu_noi_corr = Corr[t:,:t]\n",
    "Noise_correlated = np.where(Noise_corr>threshold2)\n",
    "Neuron_noise_correlated = np.where(Neu_noi_corr > threshold2)\n",
    "Neurons_captured = set(Neuron_noise_correlated[1])\n",
    "print(len(Neurons_captured))"
   ]
  },
  {
   "cell_type": "markdown",
   "metadata": {},
   "source": [
    "Cuanto nuevo ruido capturo?"
   ]
  },
  {
   "cell_type": "code",
   "execution_count": 778,
   "metadata": {},
   "outputs": [
    {
     "name": "stdout",
     "output_type": "stream",
     "text": [
      "27.012278308321964 % of noise is found\n",
      "72.98772169167803 % of noise is not found\n"
     ]
    }
   ],
   "source": [
    "All_noise = pd.concat([Noise_old,Noise],ignore_index=True,sort = False)\n",
    "Mean = pd.DataFrame(np.array(All_noise.Mean.to_list()))\n",
    "Noise_corr = Mean.T.corr().values\n",
    "old_new_corr = Noise_corr[t2:,:t2]\n",
    "noise_found = np.where(old_new_corr>threshold2)[0] + t2\n",
    "noise_not_found = set(np.arange(t2,len(All_noise))) - set(noise_found)\n",
    "print(len(set(noise_found))/len(Noise)*100,'% of noise is found')\n",
    "print(len(noise_not_found)/len(Noise)*100,'% of noise is not found')"
   ]
  },
  {
   "cell_type": "markdown",
   "metadata": {},
   "source": [
    "Agrego el ruido no encontrado a la nueva base"
   ]
  },
  {
   "cell_type": "code",
   "execution_count": 779,
   "metadata": {},
   "outputs": [],
   "source": [
    "noise_not_found = np.array(list(noise_not_found)) - t2\n",
    "New_df = pd.concat([New_df,Noise.loc[noise_not_found]],ignore_index=True,sort = False)"
   ]
  },
  {
   "cell_type": "code",
   "execution_count": 780,
   "metadata": {},
   "outputs": [
    {
     "name": "stdout",
     "output_type": "stream",
     "text": [
      "446\n",
      "88 this represents 63.00448430493274 % of neurons\n"
     ]
    }
   ],
   "source": [
    "New_df.reset_index(drop = True)\n",
    "t = New_df[New_df.bNoise == 1].index[0]\n",
    "print(len(df))\n",
    "Mean= pd.DataFrame(np.array(New_df.Mean.to_list()))\n",
    "Corr = Mean.T.corr()\n",
    "Corr = Corr.values\n",
    "Noise_corr = Corr[t:,t:]\n",
    "Neu_noi_corr = Corr[t:,:t]\n",
    "Noise_correlated = np.where(Noise_corr>threshold2)\n",
    "Neuron_noise_correlated = np.where(Neu_noi_corr > threshold2)\n",
    "Neurons_captured = set(Neuron_noise_correlated[1])\n",
    "print(len(Neurons_captured), 'this represents',t/len(df)*100,'% of neurons')"
   ]
  },
  {
   "cell_type": "code",
   "execution_count": 781,
   "metadata": {},
   "outputs": [
    {
     "name": "stdout",
     "output_type": "stream",
     "text": [
      "89 are responsible for this\n"
     ]
    }
   ],
   "source": [
    "bad_noises = np.array(list(set(Neuron_noise_correlated[0] + t)))\n",
    "print(len(bad_noises), 'are responsible for this')"
   ]
  },
  {
   "cell_type": "code",
   "execution_count": 782,
   "metadata": {},
   "outputs": [],
   "source": [
    "New_df = New_df.drop(bad_noises)"
   ]
  },
  {
   "cell_type": "code",
   "execution_count": 783,
   "metadata": {},
   "outputs": [
    {
     "name": "stdout",
     "output_type": "stream",
     "text": [
      "0\n"
     ]
    }
   ],
   "source": [
    "New_df.reset_index(drop = True)\n",
    "t = New_df[New_df.bNoise == 1].index[0]\n",
    "Mean= pd.DataFrame(np.array(New_df.Mean.to_list()))\n",
    "Corr = Mean.T.corr()\n",
    "Corr = Corr.values\n",
    "Noise_corr = Corr[t:,t:]\n",
    "Neu_noi_corr = Corr[t:,:t]\n",
    "Noise_correlated = np.where(Noise_corr>threshold2)\n",
    "Neuron_noise_correlated = np.where(Neu_noi_corr > threshold2)\n",
    "Neurons_captured = set(Neuron_noise_correlated[1])\n",
    "print(len(Neurons_captured))"
   ]
  },
  {
   "cell_type": "markdown",
   "metadata": {},
   "source": [
    "## Ahora con el tercer dataframe"
   ]
  },
  {
   "cell_type": "code",
   "execution_count": 784,
   "metadata": {},
   "outputs": [],
   "source": [
    "Noise_old = All_noise\n",
    "t2 = len(Noise_old)"
   ]
  },
  {
   "cell_type": "code",
   "execution_count": 785,
   "metadata": {},
   "outputs": [
    {
     "name": "stdout",
     "output_type": "stream",
     "text": [
      "1419 elements are in the df\n",
      "521 elements are neurons. 898 elements are noises\n"
     ]
    }
   ],
   "source": [
    "df = pd.concat([Second_df,New_df],ignore_index=True,sort = False)\n",
    "df = df.drop(columns = ['level_0'])\n",
    "Noise = df[df.bNoise == 1]\n",
    "Noise.reset_index(inplace = True)\n",
    "Neuron = df[df.bNoise == 0]\n",
    "Neuron.reset_index(inplace = True)\n",
    "Mu = df[df.bNoise == 2]\n",
    "Mu.reset_index(inplace = True)\n",
    "\n",
    "df = pd.concat([Neuron,Mu,Noise_old],ignore_index = True,sort = False)\n",
    "t = df[df.bNoise == 1].index[0]\n",
    "print(len(df),'elements are in the df')\n",
    "print(len(df[df.bNoise != 1]),'elements are neurons.',len(df[df.bNoise == 1]),'elements are noises')"
   ]
  },
  {
   "cell_type": "code",
   "execution_count": 786,
   "metadata": {},
   "outputs": [],
   "source": [
    "Mean= pd.DataFrame(np.array(df.Mean.to_list()))\n",
    "Corr = Mean.T.corr()\n",
    "Corr = Corr.values"
   ]
  },
  {
   "cell_type": "code",
   "execution_count": 787,
   "metadata": {},
   "outputs": [],
   "source": [
    "Noise_corr = Corr[t:,t:]\n",
    "Neu_noi_corr = Corr[t:,:t]\n",
    "Noise_correlated = np.where(Noise_corr>threshold2)\n",
    "Neuron_noise_correlated = np.where(Neu_noi_corr > threshold2)"
   ]
  },
  {
   "cell_type": "code",
   "execution_count": 788,
   "metadata": {},
   "outputs": [
    {
     "name": "stdout",
     "output_type": "stream",
     "text": [
      "174 neurons were captured by the noise-database\n",
      "this represents 33.397312859884835 % of Neurons\n"
     ]
    }
   ],
   "source": [
    "Neurons_captured = set(Neuron_noise_correlated[1])\n",
    "print(len(Neurons_captured),'neurons were captured by the noise-database')\n",
    "print('this represents',len(Neurons_captured)/(len(df[df.bNoise != 1]))*100,'% of Neurons')"
   ]
  },
  {
   "cell_type": "code",
   "execution_count": 789,
   "metadata": {},
   "outputs": [
    {
     "data": {
      "text/plain": [
       "91"
      ]
     },
     "execution_count": 789,
     "metadata": {},
     "output_type": "execute_result"
    }
   ],
   "source": [
    "bad_noises = list(set(Neuron_noise_correlated[0] + t))\n",
    "len(bad_noises)"
   ]
  },
  {
   "cell_type": "code",
   "execution_count": 790,
   "metadata": {},
   "outputs": [
    {
     "data": {
      "text/html": [
       "<div>\n",
       "<style scoped>\n",
       "    .dataframe tbody tr th:only-of-type {\n",
       "        vertical-align: middle;\n",
       "    }\n",
       "\n",
       "    .dataframe tbody tr th {\n",
       "        vertical-align: top;\n",
       "    }\n",
       "\n",
       "    .dataframe thead th {\n",
       "        text-align: right;\n",
       "    }\n",
       "</style>\n",
       "<table border=\"1\" class=\"dataframe\">\n",
       "  <thead>\n",
       "    <tr style=\"text-align: right;\">\n",
       "      <th></th>\n",
       "      <th>level_0</th>\n",
       "      <th>PatientExperiment</th>\n",
       "      <th>Channel</th>\n",
       "      <th>Cluster</th>\n",
       "      <th>ISI</th>\n",
       "      <th>bNoise</th>\n",
       "      <th>Mean</th>\n",
       "      <th>ZeroCrossings</th>\n",
       "      <th>index</th>\n",
       "    </tr>\n",
       "  </thead>\n",
       "  <tbody>\n",
       "    <tr>\n",
       "      <th>0</th>\n",
       "      <td>1.0</td>\n",
       "      <td>HEC017\\017context2\\017context2_prescr</td>\n",
       "      <td>113</td>\n",
       "      <td>2</td>\n",
       "      <td>[0, 3, 1, 1, 0, 0, 0, 1, 0, 0, 0, 0, 1, 0, 1, ...</td>\n",
       "      <td>0</td>\n",
       "      <td>[0.4148400945586795, 0.41008625177590113, 0.39...</td>\n",
       "      <td>2</td>\n",
       "      <td>NaN</td>\n",
       "    </tr>\n",
       "    <tr>\n",
       "      <th>1</th>\n",
       "      <td>2.0</td>\n",
       "      <td>HEC017\\017context2\\017context2_prescr</td>\n",
       "      <td>113</td>\n",
       "      <td>3</td>\n",
       "      <td>[0, 0, 0, 0, 0, 1, 0, 1, 0, 0, 0, 0, 0, 0, 0, ...</td>\n",
       "      <td>0</td>\n",
       "      <td>[0.1465658286378676, 0.13310457368256473, 0.12...</td>\n",
       "      <td>6</td>\n",
       "      <td>NaN</td>\n",
       "    </tr>\n",
       "    <tr>\n",
       "      <th>2</th>\n",
       "      <td>14.0</td>\n",
       "      <td>HEC017\\017context2\\017context2_prescr</td>\n",
       "      <td>118</td>\n",
       "      <td>3</td>\n",
       "      <td>[0, 4, 1, 0, 2, 0, 0, 0, 0, 0, 0, 1, 0, 0, 0, ...</td>\n",
       "      <td>0</td>\n",
       "      <td>[0.39807454790263525, 0.3830459993330923, 0.37...</td>\n",
       "      <td>2</td>\n",
       "      <td>NaN</td>\n",
       "    </tr>\n",
       "    <tr>\n",
       "      <th>3</th>\n",
       "      <td>23.0</td>\n",
       "      <td>HEC017\\017context2\\017context2_prescr</td>\n",
       "      <td>120</td>\n",
       "      <td>3</td>\n",
       "      <td>[0, 0, 0, 1, 0, 1, 1, 0, 0, 0, 0, 0, 1, 0, 0, ...</td>\n",
       "      <td>0</td>\n",
       "      <td>[0.08402676015159298, 0.05090180060164797, 0.0...</td>\n",
       "      <td>8</td>\n",
       "      <td>NaN</td>\n",
       "    </tr>\n",
       "    <tr>\n",
       "      <th>4</th>\n",
       "      <td>26.0</td>\n",
       "      <td>HEC017\\017context2\\017context2_prescr</td>\n",
       "      <td>122</td>\n",
       "      <td>2</td>\n",
       "      <td>[0, 1, 7, 0, 0, 0, 1, 0, 0, 0, 0, 0, 0, 0, 0, ...</td>\n",
       "      <td>0</td>\n",
       "      <td>[0.43204238087330993, 0.4127649121444305, 0.39...</td>\n",
       "      <td>2</td>\n",
       "      <td>NaN</td>\n",
       "    </tr>\n",
       "    <tr>\n",
       "      <th>...</th>\n",
       "      <td>...</td>\n",
       "      <td>...</td>\n",
       "      <td>...</td>\n",
       "      <td>...</td>\n",
       "      <td>...</td>\n",
       "      <td>...</td>\n",
       "      <td>...</td>\n",
       "      <td>...</td>\n",
       "      <td>...</td>\n",
       "    </tr>\n",
       "    <tr>\n",
       "      <th>1414</th>\n",
       "      <td>1012.0</td>\n",
       "      <td>HEC032\\HEC032_rsvpscr18</td>\n",
       "      <td>84</td>\n",
       "      <td>7</td>\n",
       "      <td>[0, 3, 173, 18, 64, 78, 26, 30, 30, 23, 36, 12...</td>\n",
       "      <td>1</td>\n",
       "      <td>[0.21780957951268345, 0.11159837299633442, 0.0...</td>\n",
       "      <td>2</td>\n",
       "      <td>1572.0</td>\n",
       "    </tr>\n",
       "    <tr>\n",
       "      <th>1415</th>\n",
       "      <td>1013.0</td>\n",
       "      <td>HEC032\\HEC032_rsvpscr18</td>\n",
       "      <td>84</td>\n",
       "      <td>8</td>\n",
       "      <td>[0, 20, 224, 38, 38, 15, 16, 19, 4, 4, 6, 3, 4...</td>\n",
       "      <td>1</td>\n",
       "      <td>[1.694084884589133, 1.7052796411176798, 1.6715...</td>\n",
       "      <td>4</td>\n",
       "      <td>1573.0</td>\n",
       "    </tr>\n",
       "    <tr>\n",
       "      <th>1416</th>\n",
       "      <td>1014.0</td>\n",
       "      <td>HEC032\\HEC032_rsvpscr19</td>\n",
       "      <td>66</td>\n",
       "      <td>2</td>\n",
       "      <td>[0, 5, 17, 20, 7, 4, 3, 4, 3, 1, 0, 1, 2, 0, 0...</td>\n",
       "      <td>1</td>\n",
       "      <td>[1.0145492433622894, 1.152869406086479, 1.2228...</td>\n",
       "      <td>4</td>\n",
       "      <td>1574.0</td>\n",
       "    </tr>\n",
       "    <tr>\n",
       "      <th>1417</th>\n",
       "      <td>1015.0</td>\n",
       "      <td>HEC032\\HEC032_rsvpscr19</td>\n",
       "      <td>68</td>\n",
       "      <td>2</td>\n",
       "      <td>[0, 0, 0, 0, 0, 0, 0, 0, 0, 0, 0, 0, 0, 0, 0, ...</td>\n",
       "      <td>1</td>\n",
       "      <td>[0.4941874471216272, 0.4610334984942442, 0.463...</td>\n",
       "      <td>9</td>\n",
       "      <td>1575.0</td>\n",
       "    </tr>\n",
       "    <tr>\n",
       "      <th>1418</th>\n",
       "      <td>1016.0</td>\n",
       "      <td>HEC032\\HEC032_story1</td>\n",
       "      <td>67</td>\n",
       "      <td>2</td>\n",
       "      <td>[0, 0, 0, 0, 0, 0, 0, 0, 0, 0, 0, 0, 0, 0, 0, ...</td>\n",
       "      <td>1</td>\n",
       "      <td>[0.22602934003342504, 0.2378644402212188, 0.25...</td>\n",
       "      <td>9</td>\n",
       "      <td>1576.0</td>\n",
       "    </tr>\n",
       "  </tbody>\n",
       "</table>\n",
       "<p>1328 rows × 9 columns</p>\n",
       "</div>"
      ],
      "text/plain": [
       "      level_0                      PatientExperiment Channel Cluster  \\\n",
       "0         1.0  HEC017\\017context2\\017context2_prescr     113       2   \n",
       "1         2.0  HEC017\\017context2\\017context2_prescr     113       3   \n",
       "2        14.0  HEC017\\017context2\\017context2_prescr     118       3   \n",
       "3        23.0  HEC017\\017context2\\017context2_prescr     120       3   \n",
       "4        26.0  HEC017\\017context2\\017context2_prescr     122       2   \n",
       "...       ...                                    ...     ...     ...   \n",
       "1414   1012.0                HEC032\\HEC032_rsvpscr18      84       7   \n",
       "1415   1013.0                HEC032\\HEC032_rsvpscr18      84       8   \n",
       "1416   1014.0                HEC032\\HEC032_rsvpscr19      66       2   \n",
       "1417   1015.0                HEC032\\HEC032_rsvpscr19      68       2   \n",
       "1418   1016.0                   HEC032\\HEC032_story1      67       2   \n",
       "\n",
       "                                                    ISI bNoise  \\\n",
       "0     [0, 3, 1, 1, 0, 0, 0, 1, 0, 0, 0, 0, 1, 0, 1, ...      0   \n",
       "1     [0, 0, 0, 0, 0, 1, 0, 1, 0, 0, 0, 0, 0, 0, 0, ...      0   \n",
       "2     [0, 4, 1, 0, 2, 0, 0, 0, 0, 0, 0, 1, 0, 0, 0, ...      0   \n",
       "3     [0, 0, 0, 1, 0, 1, 1, 0, 0, 0, 0, 0, 1, 0, 0, ...      0   \n",
       "4     [0, 1, 7, 0, 0, 0, 1, 0, 0, 0, 0, 0, 0, 0, 0, ...      0   \n",
       "...                                                 ...    ...   \n",
       "1414  [0, 3, 173, 18, 64, 78, 26, 30, 30, 23, 36, 12...      1   \n",
       "1415  [0, 20, 224, 38, 38, 15, 16, 19, 4, 4, 6, 3, 4...      1   \n",
       "1416  [0, 5, 17, 20, 7, 4, 3, 4, 3, 1, 0, 1, 2, 0, 0...      1   \n",
       "1417  [0, 0, 0, 0, 0, 0, 0, 0, 0, 0, 0, 0, 0, 0, 0, ...      1   \n",
       "1418  [0, 0, 0, 0, 0, 0, 0, 0, 0, 0, 0, 0, 0, 0, 0, ...      1   \n",
       "\n",
       "                                                   Mean  ZeroCrossings   index  \n",
       "0     [0.4148400945586795, 0.41008625177590113, 0.39...              2     NaN  \n",
       "1     [0.1465658286378676, 0.13310457368256473, 0.12...              6     NaN  \n",
       "2     [0.39807454790263525, 0.3830459993330923, 0.37...              2     NaN  \n",
       "3     [0.08402676015159298, 0.05090180060164797, 0.0...              8     NaN  \n",
       "4     [0.43204238087330993, 0.4127649121444305, 0.39...              2     NaN  \n",
       "...                                                 ...            ...     ...  \n",
       "1414  [0.21780957951268345, 0.11159837299633442, 0.0...              2  1572.0  \n",
       "1415  [1.694084884589133, 1.7052796411176798, 1.6715...              4  1573.0  \n",
       "1416  [1.0145492433622894, 1.152869406086479, 1.2228...              4  1574.0  \n",
       "1417  [0.4941874471216272, 0.4610334984942442, 0.463...              9  1575.0  \n",
       "1418  [0.22602934003342504, 0.2378644402212188, 0.25...              9  1576.0  \n",
       "\n",
       "[1328 rows x 9 columns]"
      ]
     },
     "execution_count": 790,
     "metadata": {},
     "output_type": "execute_result"
    }
   ],
   "source": [
    "New_df = df.drop(bad_noises)\n",
    "New_df"
   ]
  },
  {
   "cell_type": "code",
   "execution_count": 791,
   "metadata": {},
   "outputs": [
    {
     "name": "stdout",
     "output_type": "stream",
     "text": [
      "1419\n",
      "507\n"
     ]
    }
   ],
   "source": [
    "New_df.reset_index(drop = True)\n",
    "t = New_df[New_df.bNoise == 1].index[0]\n",
    "print(len(New_df))\n",
    "Mean= pd.DataFrame(np.array(New_df.Mean.to_list()))\n",
    "Corr = Mean.T.corr()\n",
    "Corr = Corr.values\n",
    "threshold2 = 0.95 # For Pearson is defined as 1 - correlation\n",
    "Noise_corr = Corr[t:,t:]\n",
    "Neu_noi_corr = Corr[t:,:t]\n",
    "Noise_correlated = np.where(Noise_corr>threshold2)\n",
    "Neuron_noise_correlated = np.where(Neu_noi_corr > threshold2)\n",
    "Neuron_noise_correlated\n",
    "Neurons_captured = set(Neuron_noise_correlated[1])\n",
    "print(len(Neurons_captured))"
   ]
  },
  {
   "cell_type": "markdown",
   "metadata": {},
   "source": [
    "Cuanto ruido capturamos?"
   ]
  },
  {
   "cell_type": "code",
   "execution_count": 792,
   "metadata": {},
   "outputs": [
    {
     "name": "stdout",
     "output_type": "stream",
     "text": [
      "100.0 % of noise is found\n",
      "0.0 % of noise is not found\n"
     ]
    }
   ],
   "source": [
    "All_noise = pd.concat([Noise_old,Noise],ignore_index=True,sort = False)\n",
    "Mean = pd.DataFrame(np.array(All_noise.Mean.to_list()))\n",
    "Noise_corr = Mean.T.corr().values\n",
    "old_new_corr = Noise_corr[t2:,:t2]\n",
    "noise_found = np.where(old_new_corr>threshold2)[0] + t2\n",
    "noise_not_found = set(np.arange(t2,len(All_noise))) - set(noise_found)\n",
    "print(len(set(noise_found))/len(Noise)*100,'% of noise is found')\n",
    "print(len(noise_not_found)/len(Noise)*100,'% of noise is not found')"
   ]
  },
  {
   "cell_type": "code",
   "execution_count": 793,
   "metadata": {},
   "outputs": [],
   "source": [
    "noise_not_found = np.array(list(noise_not_found)) - t2\n",
    "New_df = pd.concat([New_df,Noise.loc[noise_not_found]],ignore_index=True,sort = False)"
   ]
  },
  {
   "cell_type": "code",
   "execution_count": 794,
   "metadata": {},
   "outputs": [
    {
     "name": "stdout",
     "output_type": "stream",
     "text": [
      "1419\n",
      "507 this represents 36.71599718111346 % of neurons\n"
     ]
    }
   ],
   "source": [
    "New_df.reset_index(drop = True)\n",
    "t = New_df[New_df.bNoise == 1].index[0]\n",
    "print(len(New_df))\n",
    "Mean= pd.DataFrame(np.array(New_df.Mean.to_list()))\n",
    "Corr = Mean.T.corr()\n",
    "Corr = Corr.values\n",
    "Noise_corr = Corr[t:,t:]\n",
    "Neu_noi_corr = Corr[t:,:t]\n",
    "Noise_correlated = np.where(Noise_corr>threshold2)\n",
    "Neuron_noise_correlated = np.where(Neu_noi_corr > threshold2)\n",
    "Neurons_captured = set(Neuron_noise_correlated[1])\n",
    "print(len(Neurons_captured), 'this represents',t/len(df)*100,'% of neurons')"
   ]
  },
  {
   "cell_type": "code",
   "execution_count": 795,
   "metadata": {},
   "outputs": [
    {
     "name": "stdout",
     "output_type": "stream",
     "text": [
      "305 are responsible for this\n"
     ]
    }
   ],
   "source": [
    "bad_noises = np.array(list(set(Neuron_noise_correlated[0] + t)))\n",
    "print(len(bad_noises), 'are responsible for this')"
   ]
  },
  {
   "cell_type": "code",
   "execution_count": 796,
   "metadata": {},
   "outputs": [],
   "source": [
    "New_df = New_df.drop(bad_noises)"
   ]
  },
  {
   "cell_type": "code",
   "execution_count": 797,
   "metadata": {},
   "outputs": [
    {
     "name": "stdout",
     "output_type": "stream",
     "text": [
      "0\n"
     ]
    }
   ],
   "source": [
    "New_df.reset_index(drop = True)\n",
    "t = New_df[New_df.bNoise == 1].index[0]\n",
    "Mean= pd.DataFrame(np.array(New_df.Mean.to_list()))\n",
    "Corr = Mean.T.corr()\n",
    "Corr = Corr.values\n",
    "Noise_corr = Corr[t:,t:]\n",
    "Neu_noi_corr = Corr[t:,:t]\n",
    "Noise_correlated = np.where(Noise_corr>threshold2)\n",
    "Neuron_noise_correlated = np.where(Neu_noi_corr > threshold2)\n",
    "Neurons_captured = set(Neuron_noise_correlated[1])\n",
    "print(len(Neurons_captured))"
   ]
  },
  {
   "cell_type": "code",
   "execution_count": null,
   "metadata": {},
   "outputs": [],
   "source": []
  },
  {
   "cell_type": "code",
   "execution_count": null,
   "metadata": {},
   "outputs": [],
   "source": []
  }
 ],
 "metadata": {
  "kernelspec": {
   "display_name": "Python 3",
   "language": "python",
   "name": "python3"
  },
  "language_info": {
   "codemirror_mode": {
    "name": "ipython",
    "version": 3
   },
   "file_extension": ".py",
   "mimetype": "text/x-python",
   "name": "python",
   "nbconvert_exporter": "python",
   "pygments_lexer": "ipython3",
   "version": "3.7.6"
  }
 },
 "nbformat": 4,
 "nbformat_minor": 4
}
