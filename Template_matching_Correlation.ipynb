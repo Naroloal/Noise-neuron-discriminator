{
 "cells": [
  {
   "cell_type": "code",
   "execution_count": 5,
   "metadata": {},
   "outputs": [],
   "source": [
    "from scipy import stats\n",
    "%matplotlib widget\n",
    "from scipy.io import loadmat\n",
    "import numpy as np\n",
    "import pandas as pd\n",
    "import matplotlib.pyplot as plt\n",
    "import seaborn as sbn\n",
    "import matplotlib.cm as cm\n",
    "from Funciones_auxiliares import Mat_to_dataframe,see_teams,get_cluster_indexs,plot_branch,plot_teams,find_mix\n",
    "from scipy import cluster\n",
    "\n",
    "import scipy as sp\n",
    "import math\n"
   ]
  },
  {
   "cell_type": "markdown",
   "metadata": {},
   "source": [
    "### Importamos la data"
   ]
  },
  {
   "cell_type": "code",
   "execution_count": 6,
   "metadata": {},
   "outputs": [
    {
     "data": {
      "application/vnd.jupyter.widget-view+json": {
       "model_id": "6db27edaabef453a98c20ceafa808098",
       "version_major": 2,
       "version_minor": 0
      },
      "text/plain": [
       "Canvas(toolbar=Toolbar(toolitems=[('Home', 'Reset original view', 'home', 'home'), ('Back', 'Back to previous …"
      ]
     },
     "metadata": {},
     "output_type": "display_data"
    }
   ],
   "source": [
    "plt.close('all')\n",
    "plt.clf()\n",
    "plt.close()\n",
    "data = pd.read_pickle('Datos/PCCIBNMZc')\n",
    "data['Mean'] = data.Bulk.apply(lambda row: np.mean(row,axis = 0))\n",
    "data['Mean'] = (data['Mean'] - data.Mean.apply(lambda row:np.mean(row)))/data.Mean.apply(lambda row:np.std(row))\n",
    "del data['Bulk']\n",
    "Initial = len(data)"
   ]
  },
  {
   "cell_type": "markdown",
   "metadata": {},
   "source": [
    "## Separamos en Test y Train por sessiones"
   ]
  },
  {
   "cell_type": "code",
   "execution_count": 7,
   "metadata": {},
   "outputs": [
    {
     "name": "stdout",
     "output_type": "stream",
     "text": [
      "205\n",
      "222\n",
      "133\n",
      "157\n",
      "147\n",
      "112\n",
      "237\n",
      "86\n",
      "140\n",
      "138\n"
     ]
    }
   ],
   "source": [
    "T = True\n",
    "while T:\n",
    "    Sessions_list = data.PatientExperiment.unique()\n",
    "    select_random_sessions = np.random.choice(Sessions_list,(10,6), replace = False)\n",
    "    Dfs = {}\n",
    "    for i,sessions in enumerate(select_random_sessions):\n",
    "        Dfs[i] = data[data.PatientExperiment.isin(sessions)]\n",
    "    lenghts = np.array([len(i) for i in Dfs.values()])\n",
    "    if np.all(lenghts > 80): T = False\n",
    "    \n",
    "for key,values in Dfs.items():\n",
    "    print(len(values))"
   ]
  },
  {
   "cell_type": "markdown",
   "metadata": {},
   "source": [
    "Calculamos la matriz de correlacion"
   ]
  },
  {
   "cell_type": "markdown",
   "metadata": {},
   "source": [
    "## No tengo que entrenar nada, asumimos que el template matching para train es perfecto"
   ]
  },
  {
   "cell_type": "markdown",
   "metadata": {},
   "source": [
    "Distancia Correlation"
   ]
  },
  {
   "cell_type": "code",
   "execution_count": 12,
   "metadata": {},
   "outputs": [
    {
     "name": "stdout",
     "output_type": "stream",
     "text": [
      "310 1260\n"
     ]
    }
   ],
   "source": [
    "def Train_test_noise(data):\n",
    "    Sessions_list = data.PatientExperiment.unique()\n",
    "    select_random_sessions = np.random.randint(0, len(Sessions_list), size=int(len(Sessions_list)/2))\n",
    "    Train_list = Sessions_list[select_random_sessions]\n",
    "    Train = data[data.PatientExperiment.isin(Train_list)]\n",
    "    Test = data[~data.PatientExperiment.isin(Train_list)]\n",
    "    Train.reset_index(inplace = True,drop = True)\n",
    "    Test.reset_index(inplace = True,drop = True)\n",
    "    \n",
    "    df_train = Train.copy()\n",
    "    df_test = Test.copy()\n",
    "    \n",
    "    Noise = df_train[df_train.bNoise == 1]\n",
    "    Neuron = df_train[df_train.bNoise == 0]\n",
    "    MU = df_train[df_train.bNoise == 2]\n",
    "\n",
    "    df_train = pd.concat([Neuron,MU,Noise], ignore_index= True, sort = False)\n",
    "    t = df_train[df_train.bNoise == 1].index[0]\n",
    "\n",
    "    Noise = df_test[df_test.bNoise == 1]\n",
    "    Neuron = df_test[df_test.bNoise == 0]\n",
    "    MU = df_test[df_test.bNoise == 2]\n",
    "\n",
    "    df_test = pd.concat([Neuron,MU,Noise], ignore_index= True, sort = False)\n",
    "    t2 = df_test[df_test.bNoise == 1].index[0]\n",
    "\n",
    "    \n",
    "    return df_train,df_test,t,t2\n",
    "\n",
    "df_train,df_test,t,t2 = Train_test_noise(data)\n",
    "print(len(df_train),len(df_test))"
   ]
  },
  {
   "cell_type": "markdown",
   "metadata": {},
   "source": [
    "\n",
    "\n",
    "## Testeamos"
   ]
  },
  {
   "cell_type": "code",
   "execution_count": 13,
   "metadata": {},
   "outputs": [
    {
     "name": "stdout",
     "output_type": "stream",
     "text": [
      "310\n",
      "1260\n"
     ]
    }
   ],
   "source": [
    "from scipy.spatial.distance import squareform, pdist\n",
    "\n",
    "def compute_dist(df_test,df_train):\n",
    "    df = pd.concat([df_test,df_train],ignore_index=True,sort = True)\n",
    "    r = len(df_train)\n",
    "    s = len(df_test)\n",
    "    Dist = pd.DataFrame(squareform(pdist(np.array(df.loc[:, 'Mean'].to_list()),metric = 'correlation')),columns=df.index,index=df.index).values\n",
    "    Dist = Dist[s:,:r]\n",
    "    return Dist\n",
    "\n",
    "Dist = compute_dist(df_test,df_train)\n",
    "print(len(df_train))\n",
    "print(len(df_test))"
   ]
  },
  {
   "cell_type": "markdown",
   "metadata": {},
   "source": [
    "Vemos la matriz de distancia, la linea negra separa neuron-noise"
   ]
  },
  {
   "cell_type": "code",
   "execution_count": 14,
   "metadata": {},
   "outputs": [
    {
     "data": {
      "application/vnd.jupyter.widget-view+json": {
       "model_id": "218d9e5a5b414038b37edd18f296878b",
       "version_major": 2,
       "version_minor": 0
      },
      "text/plain": [
       "Canvas(toolbar=Toolbar(toolitems=[('Home', 'Reset original view', 'home', 'home'), ('Back', 'Back to previous …"
      ]
     },
     "metadata": {},
     "output_type": "display_data"
    },
    {
     "data": {
      "text/plain": [
       "<matplotlib.collections.LineCollection at 0x7fa2f273a450>"
      ]
     },
     "execution_count": 14,
     "metadata": {},
     "output_type": "execute_result"
    }
   ],
   "source": [
    "plt.figure()\n",
    "plt.imshow(Dist)\n",
    "plt.colorbar()\n",
    "plt.hlines(df_test[df_test.bNoise == 1].index[0],0,len(Dist)-1)\n",
    "plt.vlines(df_train[df_train.bNoise == 1].index[0],0,len(Dist)-1)"
   ]
  },
  {
   "cell_type": "markdown",
   "metadata": {},
   "source": [
    "Ahora tenemos una matriz de distancias. Cada fila representa la distancia de un template test a cada uno de los templates de train. Computamos el minimo ( o n minimos en cuyo caso hacemos una votacion), ademas, si es ruido pedimos que la distancia sea menor a un cierto threshold, y nos fijamos si es neuron o noise, entonces asignamos ese valor."
   ]
  },
  {
   "cell_type": "code",
   "execution_count": 15,
   "metadata": {},
   "outputs": [],
   "source": [
    "def create_label(Dist,t,threshold = .5):\n",
    "    number_votes = 1\n",
    "    Minn = [np.argsort(i)[:number_votes] for i in Dist[:]]\n",
    "    label = np.zeros(len(Minn),dtype = int)\n",
    "    votes = len(Minn[0])\n",
    "    for i,element in enumerate(Minn):\n",
    "        votes_noise = len(np.where((element > t) & (Dist[i,element] < threshold))[0])\n",
    "        if votes_noise >= int(votes/2) + 1: label[i] = 1\n",
    "    return label\n",
    "\n",
    "label = create_label(Dist,t)"
   ]
  },
  {
   "cell_type": "code",
   "execution_count": 16,
   "metadata": {},
   "outputs": [
    {
     "name": "stdout",
     "output_type": "stream",
     "text": [
      "neurons as noise =  69.03225806451613 (214)\n"
     ]
    },
    {
     "ename": "ZeroDivisionError",
     "evalue": "division by zero",
     "output_type": "error",
     "traceback": [
      "\u001b[0;31m---------------------------------------------------------------------------\u001b[0m",
      "\u001b[0;31mZeroDivisionError\u001b[0m                         Traceback (most recent call last)",
      "\u001b[0;32m<ipython-input-16-915725ad4816>\u001b[0m in \u001b[0;36m<module>\u001b[0;34m\u001b[0m\n\u001b[1;32m      8\u001b[0m \u001b[0;34m\u001b[0m\u001b[0m\n\u001b[1;32m      9\u001b[0m \u001b[0mprint\u001b[0m\u001b[0;34m(\u001b[0m\u001b[0;34m'neurons as noise = '\u001b[0m\u001b[0;34m,\u001b[0m\u001b[0mneurons_as_noise\u001b[0m\u001b[0;34m/\u001b[0m\u001b[0mtotal_neurons\u001b[0m\u001b[0;34m*\u001b[0m\u001b[0;36m100\u001b[0m\u001b[0;34m,\u001b[0m\u001b[0;34m'({})'\u001b[0m\u001b[0;34m.\u001b[0m\u001b[0mformat\u001b[0m\u001b[0;34m(\u001b[0m\u001b[0mneurons_as_noise\u001b[0m\u001b[0;34m)\u001b[0m\u001b[0;34m)\u001b[0m\u001b[0;34m\u001b[0m\u001b[0;34m\u001b[0m\u001b[0m\n\u001b[0;32m---> 10\u001b[0;31m \u001b[0mprint\u001b[0m\u001b[0;34m(\u001b[0m\u001b[0;34m'Noise found = '\u001b[0m\u001b[0;34m,\u001b[0m \u001b[0mnoises_found\u001b[0m\u001b[0;34m/\u001b[0m\u001b[0mtotal_noises\u001b[0m\u001b[0;34m*\u001b[0m\u001b[0;36m100\u001b[0m\u001b[0;34m,\u001b[0m \u001b[0;34m'({})'\u001b[0m\u001b[0;34m.\u001b[0m\u001b[0mformat\u001b[0m\u001b[0;34m(\u001b[0m\u001b[0mnoises_found\u001b[0m\u001b[0;34m)\u001b[0m\u001b[0;34m)\u001b[0m\u001b[0;34m\u001b[0m\u001b[0;34m\u001b[0m\u001b[0m\n\u001b[0m",
      "\u001b[0;31mZeroDivisionError\u001b[0m: division by zero"
     ]
    }
   ],
   "source": [
    "neurons = label[:t2]\n",
    "noises = label[t2:]\n",
    "\n",
    "total_neurons = len(neurons)\n",
    "total_noises = len(noises)\n",
    "neurons_as_noise = sum(neurons)\n",
    "noises_found = sum(noises)\n",
    "\n",
    "print('neurons as noise = ',neurons_as_noise/total_neurons*100,'({})'.format(neurons_as_noise))\n",
    "print('Noise found = ', noises_found/total_noises*100, '({})'.format(noises_found))\n"
   ]
  },
  {
   "cell_type": "code",
   "execution_count": 21,
   "metadata": {},
   "outputs": [],
   "source": [
    "def do_one_time(number_votes = 3):\n",
    "    df_train,df_test,t2,t = Train_test_noise(data)\n",
    "    Dist = compute_dist(df_test,df_train)\n",
    "    label = create_label(Dist,t,threshold=.5)\n",
    "\n",
    "    neurons = label[:t2]\n",
    "    noises = label[t2:]\n",
    "\n",
    "    total_neurons = len(neurons)\n",
    "    print('total neurons in test = ',total_neurons,'. This represents ', total_neurons/len(label)*100,' of the test size')\n",
    "    total_noises = len(noises)\n",
    "    print('total neurons in test = ',total_noises,'. This represents ', total_noises/len(label)*100,' of the test size')\n",
    "\n",
    "    \n",
    "    total_found = sum(label)\n",
    "    print( 'The algorithm labeled ',total_found, 'clusters as noise')\n",
    "    \n",
    "    neurons_as_noise = sum(neurons)\n",
    "    print('The algorithm incorrectely labeled',round(neurons_as_noise/total_found*100,2), 'of the test (falses_positives)')\n",
    "    noises_found = sum(noises)\n",
    "    print('The algorithm correctely labeled',round(noises_found/total_found*100,2), 'of the test (True Noises)')\n",
    "    \n",
    "    print('\\n')\n",
    "    print('\\n')\n",
    "\n",
    "    \n",
    "    falses_positives = neurons_as_noise/total_found\n",
    "    noise_found = noises_found/total_noises\n",
    "    \n",
    "    return falses_positives,noise_found"
   ]
  },
  {
   "cell_type": "code",
   "execution_count": 22,
   "metadata": {},
   "outputs": [
    {
     "name": "stdout",
     "output_type": "stream",
     "text": [
      "total neurons in test =  247 . This represents  35.38681948424069  of the test size\n",
      "total neurons in test =  451 . This represents  64.61318051575931  of the test size\n",
      "The algorithm labeled  432 clusters as noise\n",
      "The algorithm incorrectely labeled 11.34 of the test (falses_positives)\n",
      "The algorithm correctely labeled 88.66 of the test (True Noises)\n",
      "\n",
      "\n",
      "\n",
      "\n",
      "total neurons in test =  235 . This represents  36.321483771251934  of the test size\n",
      "total neurons in test =  412 . This represents  63.67851622874807  of the test size\n",
      "The algorithm labeled  385 clusters as noise\n",
      "The algorithm incorrectely labeled 11.43 of the test (falses_positives)\n",
      "The algorithm correctely labeled 88.57 of the test (True Noises)\n",
      "\n",
      "\n",
      "\n",
      "\n",
      "total neurons in test =  276 . This represents  37.653478854024556  of the test size\n",
      "total neurons in test =  457 . This represents  62.346521145975444  of the test size\n",
      "The algorithm labeled  424 clusters as noise\n",
      "The algorithm incorrectely labeled 11.08 of the test (falses_positives)\n",
      "The algorithm correctely labeled 88.92 of the test (True Noises)\n",
      "\n",
      "\n",
      "\n",
      "\n",
      "total neurons in test =  245 . This represents  31.28991060025543  of the test size\n",
      "total neurons in test =  538 . This represents  68.71008939974456  of the test size\n",
      "The algorithm labeled  477 clusters as noise\n",
      "The algorithm incorrectely labeled 6.71 of the test (falses_positives)\n",
      "The algorithm correctely labeled 93.29 of the test (True Noises)\n",
      "\n",
      "\n",
      "\n",
      "\n",
      "total neurons in test =  238 . This represents  35.25925925925926  of the test size\n",
      "total neurons in test =  437 . This represents  64.74074074074075  of the test size\n",
      "The algorithm labeled  395 clusters as noise\n",
      "The algorithm incorrectely labeled 9.11 of the test (falses_positives)\n",
      "The algorithm correctely labeled 90.89 of the test (True Noises)\n",
      "\n",
      "\n",
      "\n",
      "\n",
      "total neurons in test =  144 . This represents  33.48837209302326  of the test size\n",
      "total neurons in test =  286 . This represents  66.51162790697674  of the test size\n",
      "The algorithm labeled  34 clusters as noise\n",
      "The algorithm incorrectely labeled 0.0 of the test (falses_positives)\n",
      "The algorithm correctely labeled 100.0 of the test (True Noises)\n",
      "\n",
      "\n",
      "\n",
      "\n",
      "total neurons in test =  273 . This represents  37.244201909959074  of the test size\n",
      "total neurons in test =  460 . This represents  62.755798090040926  of the test size\n",
      "The algorithm labeled  458 clusters as noise\n",
      "The algorithm incorrectely labeled 10.04 of the test (falses_positives)\n",
      "The algorithm correctely labeled 89.96 of the test (True Noises)\n",
      "\n",
      "\n",
      "\n",
      "\n",
      "total neurons in test =  171 . This represents  35.924369747899156  of the test size\n",
      "total neurons in test =  305 . This represents  64.07563025210085  of the test size\n",
      "The algorithm labeled  105 clusters as noise\n",
      "The algorithm incorrectely labeled 7.62 of the test (falses_positives)\n",
      "The algorithm correctely labeled 92.38 of the test (True Noises)\n",
      "\n",
      "\n",
      "\n",
      "\n",
      "total neurons in test =  198 . This represents  34.797891036906854  of the test size\n",
      "total neurons in test =  371 . This represents  65.20210896309314  of the test size\n",
      "The algorithm labeled  293 clusters as noise\n",
      "The algorithm incorrectely labeled 10.92 of the test (falses_positives)\n",
      "The algorithm correctely labeled 89.08 of the test (True Noises)\n",
      "\n",
      "\n",
      "\n",
      "\n",
      "total neurons in test =  273 . This represents  32.231404958677686  of the test size\n",
      "total neurons in test =  574 . This represents  67.76859504132231  of the test size\n",
      "The algorithm labeled  658 clusters as noise\n",
      "The algorithm incorrectely labeled 27.36 of the test (falses_positives)\n",
      "The algorithm correctely labeled 72.64 of the test (True Noises)\n",
      "\n",
      "\n",
      "\n",
      "\n",
      "total neurons in test =  210 . This represents  34.48275862068966  of the test size\n",
      "total neurons in test =  399 . This represents  65.51724137931035  of the test size\n",
      "The algorithm labeled  291 clusters as noise\n",
      "The algorithm incorrectely labeled 9.97 of the test (falses_positives)\n",
      "The algorithm correctely labeled 90.03 of the test (True Noises)\n",
      "\n",
      "\n",
      "\n",
      "\n",
      "total neurons in test =  161 . This represents  32.13572854291417  of the test size\n",
      "total neurons in test =  340 . This represents  67.86427145708582  of the test size\n",
      "The algorithm labeled  247 clusters as noise\n",
      "The algorithm incorrectely labeled 7.69 of the test (falses_positives)\n",
      "The algorithm correctely labeled 92.31 of the test (True Noises)\n",
      "\n",
      "\n",
      "\n",
      "\n",
      "total neurons in test =  249 . This represents  32.21216041397154  of the test size\n",
      "total neurons in test =  524 . This represents  67.78783958602847  of the test size\n",
      "The algorithm labeled  501 clusters as noise\n",
      "The algorithm incorrectely labeled 8.38 of the test (falses_positives)\n",
      "The algorithm correctely labeled 91.62 of the test (True Noises)\n",
      "\n",
      "\n",
      "\n",
      "\n",
      "total neurons in test =  283 . This represents  32.79258400926999  of the test size\n",
      "total neurons in test =  580 . This represents  67.20741599073001  of the test size\n",
      "The algorithm labeled  732 clusters as noise\n",
      "The algorithm incorrectely labeled 28.28 of the test (falses_positives)\n",
      "The algorithm correctely labeled 71.72 of the test (True Noises)\n",
      "\n",
      "\n",
      "\n",
      "\n",
      "total neurons in test =  172 . This represents  37.63676148796499  of the test size\n",
      "total neurons in test =  285 . This represents  62.36323851203501  of the test size\n",
      "The algorithm labeled  64 clusters as noise\n",
      "The algorithm incorrectely labeled 1.56 of the test (falses_positives)\n",
      "The algorithm correctely labeled 98.44 of the test (True Noises)\n",
      "\n",
      "\n",
      "\n",
      "\n",
      "total neurons in test =  183 . This represents  40.75723830734967  of the test size\n",
      "total neurons in test =  266 . This represents  59.24276169265033  of the test size\n",
      "The algorithm labeled  66 clusters as noise\n",
      "The algorithm incorrectely labeled 3.03 of the test (falses_positives)\n",
      "The algorithm correctely labeled 96.97 of the test (True Noises)\n",
      "\n",
      "\n",
      "\n",
      "\n",
      "total neurons in test =  240 . This represents  33.42618384401114  of the test size\n",
      "total neurons in test =  478 . This represents  66.57381615598887  of the test size\n",
      "The algorithm labeled  438 clusters as noise\n",
      "The algorithm incorrectely labeled 6.85 of the test (falses_positives)\n",
      "The algorithm correctely labeled 93.15 of the test (True Noises)\n",
      "\n",
      "\n",
      "\n",
      "\n",
      "total neurons in test =  161 . This represents  31.56862745098039  of the test size\n",
      "total neurons in test =  349 . This represents  68.43137254901961  of the test size\n",
      "The algorithm labeled  208 clusters as noise\n",
      "The algorithm incorrectely labeled 5.77 of the test (falses_positives)\n",
      "The algorithm correctely labeled 94.23 of the test (True Noises)\n",
      "\n",
      "\n",
      "\n",
      "\n",
      "total neurons in test =  138 . This represents  31.57894736842105  of the test size\n",
      "total neurons in test =  299 . This represents  68.42105263157895  of the test size\n",
      "The algorithm labeled  96 clusters as noise\n",
      "The algorithm incorrectely labeled 2.08 of the test (falses_positives)\n",
      "The algorithm correctely labeled 97.92 of the test (True Noises)\n",
      "\n",
      "\n",
      "\n",
      "\n",
      "total neurons in test =  144 . This represents  35.82089552238806  of the test size\n",
      "total neurons in test =  258 . This represents  64.17910447761194  of the test size\n",
      "The algorithm labeled  60 clusters as noise\n",
      "The algorithm incorrectely labeled 1.67 of the test (falses_positives)\n",
      "The algorithm correctely labeled 98.33 of the test (True Noises)\n",
      "\n",
      "\n",
      "\n",
      "\n"
     ]
    }
   ],
   "source": [
    "falses_positives_list = []\n",
    "noise_found_list= []\n",
    "for i in range(20):\n",
    "    a,b =  do_one_time(number_votes=1)\n",
    "    falses_positives_list.append(a)\n",
    "    noise_found_list.append(b)"
   ]
  },
  {
   "cell_type": "code",
   "execution_count": 23,
   "metadata": {},
   "outputs": [
    {
     "name": "stdout",
     "output_type": "stream",
     "text": [
      "0.09044982201240623 pm 0.07169026155526116\n",
      "0.6273772411668748 pm 0.2691610005800522\n"
     ]
    }
   ],
   "source": [
    "print(np.mean(falses_positives_list),'pm',np.std(falses_positives_list))\n",
    "print(np.mean(noise_found_list),'pm',np.std(noise_found_list))"
   ]
  },
  {
   "cell_type": "code",
   "execution_count": null,
   "metadata": {},
   "outputs": [],
   "source": []
  },
  {
   "cell_type": "code",
   "execution_count": null,
   "metadata": {},
   "outputs": [],
   "source": []
  }
 ],
 "metadata": {
  "kernelspec": {
   "display_name": "Python 3",
   "language": "python",
   "name": "python3"
  },
  "language_info": {
   "codemirror_mode": {
    "name": "ipython",
    "version": 3
   },
   "file_extension": ".py",
   "mimetype": "text/x-python",
   "name": "python",
   "nbconvert_exporter": "python",
   "pygments_lexer": "ipython3",
   "version": "3.7.6"
  }
 },
 "nbformat": 4,
 "nbformat_minor": 4
}
