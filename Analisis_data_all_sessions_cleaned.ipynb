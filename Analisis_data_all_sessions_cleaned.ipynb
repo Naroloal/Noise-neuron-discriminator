{
 "cells": [
  {
   "cell_type": "code",
   "execution_count": 137,
   "metadata": {},
   "outputs": [],
   "source": [
    "import pandas as pd\n",
    "import numpy as np\n",
    "%matplotlib inline\n",
    "import matplotlib.pyplot as plt\n",
    "from IPython.core.interactiveshell import InteractiveShell\n",
    "InteractiveShell.ast_node_interactivity = \"all\"\n",
    "from Funciones_auxiliares import plot_Bulk\n",
    "from scipy.interpolate import UnivariateSpline\n"
   ]
  },
  {
   "cell_type": "markdown",
   "metadata": {},
   "source": [
    "### Importamos los datos, y separamos en Noise,Neuron y Multiunit"
   ]
  },
  {
   "cell_type": "code",
   "execution_count": 2,
   "metadata": {},
   "outputs": [],
   "source": [
    "data = pd.read_pickle('Datos/PCCIBNMZc')\n",
    "#data.drop(columns = 'Bulk',inplace = True)\n",
    "noise = data[data.bNoise == 1]\n",
    "neuron = data[data.bNoise == 0]\n",
    "MU = data[data.bNoise == 2]"
   ]
  },
  {
   "cell_type": "code",
   "execution_count": 3,
   "metadata": {},
   "outputs": [
    {
     "data": {
      "text/plain": [
       "Index(['PatientExperiment', 'Channel', 'Cluster', 'ISI', 'Bulk', 'bNoise',\n",
       "       'Mean', 'ZeroCrossings'],\n",
       "      dtype='object')"
      ]
     },
     "execution_count": 3,
     "metadata": {},
     "output_type": "execute_result"
    }
   ],
   "source": [
    "data.columns"
   ]
  },
  {
   "cell_type": "code",
   "execution_count": 4,
   "metadata": {},
   "outputs": [
    {
     "name": "stdout",
     "output_type": "stream",
     "text": [
      "1050\n",
      "316\n",
      "204\n"
     ]
    }
   ],
   "source": [
    "print(len(noise))\n",
    "print(len(neuron))\n",
    "print(len(MU))"
   ]
  },
  {
   "cell_type": "markdown",
   "metadata": {},
   "source": [
    "### Ejemplo de la media"
   ]
  },
  {
   "cell_type": "code",
   "execution_count": 5,
   "metadata": {},
   "outputs": [
    {
     "data": {
      "text/plain": [
       "[<matplotlib.lines.Line2D at 0x7fd8f929d910>]"
      ]
     },
     "execution_count": 5,
     "metadata": {},
     "output_type": "execute_result"
    },
    {
     "data": {
      "text/plain": [
       "<matplotlib.collections.LineCollection at 0x7fd8f8f6a4d0>"
      ]
     },
     "execution_count": 5,
     "metadata": {},
     "output_type": "execute_result"
    },
    {
     "data": {
      "image/png": "[encoded data removed]",
      "text/plain": [
       "<Figure size 432x288 with 1 Axes>"
      ]
     },
     "metadata": {
      "needs_background": "light"
     },
     "output_type": "display_data"
    }
   ],
   "source": [
    "fig = plt.figure()\n",
    "ax = fig.subplots(1)\n",
    "x = neuron.Mean.iloc[10]\n",
    "ax.plot(np.arange(len(x)),x)\n",
    "plt.vlines(x = 19,ymin = -120,ymax = 20)"
   ]
  },
  {
   "cell_type": "markdown",
   "metadata": {},
   "source": [
    "### Puede verse que el pico de cada spike se encuentra en el elemento 20 (i = 19)"
   ]
  },
  {
   "cell_type": "code",
   "execution_count": 6,
   "metadata": {},
   "outputs": [],
   "source": [
    "data['Amplitude'] = data.Mean.apply(lambda row: row[19])"
   ]
  },
  {
   "cell_type": "code",
   "execution_count": 7,
   "metadata": {},
   "outputs": [
    {
     "data": {
      "text/plain": [
       "<BarContainer object of 20 artists>"
      ]
     },
     "execution_count": 7,
     "metadata": {},
     "output_type": "execute_result"
    },
    {
     "data": {
      "text/plain": [
       "<BarContainer object of 20 artists>"
      ]
     },
     "execution_count": 7,
     "metadata": {},
     "output_type": "execute_result"
    },
    {
     "data": {
      "text/plain": [
       "<BarContainer object of 20 artists>"
      ]
     },
     "execution_count": 7,
     "metadata": {},
     "output_type": "execute_result"
    },
    {
     "data": {
      "text/plain": [
       "<matplotlib.legend.Legend at 0x7fd8f88ea0d0>"
      ]
     },
     "execution_count": 7,
     "metadata": {},
     "output_type": "execute_result"
    },
    {
     "data": {
      "text/plain": [
       "Text(0.5, 1.0, 'Amplitude')"
      ]
     },
     "execution_count": 7,
     "metadata": {},
     "output_type": "execute_result"
    },
    {
     "data": {
      "image/png": "[encoded data removed]",
      "text/plain": [
       "<Figure size 720x720 with 1 Axes>"
      ]
     },
     "metadata": {
      "needs_background": "light"
     },
     "output_type": "display_data"
    }
   ],
   "source": [
    "fig, ax = plt.subplots(figsize = (10,10))\n",
    "neuron_heights,neuron_bins = np.histogram(data[data.bNoise == 0].Amplitude,bins = 20)\n",
    "noise_heights,noise_bins = np.histogram(data[data.bNoise == 1].Amplitude,bins = neuron_bins)\n",
    "mu_heights,mu_bins = np.histogram(data[data.bNoise == 2].Amplitude,bins = neuron_bins)\n",
    "\n",
    "width = (noise_bins[1] - noise_bins[0])\n",
    "neuron_heights = neuron_heights/(sum(neuron_heights)*width)\n",
    "noise_heights = noise_heights/(sum(noise_heights)*width)\n",
    "mu_heights = mu_heights/(sum(mu_heights)*width)\n",
    "\n",
    "width = (noise_bins[1] - noise_bins[0])/3\n",
    "\n",
    "ax.bar(noise_bins[:-1], noise_heights, width=width, facecolor='cornflowerblue',label = \"Noise\")\n",
    "ax.bar(neuron_bins[:-1]+width, neuron_heights, width=width, facecolor='seagreen',label = \"Neuron\")\n",
    "ax.bar(neuron_bins[:-1]+2*width, mu_heights, width=width, facecolor='red',label = \"Mu\" )\n",
    "\n",
    "plt.legend()\n",
    "plt.title(\"Amplitude\")"
   ]
  },
  {
   "cell_type": "code",
   "execution_count": null,
   "metadata": {},
   "outputs": [],
   "source": []
  },
  {
   "cell_type": "markdown",
   "metadata": {},
   "source": [
    "### Amplitude peak to peak"
   ]
  },
  {
   "cell_type": "code",
   "execution_count": 8,
   "metadata": {},
   "outputs": [],
   "source": [
    "data['Amplitude_peaktopeak'] = data.Mean.apply(lambda row: np.max(row) - np.min(row))"
   ]
  },
  {
   "cell_type": "code",
   "execution_count": 9,
   "metadata": {},
   "outputs": [
    {
     "data": {
      "text/plain": [
       "<BarContainer object of 20 artists>"
      ]
     },
     "execution_count": 9,
     "metadata": {},
     "output_type": "execute_result"
    },
    {
     "data": {
      "text/plain": [
       "<BarContainer object of 20 artists>"
      ]
     },
     "execution_count": 9,
     "metadata": {},
     "output_type": "execute_result"
    },
    {
     "data": {
      "text/plain": [
       "<BarContainer object of 20 artists>"
      ]
     },
     "execution_count": 9,
     "metadata": {},
     "output_type": "execute_result"
    },
    {
     "data": {
      "text/plain": [
       "<matplotlib.legend.Legend at 0x7fd8f7bc8f50>"
      ]
     },
     "execution_count": 9,
     "metadata": {},
     "output_type": "execute_result"
    },
    {
     "data": {
      "text/plain": [
       "Text(0.5, 1.0, 'Amplitude peak to peak')"
      ]
     },
     "execution_count": 9,
     "metadata": {},
     "output_type": "execute_result"
    },
    {
     "data": {
      "image/png": "[encoded data removed]",
      "text/plain": [
       "<Figure size 720x720 with 1 Axes>"
      ]
     },
     "metadata": {
      "needs_background": "light"
     },
     "output_type": "display_data"
    }
   ],
   "source": [
    "fig, ax = plt.subplots(figsize = (10,10))\n",
    "neuron_heights,neuron_bins = np.histogram(data[data.bNoise == 0].Amplitude_peaktopeak,bins = 20)\n",
    "noise_heights,noise_bins = np.histogram(data[data.bNoise == 1].Amplitude_peaktopeak,bins = neuron_bins)\n",
    "mu_heights,mu_bins = np.histogram(data[data.bNoise == 2].Amplitude_peaktopeak,bins = neuron_bins)\n",
    "\n",
    "neuron_heights = neuron_heights/(sum(neuron_heights)*width)\n",
    "noise_heights = noise_heights/(sum(noise_heights)*width)\n",
    "mu_heights = mu_heights/(sum(mu_heights)*width)\n",
    "\n",
    "width = (noise_bins[1] - noise_bins[0])/4\n",
    "\n",
    "ax.bar(noise_bins[:-1], noise_heights, width=width, facecolor='cornflowerblue',label = \"noise\")\n",
    "ax.bar(neuron_bins[:-1]+width, neuron_heights, width=width, facecolor='seagreen',label = \"neuron\")\n",
    "ax.bar(neuron_bins[:-1]+2*width, mu_heights, width=width, facecolor='red',label = \"mu\")\n",
    "plt.legend()\n",
    "plt.title(\"Amplitude peak to peak\")"
   ]
  },
  {
   "cell_type": "code",
   "execution_count": 10,
   "metadata": {},
   "outputs": [
    {
     "data": {
      "text/plain": [
       "80.6287338072072"
      ]
     },
     "execution_count": 10,
     "metadata": {},
     "output_type": "execute_result"
    }
   ],
   "source": [
    "m1 = data[data.bNoise == 0].Amplitude_peaktopeak.mean()\n",
    "l1 = len(data[data.bNoise == 0].Amplitude_peaktopeak)\n",
    "m2 = data[data.bNoise == 2].Amplitude_peaktopeak.mean()\n",
    "l2 = len(data[data.bNoise == 2].Amplitude_peaktopeak)\n",
    "s1 = data[data.bNoise == 0].Amplitude_peaktopeak.std()\n",
    "s2 = data[data.bNoise == 2].Amplitude_peaktopeak.std()\n",
    "\n",
    "z = (m1 - m2)/np.sqrt(s1/l1 + s2/l2)\n",
    "z"
   ]
  },
  {
   "cell_type": "code",
   "execution_count": 11,
   "metadata": {
    "scrolled": true
   },
   "outputs": [
    {
     "data": {
      "text/html": [
       "<div>\n",
       "<style scoped>\n",
       "    .dataframe tbody tr th:only-of-type {\n",
       "        vertical-align: middle;\n",
       "    }\n",
       "\n",
       "    .dataframe tbody tr th {\n",
       "        vertical-align: top;\n",
       "    }\n",
       "\n",
       "    .dataframe thead th {\n",
       "        text-align: right;\n",
       "    }\n",
       "</style>\n",
       "<table border=\"1\" class=\"dataframe\">\n",
       "  <thead>\n",
       "    <tr style=\"text-align: right;\">\n",
       "      <th></th>\n",
       "      <th>PatientExperiment</th>\n",
       "      <th>Channel</th>\n",
       "      <th>Cluster</th>\n",
       "      <th>ISI</th>\n",
       "      <th>Bulk</th>\n",
       "      <th>bNoise</th>\n",
       "      <th>Mean</th>\n",
       "      <th>ZeroCrossings</th>\n",
       "      <th>Amplitude</th>\n",
       "      <th>Amplitude_peaktopeak</th>\n",
       "    </tr>\n",
       "  </thead>\n",
       "  <tbody>\n",
       "    <tr>\n",
       "      <th>450</th>\n",
       "      <td>HEC017\\017context1\\017context1_prescr</td>\n",
       "      <td>107</td>\n",
       "      <td>1</td>\n",
       "      <td>[0, 16, 32, 27, 11, 19, 34, 24, 18, 23, 24, 20...</td>\n",
       "      <td>[[-0.5022087772486994, -0.7570957287800967, -6...</td>\n",
       "      <td>0</td>\n",
       "      <td>[2.5889375403704613, 3.238523797766915, 3.5984...</td>\n",
       "      <td>4</td>\n",
       "      <td>-39.516137</td>\n",
       "      <td>47.750134</td>\n",
       "    </tr>\n",
       "    <tr>\n",
       "      <th>451</th>\n",
       "      <td>HEC017\\017context1\\017context1_prescr</td>\n",
       "      <td>108</td>\n",
       "      <td>1</td>\n",
       "      <td>[0, 15, 28, 21, 21, 28, 47, 37, 27, 33, 28, 27...</td>\n",
       "      <td>[[-0.8039600986828503, -5.106483972215248, -4....</td>\n",
       "      <td>0</td>\n",
       "      <td>[2.888506387964795, 3.2857403522152815, 3.5042...</td>\n",
       "      <td>2</td>\n",
       "      <td>-36.043086</td>\n",
       "      <td>43.338600</td>\n",
       "    </tr>\n",
       "    <tr>\n",
       "      <th>455</th>\n",
       "      <td>HEC017\\017context1\\017context1_prescr</td>\n",
       "      <td>109</td>\n",
       "      <td>2</td>\n",
       "      <td>[0, 90, 537, 338, 298, 171, 161, 149, 126, 112...</td>\n",
       "      <td>[[14.850080825134437, 10.044594544432831, -0.9...</td>\n",
       "      <td>0</td>\n",
       "      <td>[4.921244365834821, 5.305847401886366, 5.48292...</td>\n",
       "      <td>2</td>\n",
       "      <td>-40.032171</td>\n",
       "      <td>47.623862</td>\n",
       "    </tr>\n",
       "    <tr>\n",
       "      <th>458</th>\n",
       "      <td>HEC017\\017context1\\017context1_prescr</td>\n",
       "      <td>111</td>\n",
       "      <td>1</td>\n",
       "      <td>[0, 408, 162, 203, 75, 76, 57, 65, 58, 62, 78,...</td>\n",
       "      <td>[[11.07369178086354, 5.924531485799744, 7.4733...</td>\n",
       "      <td>0</td>\n",
       "      <td>[4.453470841617727, 4.485020865311145, 4.42454...</td>\n",
       "      <td>2</td>\n",
       "      <td>-36.157333</td>\n",
       "      <td>44.452508</td>\n",
       "    </tr>\n",
       "    <tr>\n",
       "      <th>460</th>\n",
       "      <td>HEC017\\017context1\\017context1_prescr</td>\n",
       "      <td>112</td>\n",
       "      <td>1</td>\n",
       "      <td>[0, 69, 318, 260, 161, 126, 104, 114, 95, 77, ...</td>\n",
       "      <td>[[0.23889132557140236, 1.4646041034658785, 4.4...</td>\n",
       "      <td>0</td>\n",
       "      <td>[4.433098513579291, 4.772398223850272, 4.86248...</td>\n",
       "      <td>2</td>\n",
       "      <td>-36.385746</td>\n",
       "      <td>44.077525</td>\n",
       "    </tr>\n",
       "    <tr>\n",
       "      <th>462</th>\n",
       "      <td>HEC017\\017context1\\017context1_prescr</td>\n",
       "      <td>113</td>\n",
       "      <td>1</td>\n",
       "      <td>[0, 6, 9, 14, 7, 8, 6, 4, 10, 5, 4, 6, 5, 8, 6...</td>\n",
       "      <td>[[0.028840555280716718, -3.811504702359728, -7...</td>\n",
       "      <td>0</td>\n",
       "      <td>[3.082052773926598, 3.8494951053011324, 4.3364...</td>\n",
       "      <td>2</td>\n",
       "      <td>-35.935299</td>\n",
       "      <td>43.558487</td>\n",
       "    </tr>\n",
       "    <tr>\n",
       "      <th>465</th>\n",
       "      <td>HEC017\\017context1\\017context1_prescr</td>\n",
       "      <td>114</td>\n",
       "      <td>2</td>\n",
       "      <td>[0, 16, 9, 5, 6, 9, 7, 4, 3, 5, 1, 8, 0, 4, 2,...</td>\n",
       "      <td>[[5.663036020027322, 3.060711974239128, 4.0073...</td>\n",
       "      <td>0</td>\n",
       "      <td>[3.9878540896052375, 4.602476194927192, 5.0144...</td>\n",
       "      <td>2</td>\n",
       "      <td>-36.149304</td>\n",
       "      <td>41.283342</td>\n",
       "    </tr>\n",
       "    <tr>\n",
       "      <th>466</th>\n",
       "      <td>HEC017\\017context1\\017context1_prescr</td>\n",
       "      <td>115</td>\n",
       "      <td>1</td>\n",
       "      <td>[0, 3, 9, 5, 2, 2, 5, 1, 1, 4, 2, 4, 4, 3, 0, ...</td>\n",
       "      <td>[[2.2680003736319714, -1.7307194843249958, -4....</td>\n",
       "      <td>0</td>\n",
       "      <td>[3.1258517992932164, 3.4761309254815225, 3.678...</td>\n",
       "      <td>2</td>\n",
       "      <td>-38.322134</td>\n",
       "      <td>45.307623</td>\n",
       "    </tr>\n",
       "    <tr>\n",
       "      <th>469</th>\n",
       "      <td>HEC017\\017context1\\017context1_prescr</td>\n",
       "      <td>116</td>\n",
       "      <td>2</td>\n",
       "      <td>[0, 4, 10, 2, 2, 3, 6, 2, 2, 2, 1, 3, 4, 1, 1,...</td>\n",
       "      <td>[[1.4854699457849019, 0.21634422599534756, -0....</td>\n",
       "      <td>0</td>\n",
       "      <td>[3.645251460326459, 4.137248378815186, 4.30954...</td>\n",
       "      <td>2</td>\n",
       "      <td>-37.466684</td>\n",
       "      <td>44.027597</td>\n",
       "    </tr>\n",
       "    <tr>\n",
       "      <th>471</th>\n",
       "      <td>HEC017\\017context1\\017context1_prescr</td>\n",
       "      <td>118</td>\n",
       "      <td>1</td>\n",
       "      <td>[0, 5, 7, 3, 4, 1, 1, 0, 2, 1, 2, 2, 3, 1, 1, ...</td>\n",
       "      <td>[[8.03702579723716, 5.537183146968905, 5.62763...</td>\n",
       "      <td>0</td>\n",
       "      <td>[3.5695350541685333, 4.184252443709786, 4.7853...</td>\n",
       "      <td>2</td>\n",
       "      <td>-37.528333</td>\n",
       "      <td>42.699317</td>\n",
       "    </tr>\n",
       "    <tr>\n",
       "      <th>481</th>\n",
       "      <td>HEC017\\017context1\\017context1_prescr</td>\n",
       "      <td>105</td>\n",
       "      <td>1</td>\n",
       "      <td>[0, 21, 44, 38, 25, 29, 51, 20, 23, 29, 40, 18...</td>\n",
       "      <td>[[5.689446531524039, 5.651346401859753, 1.2531...</td>\n",
       "      <td>0</td>\n",
       "      <td>[3.250762796305279, 4.132019637379001, 4.51544...</td>\n",
       "      <td>4</td>\n",
       "      <td>-36.287941</td>\n",
       "      <td>42.698426</td>\n",
       "    </tr>\n",
       "    <tr>\n",
       "      <th>484</th>\n",
       "      <td>HEC017\\017context1\\017context1_postscr</td>\n",
       "      <td>100</td>\n",
       "      <td>1</td>\n",
       "      <td>[0, 94, 274, 231, 199, 199, 246, 221, 185, 180...</td>\n",
       "      <td>[[-0.4806771547176042, 3.370033195057542, 6.74...</td>\n",
       "      <td>0</td>\n",
       "      <td>[3.2420919020432075, 3.3783689478185193, 3.408...</td>\n",
       "      <td>2</td>\n",
       "      <td>-41.483513</td>\n",
       "      <td>48.470570</td>\n",
       "    </tr>\n",
       "    <tr>\n",
       "      <th>500</th>\n",
       "      <td>HEC017\\017context1\\017context1_postscr</td>\n",
       "      <td>108</td>\n",
       "      <td>1</td>\n",
       "      <td>[0, 14, 28, 21, 22, 28, 48, 39, 27, 32, 28, 26...</td>\n",
       "      <td>[[-0.8039600986828503, -5.106483972215248, -4....</td>\n",
       "      <td>0</td>\n",
       "      <td>[2.897103499271979, 3.283302850321114, 3.49170...</td>\n",
       "      <td>2</td>\n",
       "      <td>-36.053383</td>\n",
       "      <td>43.329640</td>\n",
       "    </tr>\n",
       "    <tr>\n",
       "      <th>504</th>\n",
       "      <td>HEC017\\017context1\\017context1_postscr</td>\n",
       "      <td>109</td>\n",
       "      <td>2</td>\n",
       "      <td>[0, 90, 558, 345, 297, 170, 172, 151, 129, 109...</td>\n",
       "      <td>[[14.850080825134437, 10.044594544432831, -0.9...</td>\n",
       "      <td>0</td>\n",
       "      <td>[4.958804047153008, 5.344419132049026, 5.52252...</td>\n",
       "      <td>2</td>\n",
       "      <td>-40.240709</td>\n",
       "      <td>47.882443</td>\n",
       "    </tr>\n",
       "    <tr>\n",
       "      <th>507</th>\n",
       "      <td>HEC017\\017context1\\017context1_postscr</td>\n",
       "      <td>111</td>\n",
       "      <td>1</td>\n",
       "      <td>[0, 410, 161, 202, 74, 76, 57, 66, 58, 60, 76,...</td>\n",
       "      <td>[[11.07369178086354, 5.924531485799744, 7.4733...</td>\n",
       "      <td>0</td>\n",
       "      <td>[4.461377763888951, 4.489403162135416, 4.42679...</td>\n",
       "      <td>2</td>\n",
       "      <td>-36.164948</td>\n",
       "      <td>44.467371</td>\n",
       "    </tr>\n",
       "    <tr>\n",
       "      <th>511</th>\n",
       "      <td>HEC017\\017context1\\017context1_postscr</td>\n",
       "      <td>113</td>\n",
       "      <td>1</td>\n",
       "      <td>[0, 6, 10, 14, 8, 8, 6, 4, 10, 5, 5, 7, 6, 7, ...</td>\n",
       "      <td>[[0.028840555280716718, -3.811504702359728, -7...</td>\n",
       "      <td>0</td>\n",
       "      <td>[3.1220823005122145, 3.889625614182662, 4.3510...</td>\n",
       "      <td>2</td>\n",
       "      <td>-37.698329</td>\n",
       "      <td>44.954572</td>\n",
       "    </tr>\n",
       "    <tr>\n",
       "      <th>515</th>\n",
       "      <td>HEC017\\017context1\\017context1_postscr</td>\n",
       "      <td>115</td>\n",
       "      <td>1</td>\n",
       "      <td>[0, 3, 9, 4, 3, 2, 5, 1, 1, 4, 2, 4, 4, 3, 0, ...</td>\n",
       "      <td>[[2.2680003736319714, -1.7307194843249958, -4....</td>\n",
       "      <td>0</td>\n",
       "      <td>[3.0702708393469473, 3.4438010226720657, 3.675...</td>\n",
       "      <td>2</td>\n",
       "      <td>-37.486871</td>\n",
       "      <td>44.507614</td>\n",
       "    </tr>\n",
       "    <tr>\n",
       "      <th>536</th>\n",
       "      <td>HEC017\\017context1\\017context1_postscr</td>\n",
       "      <td>128</td>\n",
       "      <td>1</td>\n",
       "      <td>[0, 852, 609, 218, 105, 108, 48, 70, 20, 46, 1...</td>\n",
       "      <td>[[13.288905576623005, 13.258391814001017, 8.52...</td>\n",
       "      <td>0</td>\n",
       "      <td>[7.4036482790389115, 6.566093193048495, 5.3906...</td>\n",
       "      <td>2</td>\n",
       "      <td>-33.549905</td>\n",
       "      <td>46.721748</td>\n",
       "    </tr>\n",
       "    <tr>\n",
       "      <th>539</th>\n",
       "      <td>HEC017\\017context1\\017context1_postscr</td>\n",
       "      <td>98</td>\n",
       "      <td>1</td>\n",
       "      <td>[0, 62, 164, 116, 54, 51, 72, 56, 39, 44, 51, ...</td>\n",
       "      <td>[[0.4291355090516942, -3.8699622564726024, -4....</td>\n",
       "      <td>0</td>\n",
       "      <td>[2.754131879425186, 3.0047126295299775, 3.0877...</td>\n",
       "      <td>2</td>\n",
       "      <td>-36.282423</td>\n",
       "      <td>41.711369</td>\n",
       "    </tr>\n",
       "    <tr>\n",
       "      <th>541</th>\n",
       "      <td>HEC017\\017context1\\017context1_postscr</td>\n",
       "      <td>99</td>\n",
       "      <td>1</td>\n",
       "      <td>[0, 19, 128, 108, 56, 66, 90, 88, 88, 114, 103...</td>\n",
       "      <td>[[10.934844097588558, 5.781906159642984, 3.562...</td>\n",
       "      <td>0</td>\n",
       "      <td>[4.822855614078509, 4.906386184719936, 4.86670...</td>\n",
       "      <td>2</td>\n",
       "      <td>-37.768562</td>\n",
       "      <td>44.086489</td>\n",
       "    </tr>\n",
       "    <tr>\n",
       "      <th>553</th>\n",
       "      <td>HEC017\\017context2</td>\n",
       "      <td>107</td>\n",
       "      <td>1</td>\n",
       "      <td>[0, 78, 564, 147, 164, 75, 116, 18, 47, 146, 1...</td>\n",
       "      <td>[[3.2382985424988027, 4.738774250667177, 7.659...</td>\n",
       "      <td>0</td>\n",
       "      <td>[1.426278079498708, 1.7603041565689486, 2.9430...</td>\n",
       "      <td>4</td>\n",
       "      <td>-33.865808</td>\n",
       "      <td>40.001344</td>\n",
       "    </tr>\n",
       "    <tr>\n",
       "      <th>591</th>\n",
       "      <td>HEC018\\fanis1-HEC18\\001lfpscr_context_pre</td>\n",
       "      <td>65</td>\n",
       "      <td>1</td>\n",
       "      <td>[0, 2, 7, 7, 3, 2, 10, 4, 1, 6, 11, 3, 3, 5, 3...</td>\n",
       "      <td>[[4.581565565305138, 0.41344211919758145, -3.3...</td>\n",
       "      <td>0</td>\n",
       "      <td>[4.59723514653238, 4.322506240970256, 3.997594...</td>\n",
       "      <td>2</td>\n",
       "      <td>-37.627395</td>\n",
       "      <td>42.224631</td>\n",
       "    </tr>\n",
       "    <tr>\n",
       "      <th>596</th>\n",
       "      <td>HEC018\\fanis1-HEC18\\001lfpscr_context_pre</td>\n",
       "      <td>66</td>\n",
       "      <td>3</td>\n",
       "      <td>[0, 0, 0, 0, 0, 0, 0, 0, 0, 1, 1, 0, 0, 0, 0, ...</td>\n",
       "      <td>[[7.913788931289379, 6.629237765734956, 6.0087...</td>\n",
       "      <td>0</td>\n",
       "      <td>[0.16762823094774365, 0.36027834053479374, 0.7...</td>\n",
       "      <td>2</td>\n",
       "      <td>-29.190195</td>\n",
       "      <td>46.054160</td>\n",
       "    </tr>\n",
       "    <tr>\n",
       "      <th>602</th>\n",
       "      <td>HEC018\\fanis1-HEC18\\001lfpscr_context_pre</td>\n",
       "      <td>68</td>\n",
       "      <td>3</td>\n",
       "      <td>[0, 1, 5, 22, 31, 38, 24, 19, 20, 26, 30, 20, ...</td>\n",
       "      <td>[[-2.271469769617593, -3.1316801462660266, -6....</td>\n",
       "      <td>0</td>\n",
       "      <td>[2.640716917878893, 2.9145750841967364, 3.1293...</td>\n",
       "      <td>2</td>\n",
       "      <td>-35.654983</td>\n",
       "      <td>46.812703</td>\n",
       "    </tr>\n",
       "    <tr>\n",
       "      <th>606</th>\n",
       "      <td>HEC018\\fanis1-HEC18\\001lfpscr_context_pre</td>\n",
       "      <td>70</td>\n",
       "      <td>1</td>\n",
       "      <td>[0, 1, 0, 0, 1, 0, 0, 0, 0, 0, 0, 0, 0, 1, 0, ...</td>\n",
       "      <td>[[3.2525111910241487, 2.593941488215554, 1.179...</td>\n",
       "      <td>0</td>\n",
       "      <td>[1.057654318737655, 0.9673862950523217, 0.8052...</td>\n",
       "      <td>2</td>\n",
       "      <td>-41.650846</td>\n",
       "      <td>48.264604</td>\n",
       "    </tr>\n",
       "    <tr>\n",
       "      <th>611</th>\n",
       "      <td>HEC018\\fanis1-HEC18\\001lfpscr_context_pre</td>\n",
       "      <td>72</td>\n",
       "      <td>3</td>\n",
       "      <td>[0, 0, 0, 0, 0, 0, 0, 0, 0, 0, 0, 0, 0, 0, 0, ...</td>\n",
       "      <td>[[9.180219002045062, 13.545447897587417, 17.94...</td>\n",
       "      <td>0</td>\n",
       "      <td>[5.464962281578532, 6.087312538740275, 6.66916...</td>\n",
       "      <td>2</td>\n",
       "      <td>-30.852797</td>\n",
       "      <td>49.015111</td>\n",
       "    </tr>\n",
       "    <tr>\n",
       "      <th>631</th>\n",
       "      <td>HEC018\\fanis1-HEC18\\001lfpscr_context_pre</td>\n",
       "      <td>79</td>\n",
       "      <td>1</td>\n",
       "      <td>[0, 328, 883, 1358, 1537, 926, 796, 562, 461, ...</td>\n",
       "      <td>[[-0.6190173986428986, -1.511409066629636, -1....</td>\n",
       "      <td>0</td>\n",
       "      <td>[2.233181772568155, 2.0826651068080646, 1.8700...</td>\n",
       "      <td>2</td>\n",
       "      <td>-40.782310</td>\n",
       "      <td>48.683983</td>\n",
       "    </tr>\n",
       "    <tr>\n",
       "      <th>666</th>\n",
       "      <td>HEC006\\novel1</td>\n",
       "      <td>66</td>\n",
       "      <td>2</td>\n",
       "      <td>[0, 3, 1, 2, 3, 3, 2, 2, 4, 0, 0, 5, 2, 1, 3, ...</td>\n",
       "      <td>[[0.4770601679293598, -7.115889088063303, -11....</td>\n",
       "      <td>0</td>\n",
       "      <td>[0.1074842285232578, -0.6995478120783485, -1.4...</td>\n",
       "      <td>4</td>\n",
       "      <td>-36.828024</td>\n",
       "      <td>43.640586</td>\n",
       "    </tr>\n",
       "    <tr>\n",
       "      <th>669</th>\n",
       "      <td>HEC006\\novel1</td>\n",
       "      <td>68</td>\n",
       "      <td>1</td>\n",
       "      <td>[0, 0, 6, 5, 3, 4, 0, 3, 2, 2, 1, 1, 4, 2, 6, ...</td>\n",
       "      <td>[[0.8433390481871721, -0.30107404015595485, -2...</td>\n",
       "      <td>0</td>\n",
       "      <td>[0.26704295300427033, -0.3173611525572352, -0....</td>\n",
       "      <td>4</td>\n",
       "      <td>-36.684359</td>\n",
       "      <td>41.780590</td>\n",
       "    </tr>\n",
       "    <tr>\n",
       "      <th>671</th>\n",
       "      <td>HEC006\\novel1</td>\n",
       "      <td>69</td>\n",
       "      <td>1</td>\n",
       "      <td>[0, 5, 10, 10, 8, 6, 5, 12, 10, 15, 17, 10, 15...</td>\n",
       "      <td>[[7.472775501788162, 8.083149460510764, 6.9802...</td>\n",
       "      <td>0</td>\n",
       "      <td>[2.7198635290093556, 2.607975623338752, 2.5669...</td>\n",
       "      <td>2</td>\n",
       "      <td>-37.967351</td>\n",
       "      <td>42.805991</td>\n",
       "    </tr>\n",
       "    <tr>\n",
       "      <th>677</th>\n",
       "      <td>HEC006\\novel1</td>\n",
       "      <td>71</td>\n",
       "      <td>1</td>\n",
       "      <td>[0, 6, 6, 21, 41, 48, 72, 69, 73, 47, 62, 50, ...</td>\n",
       "      <td>[[-1.7938527661314452, 0.4915715657101798, 2.3...</td>\n",
       "      <td>0</td>\n",
       "      <td>[0.8222434621011179, 0.7626019032469347, 0.658...</td>\n",
       "      <td>2</td>\n",
       "      <td>-35.428255</td>\n",
       "      <td>42.319324</td>\n",
       "    </tr>\n",
       "    <tr>\n",
       "      <th>678</th>\n",
       "      <td>HEC006\\novel1</td>\n",
       "      <td>71</td>\n",
       "      <td>2</td>\n",
       "      <td>[0, 1, 2, 4, 3, 3, 8, 1, 5, 4, 8, 7, 1, 3, 4, ...</td>\n",
       "      <td>[[-0.05680876891041686, 1.9352287521054508, 5....</td>\n",
       "      <td>0</td>\n",
       "      <td>[4.1966201660882785, 4.443434427743947, 4.6314...</td>\n",
       "      <td>2</td>\n",
       "      <td>-42.586227</td>\n",
       "      <td>48.289672</td>\n",
       "    </tr>\n",
       "    <tr>\n",
       "      <th>682</th>\n",
       "      <td>HEC006\\novel1</td>\n",
       "      <td>72</td>\n",
       "      <td>1</td>\n",
       "      <td>[0, 1, 0, 0, 0, 0, 0, 0, 1, 1, 0, 0, 0, 0, 0, ...</td>\n",
       "      <td>[[-1.9836476003643224, -5.414625993410379, -7....</td>\n",
       "      <td>0</td>\n",
       "      <td>[2.8155148031852457, 2.8928838872334546, 3.107...</td>\n",
       "      <td>2</td>\n",
       "      <td>-32.872509</td>\n",
       "      <td>40.763824</td>\n",
       "    </tr>\n",
       "    <tr>\n",
       "      <th>684</th>\n",
       "      <td>HEC006\\novel1</td>\n",
       "      <td>72</td>\n",
       "      <td>3</td>\n",
       "      <td>[0, 0, 1, 1, 0, 0, 0, 1, 2, 0, 1, 0, 2, 0, 1, ...</td>\n",
       "      <td>[[-2.9287744540682286, 1.8705234794810395, 5.8...</td>\n",
       "      <td>0</td>\n",
       "      <td>[1.2589602220578227, 1.1684719043048337, 1.174...</td>\n",
       "      <td>2</td>\n",
       "      <td>-34.563130</td>\n",
       "      <td>42.473340</td>\n",
       "    </tr>\n",
       "    <tr>\n",
       "      <th>686</th>\n",
       "      <td>HEC006\\novel1</td>\n",
       "      <td>73</td>\n",
       "      <td>2</td>\n",
       "      <td>[0, 0, 1, 1, 0, 1, 2, 0, 0, 4, 2, 1, 2, 0, 3, ...</td>\n",
       "      <td>[[4.544492930485529, 5.921826126328545, 6.2685...</td>\n",
       "      <td>0</td>\n",
       "      <td>[1.7338436363512797, 1.505711389773452, 1.2439...</td>\n",
       "      <td>2</td>\n",
       "      <td>-35.025626</td>\n",
       "      <td>41.407015</td>\n",
       "    </tr>\n",
       "    <tr>\n",
       "      <th>687</th>\n",
       "      <td>HEC006\\novel1</td>\n",
       "      <td>73</td>\n",
       "      <td>3</td>\n",
       "      <td>[0, 0, 0, 2, 0, 0, 1, 0, 0, 0, 0, 0, 0, 1, 1, ...</td>\n",
       "      <td>[[8.151766936802717, 14.456762752841822, 18.59...</td>\n",
       "      <td>0</td>\n",
       "      <td>[0.5622733771910556, 0.026271076680374865, -0....</td>\n",
       "      <td>2</td>\n",
       "      <td>-36.813435</td>\n",
       "      <td>44.573392</td>\n",
       "    </tr>\n",
       "    <tr>\n",
       "      <th>693</th>\n",
       "      <td>HEC006\\novel1</td>\n",
       "      <td>77</td>\n",
       "      <td>1</td>\n",
       "      <td>[0, 0, 0, 0, 0, 0, 1, 1, 1, 5, 5, 10, 11, 17, ...</td>\n",
       "      <td>[[2.5948323448130144, 5.805227577217443, 10.44...</td>\n",
       "      <td>0</td>\n",
       "      <td>[1.3353093677274726, 1.2153801284232715, 1.126...</td>\n",
       "      <td>2</td>\n",
       "      <td>-38.243451</td>\n",
       "      <td>45.865725</td>\n",
       "    </tr>\n",
       "    <tr>\n",
       "      <th>699</th>\n",
       "      <td>HEC006\\novel1</td>\n",
       "      <td>79</td>\n",
       "      <td>2</td>\n",
       "      <td>[0, 0, 0, 0, 1, 2, 1, 2, 3, 1, 2, 1, 0, 0, 0, ...</td>\n",
       "      <td>[[-1.0988242969486084, -0.08522449597994833, 1...</td>\n",
       "      <td>0</td>\n",
       "      <td>[2.464430221660137, 1.8113055226981256, 1.5734...</td>\n",
       "      <td>2</td>\n",
       "      <td>-35.247946</td>\n",
       "      <td>49.003479</td>\n",
       "    </tr>\n",
       "    <tr>\n",
       "      <th>704</th>\n",
       "      <td>HEC006\\novel1</td>\n",
       "      <td>80</td>\n",
       "      <td>2</td>\n",
       "      <td>[0, 0, 1, 4, 10, 7, 6, 1, 2, 3, 7, 3, 1, 3, 3,...</td>\n",
       "      <td>[[7.310299808599473, 9.461777477494124, 8.0860...</td>\n",
       "      <td>0</td>\n",
       "      <td>[2.50077697706608, 2.339205952499871, 2.299636...</td>\n",
       "      <td>2</td>\n",
       "      <td>-39.203440</td>\n",
       "      <td>45.276893</td>\n",
       "    </tr>\n",
       "    <tr>\n",
       "      <th>744</th>\n",
       "      <td>HEC006\\novel1</td>\n",
       "      <td>104</td>\n",
       "      <td>1</td>\n",
       "      <td>[0, 143, 372, 419, 393, 388, 420, 347, 389, 32...</td>\n",
       "      <td>[[8.185913178958698, 5.752067115263458, 3.8367...</td>\n",
       "      <td>0</td>\n",
       "      <td>[3.758505317240905, 3.6725184620094744, 3.5712...</td>\n",
       "      <td>2</td>\n",
       "      <td>-41.642270</td>\n",
       "      <td>47.949183</td>\n",
       "    </tr>\n",
       "    <tr>\n",
       "      <th>745</th>\n",
       "      <td>HEC006\\novel1</td>\n",
       "      <td>104</td>\n",
       "      <td>2</td>\n",
       "      <td>[0, 8, 2, 10, 10, 16, 11, 6, 12, 10, 8, 12, 9,...</td>\n",
       "      <td>[[-1.2509266722167127, -2.5336405009041973, -0...</td>\n",
       "      <td>0</td>\n",
       "      <td>[0.02901743835229034, -0.17584966235966415, -0...</td>\n",
       "      <td>4</td>\n",
       "      <td>-38.343070</td>\n",
       "      <td>43.694124</td>\n",
       "    </tr>\n",
       "    <tr>\n",
       "      <th>760</th>\n",
       "      <td>HEC006\\novel3</td>\n",
       "      <td>97</td>\n",
       "      <td>3</td>\n",
       "      <td>[0, 0, 3, 1, 0, 0, 1, 1, 2, 0, 1, 0, 0, 0, 0, ...</td>\n",
       "      <td>[[-16.32177554562663, -13.860149827004554, -9....</td>\n",
       "      <td>0</td>\n",
       "      <td>[-1.2445640827407403, -1.3256501626625785, -1....</td>\n",
       "      <td>1</td>\n",
       "      <td>-37.362307</td>\n",
       "      <td>46.586245</td>\n",
       "    </tr>\n",
       "    <tr>\n",
       "      <th>775</th>\n",
       "      <td>HEC006\\novel3</td>\n",
       "      <td>107</td>\n",
       "      <td>1</td>\n",
       "      <td>[0, 5, 4, 8, 9, 10, 7, 10, 8, 10, 14, 13, 15, ...</td>\n",
       "      <td>[[-6.395206434348395, -13.072040720426196, -16...</td>\n",
       "      <td>0</td>\n",
       "      <td>[2.6887238540930403, 2.6473514343428164, 2.595...</td>\n",
       "      <td>2</td>\n",
       "      <td>-38.940609</td>\n",
       "      <td>45.964139</td>\n",
       "    </tr>\n",
       "    <tr>\n",
       "      <th>803</th>\n",
       "      <td>HEC006\\novel3</td>\n",
       "      <td>77</td>\n",
       "      <td>1</td>\n",
       "      <td>[0, 0, 2, 0, 2, 0, 0, 3, 0, 1, 1, 3, 0, 0, 4, ...</td>\n",
       "      <td>[[-8.724378494282313, -8.905045699811875, -8.5...</td>\n",
       "      <td>0</td>\n",
       "      <td>[0.5136491655177559, 0.17310849153060734, -0.1...</td>\n",
       "      <td>2</td>\n",
       "      <td>-39.589460</td>\n",
       "      <td>45.615270</td>\n",
       "    </tr>\n",
       "    <tr>\n",
       "      <th>809</th>\n",
       "      <td>HEC006\\novel3</td>\n",
       "      <td>80</td>\n",
       "      <td>2</td>\n",
       "      <td>[0, 0, 2, 4, 0, 3, 3, 5, 5, 3, 4, 1, 3, 5, 2, ...</td>\n",
       "      <td>[[-1.3152839621457053, -6.888447699091232, -9....</td>\n",
       "      <td>0</td>\n",
       "      <td>[2.013408290272814, 1.8308212557982482, 1.6350...</td>\n",
       "      <td>2</td>\n",
       "      <td>-42.594968</td>\n",
       "      <td>48.737505</td>\n",
       "    </tr>\n",
       "    <tr>\n",
       "      <th>888</th>\n",
       "      <td>HEC006\\novel4</td>\n",
       "      <td>80</td>\n",
       "      <td>1</td>\n",
       "      <td>[0, 0, 4, 7, 3, 5, 3, 4, 6, 3, 3, 6, 2, 3, 2, ...</td>\n",
       "      <td>[[-13.727385849675214, -12.407691238799224, -9...</td>\n",
       "      <td>0</td>\n",
       "      <td>[-0.8130674043588693, -0.9741124708788356, -1....</td>\n",
       "      <td>3</td>\n",
       "      <td>-38.056667</td>\n",
       "      <td>42.787854</td>\n",
       "    </tr>\n",
       "    <tr>\n",
       "      <th>989</th>\n",
       "      <td>HEC006\\novel6</td>\n",
       "      <td>100</td>\n",
       "      <td>1</td>\n",
       "      <td>[0, 11, 15, 16, 8, 16, 15, 19, 14, 16, 14, 19,...</td>\n",
       "      <td>[[-2.025262472287626, -4.168181551790768, -4.2...</td>\n",
       "      <td>0</td>\n",
       "      <td>[-0.17452768936739396, -0.41506446587997803, -...</td>\n",
       "      <td>1</td>\n",
       "      <td>-39.529190</td>\n",
       "      <td>47.852135</td>\n",
       "    </tr>\n",
       "    <tr>\n",
       "      <th>1041</th>\n",
       "      <td>HEC006\\novel8</td>\n",
       "      <td>101</td>\n",
       "      <td>1</td>\n",
       "      <td>[0, 1, 10, 8, 3, 5, 6, 6, 7, 7, 9, 7, 13, 5, 1...</td>\n",
       "      <td>[[1.6991605953818518, -0.36083515664050203, -0...</td>\n",
       "      <td>0</td>\n",
       "      <td>[4.26463471757291, 4.521638453199884, 4.733007...</td>\n",
       "      <td>2</td>\n",
       "      <td>-39.465978</td>\n",
       "      <td>46.930178</td>\n",
       "    </tr>\n",
       "    <tr>\n",
       "      <th>1047</th>\n",
       "      <td>HEC006\\novel8</td>\n",
       "      <td>102</td>\n",
       "      <td>3</td>\n",
       "      <td>[0, 1, 4, 4, 0, 1, 4, 1, 0, 0, 3, 1, 3, 0, 1, ...</td>\n",
       "      <td>[[5.833696549754292, 3.630066897064962, 0.4621...</td>\n",
       "      <td>0</td>\n",
       "      <td>[2.2413983304582548, 2.0662461866911, 2.007318...</td>\n",
       "      <td>2</td>\n",
       "      <td>-35.010144</td>\n",
       "      <td>45.925077</td>\n",
       "    </tr>\n",
       "    <tr>\n",
       "      <th>1069</th>\n",
       "      <td>HEC008\\novel3</td>\n",
       "      <td>66</td>\n",
       "      <td>2</td>\n",
       "      <td>[0, 2, 6, 0, 5, 5, 6, 2, 5, 6, 4, 8, 2, 4, 8, ...</td>\n",
       "      <td>[[4.245167911695105, 7.166213981800759, 11.233...</td>\n",
       "      <td>0</td>\n",
       "      <td>[3.9981360656446823, 4.033593433353119, 4.0206...</td>\n",
       "      <td>2</td>\n",
       "      <td>-40.624449</td>\n",
       "      <td>48.041063</td>\n",
       "    </tr>\n",
       "    <tr>\n",
       "      <th>1086</th>\n",
       "      <td>HEC008\\novel3</td>\n",
       "      <td>123</td>\n",
       "      <td>2</td>\n",
       "      <td>[0, 3, 1, 5, 2, 3, 4, 1, 5, 4, 4, 5, 4, 4, 2, ...</td>\n",
       "      <td>[[-4.827990585628407, -3.6311214662829974, -2....</td>\n",
       "      <td>0</td>\n",
       "      <td>[0.04145211395597957, -0.26116023959961504, -0...</td>\n",
       "      <td>4</td>\n",
       "      <td>-36.201739</td>\n",
       "      <td>42.690815</td>\n",
       "    </tr>\n",
       "    <tr>\n",
       "      <th>1139</th>\n",
       "      <td>HEC008\\novel4</td>\n",
       "      <td>123</td>\n",
       "      <td>2</td>\n",
       "      <td>[0, 0, 0, 1, 3, 4, 1, 0, 3, 4, 6, 8, 10, 10, 9...</td>\n",
       "      <td>[[6.841337870223223, 10.07246792415253, 9.5569...</td>\n",
       "      <td>0</td>\n",
       "      <td>[4.0221349623047855, 4.111743742216493, 4.2617...</td>\n",
       "      <td>2</td>\n",
       "      <td>-42.300177</td>\n",
       "      <td>48.959864</td>\n",
       "    </tr>\n",
       "    <tr>\n",
       "      <th>1141</th>\n",
       "      <td>HEC008\\novel4</td>\n",
       "      <td>123</td>\n",
       "      <td>4</td>\n",
       "      <td>[0, 0, 0, 0, 0, 2, 4, 1, 0, 0, 2, 0, 0, 1, 2, ...</td>\n",
       "      <td>[[0.5935188205758957, 1.350361986299821, -0.14...</td>\n",
       "      <td>0</td>\n",
       "      <td>[0.2618262457461164, 0.32481945467243606, 0.51...</td>\n",
       "      <td>4</td>\n",
       "      <td>-34.465377</td>\n",
       "      <td>43.131092</td>\n",
       "    </tr>\n",
       "    <tr>\n",
       "      <th>1142</th>\n",
       "      <td>HEC008\\novel4</td>\n",
       "      <td>124</td>\n",
       "      <td>1</td>\n",
       "      <td>[0, 0, 5, 5, 8, 12, 15, 8, 4, 12, 13, 8, 11, 1...</td>\n",
       "      <td>[[-5.541233483451077, -3.01504548263628, -0.41...</td>\n",
       "      <td>0</td>\n",
       "      <td>[1.5497775169251238, 1.3896054747224251, 1.201...</td>\n",
       "      <td>2</td>\n",
       "      <td>-35.459871</td>\n",
       "      <td>42.001450</td>\n",
       "    </tr>\n",
       "    <tr>\n",
       "      <th>1148</th>\n",
       "      <td>HEC008\\novel4</td>\n",
       "      <td>125</td>\n",
       "      <td>2</td>\n",
       "      <td>[0, 0, 0, 0, 0, 0, 0, 0, 0, 1, 0, 0, 0, 0, 0, ...</td>\n",
       "      <td>[[2.4324720717760444, 3.1746002910847424, 2.06...</td>\n",
       "      <td>0</td>\n",
       "      <td>[4.525060919072863, 4.597600714761362, 4.73476...</td>\n",
       "      <td>2</td>\n",
       "      <td>-37.957572</td>\n",
       "      <td>45.418334</td>\n",
       "    </tr>\n",
       "    <tr>\n",
       "      <th>1176</th>\n",
       "      <td>HEC020\\invariance2</td>\n",
       "      <td>68</td>\n",
       "      <td>2</td>\n",
       "      <td>[0, 25, 19, 18, 12, 8, 7, 7, 4, 4, 0, 3, 1, 2,...</td>\n",
       "      <td>[[-13.141801532611794, -8.938039599881952, -7....</td>\n",
       "      <td>0</td>\n",
       "      <td>[-1.2092732191499116, -1.2262676579961636, -0....</td>\n",
       "      <td>2</td>\n",
       "      <td>36.376870</td>\n",
       "      <td>47.272435</td>\n",
       "    </tr>\n",
       "    <tr>\n",
       "      <th>1446</th>\n",
       "      <td>HEC030\\HEC030_rsvpscr2</td>\n",
       "      <td>103</td>\n",
       "      <td>3</td>\n",
       "      <td>[0, 0, 0, 0, 0, 5, 0, 1, 2, 1, 2, 0, 0, 0, 2, ...</td>\n",
       "      <td>[[-1.7743643473696442, -2.3936728907166476, -2...</td>\n",
       "      <td>0</td>\n",
       "      <td>[0.633063261921213, 0.833584020078046, 1.17650...</td>\n",
       "      <td>2</td>\n",
       "      <td>-24.179408</td>\n",
       "      <td>44.777776</td>\n",
       "    </tr>\n",
       "    <tr>\n",
       "      <th>1543</th>\n",
       "      <td>HEC030\\HEC030_story3</td>\n",
       "      <td>110</td>\n",
       "      <td>7</td>\n",
       "      <td>[0, 0, 0, 0, 0, 0, 0, 2, 0, 0, 0, 0, 1, 0, 0, ...</td>\n",
       "      <td>[[-4.792375071643294, -7.2336633974040465, -8....</td>\n",
       "      <td>0</td>\n",
       "      <td>[1.898834025858921, 2.0323976599204325, 2.2588...</td>\n",
       "      <td>2</td>\n",
       "      <td>-28.099267</td>\n",
       "      <td>45.941825</td>\n",
       "    </tr>\n",
       "  </tbody>\n",
       "</table>\n",
       "</div>"
      ],
      "text/plain": [
       "                              PatientExperiment Channel Cluster  \\\n",
       "450       HEC017\\017context1\\017context1_prescr     107       1   \n",
       "451       HEC017\\017context1\\017context1_prescr     108       1   \n",
       "455       HEC017\\017context1\\017context1_prescr     109       2   \n",
       "458       HEC017\\017context1\\017context1_prescr     111       1   \n",
       "460       HEC017\\017context1\\017context1_prescr     112       1   \n",
       "462       HEC017\\017context1\\017context1_prescr     113       1   \n",
       "465       HEC017\\017context1\\017context1_prescr     114       2   \n",
       "466       HEC017\\017context1\\017context1_prescr     115       1   \n",
       "469       HEC017\\017context1\\017context1_prescr     116       2   \n",
       "471       HEC017\\017context1\\017context1_prescr     118       1   \n",
       "481       HEC017\\017context1\\017context1_prescr     105       1   \n",
       "484      HEC017\\017context1\\017context1_postscr     100       1   \n",
       "500      HEC017\\017context1\\017context1_postscr     108       1   \n",
       "504      HEC017\\017context1\\017context1_postscr     109       2   \n",
       "507      HEC017\\017context1\\017context1_postscr     111       1   \n",
       "511      HEC017\\017context1\\017context1_postscr     113       1   \n",
       "515      HEC017\\017context1\\017context1_postscr     115       1   \n",
       "536      HEC017\\017context1\\017context1_postscr     128       1   \n",
       "539      HEC017\\017context1\\017context1_postscr      98       1   \n",
       "541      HEC017\\017context1\\017context1_postscr      99       1   \n",
       "553                          HEC017\\017context2     107       1   \n",
       "591   HEC018\\fanis1-HEC18\\001lfpscr_context_pre      65       1   \n",
       "596   HEC018\\fanis1-HEC18\\001lfpscr_context_pre      66       3   \n",
       "602   HEC018\\fanis1-HEC18\\001lfpscr_context_pre      68       3   \n",
       "606   HEC018\\fanis1-HEC18\\001lfpscr_context_pre      70       1   \n",
       "611   HEC018\\fanis1-HEC18\\001lfpscr_context_pre      72       3   \n",
       "631   HEC018\\fanis1-HEC18\\001lfpscr_context_pre      79       1   \n",
       "666                               HEC006\\novel1      66       2   \n",
       "669                               HEC006\\novel1      68       1   \n",
       "671                               HEC006\\novel1      69       1   \n",
       "677                               HEC006\\novel1      71       1   \n",
       "678                               HEC006\\novel1      71       2   \n",
       "682                               HEC006\\novel1      72       1   \n",
       "684                               HEC006\\novel1      72       3   \n",
       "686                               HEC006\\novel1      73       2   \n",
       "687                               HEC006\\novel1      73       3   \n",
       "693                               HEC006\\novel1      77       1   \n",
       "699                               HEC006\\novel1      79       2   \n",
       "704                               HEC006\\novel1      80       2   \n",
       "744                               HEC006\\novel1     104       1   \n",
       "745                               HEC006\\novel1     104       2   \n",
       "760                               HEC006\\novel3      97       3   \n",
       "775                               HEC006\\novel3     107       1   \n",
       "803                               HEC006\\novel3      77       1   \n",
       "809                               HEC006\\novel3      80       2   \n",
       "888                               HEC006\\novel4      80       1   \n",
       "989                               HEC006\\novel6     100       1   \n",
       "1041                              HEC006\\novel8     101       1   \n",
       "1047                              HEC006\\novel8     102       3   \n",
       "1069                              HEC008\\novel3      66       2   \n",
       "1086                              HEC008\\novel3     123       2   \n",
       "1139                              HEC008\\novel4     123       2   \n",
       "1141                              HEC008\\novel4     123       4   \n",
       "1142                              HEC008\\novel4     124       1   \n",
       "1148                              HEC008\\novel4     125       2   \n",
       "1176                         HEC020\\invariance2      68       2   \n",
       "1446                     HEC030\\HEC030_rsvpscr2     103       3   \n",
       "1543                       HEC030\\HEC030_story3     110       7   \n",
       "\n",
       "                                                    ISI  \\\n",
       "450   [0, 16, 32, 27, 11, 19, 34, 24, 18, 23, 24, 20...   \n",
       "451   [0, 15, 28, 21, 21, 28, 47, 37, 27, 33, 28, 27...   \n",
       "455   [0, 90, 537, 338, 298, 171, 161, 149, 126, 112...   \n",
       "458   [0, 408, 162, 203, 75, 76, 57, 65, 58, 62, 78,...   \n",
       "460   [0, 69, 318, 260, 161, 126, 104, 114, 95, 77, ...   \n",
       "462   [0, 6, 9, 14, 7, 8, 6, 4, 10, 5, 4, 6, 5, 8, 6...   \n",
       "465   [0, 16, 9, 5, 6, 9, 7, 4, 3, 5, 1, 8, 0, 4, 2,...   \n",
       "466   [0, 3, 9, 5, 2, 2, 5, 1, 1, 4, 2, 4, 4, 3, 0, ...   \n",
       "469   [0, 4, 10, 2, 2, 3, 6, 2, 2, 2, 1, 3, 4, 1, 1,...   \n",
       "471   [0, 5, 7, 3, 4, 1, 1, 0, 2, 1, 2, 2, 3, 1, 1, ...   \n",
       "481   [0, 21, 44, 38, 25, 29, 51, 20, 23, 29, 40, 18...   \n",
       "484   [0, 94, 274, 231, 199, 199, 246, 221, 185, 180...   \n",
       "500   [0, 14, 28, 21, 22, 28, 48, 39, 27, 32, 28, 26...   \n",
       "504   [0, 90, 558, 345, 297, 170, 172, 151, 129, 109...   \n",
       "507   [0, 410, 161, 202, 74, 76, 57, 66, 58, 60, 76,...   \n",
       "511   [0, 6, 10, 14, 8, 8, 6, 4, 10, 5, 5, 7, 6, 7, ...   \n",
       "515   [0, 3, 9, 4, 3, 2, 5, 1, 1, 4, 2, 4, 4, 3, 0, ...   \n",
       "536   [0, 852, 609, 218, 105, 108, 48, 70, 20, 46, 1...   \n",
       "539   [0, 62, 164, 116, 54, 51, 72, 56, 39, 44, 51, ...   \n",
       "541   [0, 19, 128, 108, 56, 66, 90, 88, 88, 114, 103...   \n",
       "553   [0, 78, 564, 147, 164, 75, 116, 18, 47, 146, 1...   \n",
       "591   [0, 2, 7, 7, 3, 2, 10, 4, 1, 6, 11, 3, 3, 5, 3...   \n",
       "596   [0, 0, 0, 0, 0, 0, 0, 0, 0, 1, 1, 0, 0, 0, 0, ...   \n",
       "602   [0, 1, 5, 22, 31, 38, 24, 19, 20, 26, 30, 20, ...   \n",
       "606   [0, 1, 0, 0, 1, 0, 0, 0, 0, 0, 0, 0, 0, 1, 0, ...   \n",
       "611   [0, 0, 0, 0, 0, 0, 0, 0, 0, 0, 0, 0, 0, 0, 0, ...   \n",
       "631   [0, 328, 883, 1358, 1537, 926, 796, 562, 461, ...   \n",
       "666   [0, 3, 1, 2, 3, 3, 2, 2, 4, 0, 0, 5, 2, 1, 3, ...   \n",
       "669   [0, 0, 6, 5, 3, 4, 0, 3, 2, 2, 1, 1, 4, 2, 6, ...   \n",
       "671   [0, 5, 10, 10, 8, 6, 5, 12, 10, 15, 17, 10, 15...   \n",
       "677   [0, 6, 6, 21, 41, 48, 72, 69, 73, 47, 62, 50, ...   \n",
       "678   [0, 1, 2, 4, 3, 3, 8, 1, 5, 4, 8, 7, 1, 3, 4, ...   \n",
       "682   [0, 1, 0, 0, 0, 0, 0, 0, 1, 1, 0, 0, 0, 0, 0, ...   \n",
       "684   [0, 0, 1, 1, 0, 0, 0, 1, 2, 0, 1, 0, 2, 0, 1, ...   \n",
       "686   [0, 0, 1, 1, 0, 1, 2, 0, 0, 4, 2, 1, 2, 0, 3, ...   \n",
       "687   [0, 0, 0, 2, 0, 0, 1, 0, 0, 0, 0, 0, 0, 1, 1, ...   \n",
       "693   [0, 0, 0, 0, 0, 0, 1, 1, 1, 5, 5, 10, 11, 17, ...   \n",
       "699   [0, 0, 0, 0, 1, 2, 1, 2, 3, 1, 2, 1, 0, 0, 0, ...   \n",
       "704   [0, 0, 1, 4, 10, 7, 6, 1, 2, 3, 7, 3, 1, 3, 3,...   \n",
       "744   [0, 143, 372, 419, 393, 388, 420, 347, 389, 32...   \n",
       "745   [0, 8, 2, 10, 10, 16, 11, 6, 12, 10, 8, 12, 9,...   \n",
       "760   [0, 0, 3, 1, 0, 0, 1, 1, 2, 0, 1, 0, 0, 0, 0, ...   \n",
       "775   [0, 5, 4, 8, 9, 10, 7, 10, 8, 10, 14, 13, 15, ...   \n",
       "803   [0, 0, 2, 0, 2, 0, 0, 3, 0, 1, 1, 3, 0, 0, 4, ...   \n",
       "809   [0, 0, 2, 4, 0, 3, 3, 5, 5, 3, 4, 1, 3, 5, 2, ...   \n",
       "888   [0, 0, 4, 7, 3, 5, 3, 4, 6, 3, 3, 6, 2, 3, 2, ...   \n",
       "989   [0, 11, 15, 16, 8, 16, 15, 19, 14, 16, 14, 19,...   \n",
       "1041  [0, 1, 10, 8, 3, 5, 6, 6, 7, 7, 9, 7, 13, 5, 1...   \n",
       "1047  [0, 1, 4, 4, 0, 1, 4, 1, 0, 0, 3, 1, 3, 0, 1, ...   \n",
       "1069  [0, 2, 6, 0, 5, 5, 6, 2, 5, 6, 4, 8, 2, 4, 8, ...   \n",
       "1086  [0, 3, 1, 5, 2, 3, 4, 1, 5, 4, 4, 5, 4, 4, 2, ...   \n",
       "1139  [0, 0, 0, 1, 3, 4, 1, 0, 3, 4, 6, 8, 10, 10, 9...   \n",
       "1141  [0, 0, 0, 0, 0, 2, 4, 1, 0, 0, 2, 0, 0, 1, 2, ...   \n",
       "1142  [0, 0, 5, 5, 8, 12, 15, 8, 4, 12, 13, 8, 11, 1...   \n",
       "1148  [0, 0, 0, 0, 0, 0, 0, 0, 0, 1, 0, 0, 0, 0, 0, ...   \n",
       "1176  [0, 25, 19, 18, 12, 8, 7, 7, 4, 4, 0, 3, 1, 2,...   \n",
       "1446  [0, 0, 0, 0, 0, 5, 0, 1, 2, 1, 2, 0, 0, 0, 2, ...   \n",
       "1543  [0, 0, 0, 0, 0, 0, 0, 2, 0, 0, 0, 0, 1, 0, 0, ...   \n",
       "\n",
       "                                                   Bulk bNoise  \\\n",
       "450   [[-0.5022087772486994, -0.7570957287800967, -6...      0   \n",
       "451   [[-0.8039600986828503, -5.106483972215248, -4....      0   \n",
       "455   [[14.850080825134437, 10.044594544432831, -0.9...      0   \n",
       "458   [[11.07369178086354, 5.924531485799744, 7.4733...      0   \n",
       "460   [[0.23889132557140236, 1.4646041034658785, 4.4...      0   \n",
       "462   [[0.028840555280716718, -3.811504702359728, -7...      0   \n",
       "465   [[5.663036020027322, 3.060711974239128, 4.0073...      0   \n",
       "466   [[2.2680003736319714, -1.7307194843249958, -4....      0   \n",
       "469   [[1.4854699457849019, 0.21634422599534756, -0....      0   \n",
       "471   [[8.03702579723716, 5.537183146968905, 5.62763...      0   \n",
       "481   [[5.689446531524039, 5.651346401859753, 1.2531...      0   \n",
       "484   [[-0.4806771547176042, 3.370033195057542, 6.74...      0   \n",
       "500   [[-0.8039600986828503, -5.106483972215248, -4....      0   \n",
       "504   [[14.850080825134437, 10.044594544432831, -0.9...      0   \n",
       "507   [[11.07369178086354, 5.924531485799744, 7.4733...      0   \n",
       "511   [[0.028840555280716718, -3.811504702359728, -7...      0   \n",
       "515   [[2.2680003736319714, -1.7307194843249958, -4....      0   \n",
       "536   [[13.288905576623005, 13.258391814001017, 8.52...      0   \n",
       "539   [[0.4291355090516942, -3.8699622564726024, -4....      0   \n",
       "541   [[10.934844097588558, 5.781906159642984, 3.562...      0   \n",
       "553   [[3.2382985424988027, 4.738774250667177, 7.659...      0   \n",
       "591   [[4.581565565305138, 0.41344211919758145, -3.3...      0   \n",
       "596   [[7.913788931289379, 6.629237765734956, 6.0087...      0   \n",
       "602   [[-2.271469769617593, -3.1316801462660266, -6....      0   \n",
       "606   [[3.2525111910241487, 2.593941488215554, 1.179...      0   \n",
       "611   [[9.180219002045062, 13.545447897587417, 17.94...      0   \n",
       "631   [[-0.6190173986428986, -1.511409066629636, -1....      0   \n",
       "666   [[0.4770601679293598, -7.115889088063303, -11....      0   \n",
       "669   [[0.8433390481871721, -0.30107404015595485, -2...      0   \n",
       "671   [[7.472775501788162, 8.083149460510764, 6.9802...      0   \n",
       "677   [[-1.7938527661314452, 0.4915715657101798, 2.3...      0   \n",
       "678   [[-0.05680876891041686, 1.9352287521054508, 5....      0   \n",
       "682   [[-1.9836476003643224, -5.414625993410379, -7....      0   \n",
       "684   [[-2.9287744540682286, 1.8705234794810395, 5.8...      0   \n",
       "686   [[4.544492930485529, 5.921826126328545, 6.2685...      0   \n",
       "687   [[8.151766936802717, 14.456762752841822, 18.59...      0   \n",
       "693   [[2.5948323448130144, 5.805227577217443, 10.44...      0   \n",
       "699   [[-1.0988242969486084, -0.08522449597994833, 1...      0   \n",
       "704   [[7.310299808599473, 9.461777477494124, 8.0860...      0   \n",
       "744   [[8.185913178958698, 5.752067115263458, 3.8367...      0   \n",
       "745   [[-1.2509266722167127, -2.5336405009041973, -0...      0   \n",
       "760   [[-16.32177554562663, -13.860149827004554, -9....      0   \n",
       "775   [[-6.395206434348395, -13.072040720426196, -16...      0   \n",
       "803   [[-8.724378494282313, -8.905045699811875, -8.5...      0   \n",
       "809   [[-1.3152839621457053, -6.888447699091232, -9....      0   \n",
       "888   [[-13.727385849675214, -12.407691238799224, -9...      0   \n",
       "989   [[-2.025262472287626, -4.168181551790768, -4.2...      0   \n",
       "1041  [[1.6991605953818518, -0.36083515664050203, -0...      0   \n",
       "1047  [[5.833696549754292, 3.630066897064962, 0.4621...      0   \n",
       "1069  [[4.245167911695105, 7.166213981800759, 11.233...      0   \n",
       "1086  [[-4.827990585628407, -3.6311214662829974, -2....      0   \n",
       "1139  [[6.841337870223223, 10.07246792415253, 9.5569...      0   \n",
       "1141  [[0.5935188205758957, 1.350361986299821, -0.14...      0   \n",
       "1142  [[-5.541233483451077, -3.01504548263628, -0.41...      0   \n",
       "1148  [[2.4324720717760444, 3.1746002910847424, 2.06...      0   \n",
       "1176  [[-13.141801532611794, -8.938039599881952, -7....      0   \n",
       "1446  [[-1.7743643473696442, -2.3936728907166476, -2...      0   \n",
       "1543  [[-4.792375071643294, -7.2336633974040465, -8....      0   \n",
       "\n",
       "                                                   Mean  ZeroCrossings  \\\n",
       "450   [2.5889375403704613, 3.238523797766915, 3.5984...              4   \n",
       "451   [2.888506387964795, 3.2857403522152815, 3.5042...              2   \n",
       "455   [4.921244365834821, 5.305847401886366, 5.48292...              2   \n",
       "458   [4.453470841617727, 4.485020865311145, 4.42454...              2   \n",
       "460   [4.433098513579291, 4.772398223850272, 4.86248...              2   \n",
       "462   [3.082052773926598, 3.8494951053011324, 4.3364...              2   \n",
       "465   [3.9878540896052375, 4.602476194927192, 5.0144...              2   \n",
       "466   [3.1258517992932164, 3.4761309254815225, 3.678...              2   \n",
       "469   [3.645251460326459, 4.137248378815186, 4.30954...              2   \n",
       "471   [3.5695350541685333, 4.184252443709786, 4.7853...              2   \n",
       "481   [3.250762796305279, 4.132019637379001, 4.51544...              4   \n",
       "484   [3.2420919020432075, 3.3783689478185193, 3.408...              2   \n",
       "500   [2.897103499271979, 3.283302850321114, 3.49170...              2   \n",
       "504   [4.958804047153008, 5.344419132049026, 5.52252...              2   \n",
       "507   [4.461377763888951, 4.489403162135416, 4.42679...              2   \n",
       "511   [3.1220823005122145, 3.889625614182662, 4.3510...              2   \n",
       "515   [3.0702708393469473, 3.4438010226720657, 3.675...              2   \n",
       "536   [7.4036482790389115, 6.566093193048495, 5.3906...              2   \n",
       "539   [2.754131879425186, 3.0047126295299775, 3.0877...              2   \n",
       "541   [4.822855614078509, 4.906386184719936, 4.86670...              2   \n",
       "553   [1.426278079498708, 1.7603041565689486, 2.9430...              4   \n",
       "591   [4.59723514653238, 4.322506240970256, 3.997594...              2   \n",
       "596   [0.16762823094774365, 0.36027834053479374, 0.7...              2   \n",
       "602   [2.640716917878893, 2.9145750841967364, 3.1293...              2   \n",
       "606   [1.057654318737655, 0.9673862950523217, 0.8052...              2   \n",
       "611   [5.464962281578532, 6.087312538740275, 6.66916...              2   \n",
       "631   [2.233181772568155, 2.0826651068080646, 1.8700...              2   \n",
       "666   [0.1074842285232578, -0.6995478120783485, -1.4...              4   \n",
       "669   [0.26704295300427033, -0.3173611525572352, -0....              4   \n",
       "671   [2.7198635290093556, 2.607975623338752, 2.5669...              2   \n",
       "677   [0.8222434621011179, 0.7626019032469347, 0.658...              2   \n",
       "678   [4.1966201660882785, 4.443434427743947, 4.6314...              2   \n",
       "682   [2.8155148031852457, 2.8928838872334546, 3.107...              2   \n",
       "684   [1.2589602220578227, 1.1684719043048337, 1.174...              2   \n",
       "686   [1.7338436363512797, 1.505711389773452, 1.2439...              2   \n",
       "687   [0.5622733771910556, 0.026271076680374865, -0....              2   \n",
       "693   [1.3353093677274726, 1.2153801284232715, 1.126...              2   \n",
       "699   [2.464430221660137, 1.8113055226981256, 1.5734...              2   \n",
       "704   [2.50077697706608, 2.339205952499871, 2.299636...              2   \n",
       "744   [3.758505317240905, 3.6725184620094744, 3.5712...              2   \n",
       "745   [0.02901743835229034, -0.17584966235966415, -0...              4   \n",
       "760   [-1.2445640827407403, -1.3256501626625785, -1....              1   \n",
       "775   [2.6887238540930403, 2.6473514343428164, 2.595...              2   \n",
       "803   [0.5136491655177559, 0.17310849153060734, -0.1...              2   \n",
       "809   [2.013408290272814, 1.8308212557982482, 1.6350...              2   \n",
       "888   [-0.8130674043588693, -0.9741124708788356, -1....              3   \n",
       "989   [-0.17452768936739396, -0.41506446587997803, -...              1   \n",
       "1041  [4.26463471757291, 4.521638453199884, 4.733007...              2   \n",
       "1047  [2.2413983304582548, 2.0662461866911, 2.007318...              2   \n",
       "1069  [3.9981360656446823, 4.033593433353119, 4.0206...              2   \n",
       "1086  [0.04145211395597957, -0.26116023959961504, -0...              4   \n",
       "1139  [4.0221349623047855, 4.111743742216493, 4.2617...              2   \n",
       "1141  [0.2618262457461164, 0.32481945467243606, 0.51...              4   \n",
       "1142  [1.5497775169251238, 1.3896054747224251, 1.201...              2   \n",
       "1148  [4.525060919072863, 4.597600714761362, 4.73476...              2   \n",
       "1176  [-1.2092732191499116, -1.2262676579961636, -0....              2   \n",
       "1446  [0.633063261921213, 0.833584020078046, 1.17650...              2   \n",
       "1543  [1.898834025858921, 2.0323976599204325, 2.2588...              2   \n",
       "\n",
       "      Amplitude  Amplitude_peaktopeak  \n",
       "450  -39.516137             47.750134  \n",
       "451  -36.043086             43.338600  \n",
       "455  -40.032171             47.623862  \n",
       "458  -36.157333             44.452508  \n",
       "460  -36.385746             44.077525  \n",
       "462  -35.935299             43.558487  \n",
       "465  -36.149304             41.283342  \n",
       "466  -38.322134             45.307623  \n",
       "469  -37.466684             44.027597  \n",
       "471  -37.528333             42.699317  \n",
       "481  -36.287941             42.698426  \n",
       "484  -41.483513             48.470570  \n",
       "500  -36.053383             43.329640  \n",
       "504  -40.240709             47.882443  \n",
       "507  -36.164948             44.467371  \n",
       "511  -37.698329             44.954572  \n",
       "515  -37.486871             44.507614  \n",
       "536  -33.549905             46.721748  \n",
       "539  -36.282423             41.711369  \n",
       "541  -37.768562             44.086489  \n",
       "553  -33.865808             40.001344  \n",
       "591  -37.627395             42.224631  \n",
       "596  -29.190195             46.054160  \n",
       "602  -35.654983             46.812703  \n",
       "606  -41.650846             48.264604  \n",
       "611  -30.852797             49.015111  \n",
       "631  -40.782310             48.683983  \n",
       "666  -36.828024             43.640586  \n",
       "669  -36.684359             41.780590  \n",
       "671  -37.967351             42.805991  \n",
       "677  -35.428255             42.319324  \n",
       "678  -42.586227             48.289672  \n",
       "682  -32.872509             40.763824  \n",
       "684  -34.563130             42.473340  \n",
       "686  -35.025626             41.407015  \n",
       "687  -36.813435             44.573392  \n",
       "693  -38.243451             45.865725  \n",
       "699  -35.247946             49.003479  \n",
       "704  -39.203440             45.276893  \n",
       "744  -41.642270             47.949183  \n",
       "745  -38.343070             43.694124  \n",
       "760  -37.362307             46.586245  \n",
       "775  -38.940609             45.964139  \n",
       "803  -39.589460             45.615270  \n",
       "809  -42.594968             48.737505  \n",
       "888  -38.056667             42.787854  \n",
       "989  -39.529190             47.852135  \n",
       "1041 -39.465978             46.930178  \n",
       "1047 -35.010144             45.925077  \n",
       "1069 -40.624449             48.041063  \n",
       "1086 -36.201739             42.690815  \n",
       "1139 -42.300177             48.959864  \n",
       "1141 -34.465377             43.131092  \n",
       "1142 -35.459871             42.001450  \n",
       "1148 -37.957572             45.418334  \n",
       "1176  36.376870             47.272435  \n",
       "1446 -24.179408             44.777776  \n",
       "1543 -28.099267             45.941825  "
      ]
     },
     "execution_count": 11,
     "metadata": {},
     "output_type": "execute_result"
    },
    {
     "data": {
      "text/plain": [
       "<Figure size 432x288 with 0 Axes>"
      ]
     },
     "execution_count": 11,
     "metadata": {},
     "output_type": "execute_result"
    },
    {
     "data": {
      "image/png": "[encoded data removed]",
      "text/plain": [
       "<Figure size 432x288 with 1 Axes>"
      ]
     },
     "metadata": {
      "needs_background": "light"
     },
     "output_type": "display_data"
    }
   ],
   "source": [
    "data[(data.Amplitude_peaktopeak > 40) & (data.Amplitude_peaktopeak < 50) & (data.bNoise == 0)]\n",
    "plt.figure()\n",
    "ax = plt.subplot(111)\n",
    "plot_Bulk(data.loc[1446,\"Bulk\"],ax)"
   ]
  },
  {
   "cell_type": "code",
   "execution_count": 12,
   "metadata": {},
   "outputs": [],
   "source": [
    "data[\"MeanSTD\"] = data.Bulk.apply(lambda row: row.std())"
   ]
  },
  {
   "cell_type": "code",
   "execution_count": 13,
   "metadata": {},
   "outputs": [
    {
     "data": {
      "text/plain": [
       "<BarContainer object of 20 artists>"
      ]
     },
     "execution_count": 13,
     "metadata": {},
     "output_type": "execute_result"
    },
    {
     "data": {
      "text/plain": [
       "<BarContainer object of 20 artists>"
      ]
     },
     "execution_count": 13,
     "metadata": {},
     "output_type": "execute_result"
    },
    {
     "data": {
      "text/plain": [
       "<BarContainer object of 20 artists>"
      ]
     },
     "execution_count": 13,
     "metadata": {},
     "output_type": "execute_result"
    },
    {
     "data": {
      "text/plain": [
       "<matplotlib.legend.Legend at 0x7fd8f7c05e90>"
      ]
     },
     "execution_count": 13,
     "metadata": {},
     "output_type": "execute_result"
    },
    {
     "data": {
      "text/plain": [
       "Text(0.5, 1.0, 'Standard deviation (Mean)')"
      ]
     },
     "execution_count": 13,
     "metadata": {},
     "output_type": "execute_result"
    },
    {
     "data": {
      "image/png": "[encoded data removed]",
      "text/plain": [
       "<Figure size 720x720 with 1 Axes>"
      ]
     },
     "metadata": {
      "needs_background": "light"
     },
     "output_type": "display_data"
    }
   ],
   "source": [
    "fig, ax = plt.subplots(figsize = (10,10))\n",
    "neuron_heights,neuron_bins = np.histogram(data[data.bNoise == 0].MeanSTD,bins = 20)\n",
    "noise_heights,noise_bins = np.histogram(data[data.bNoise == 1].MeanSTD,bins = neuron_bins)\n",
    "mu_heights,mu_bins = np.histogram(data[data.bNoise == 2].MeanSTD,bins = neuron_bins)\n",
    "\n",
    "neuron_heights = neuron_heights/(sum(neuron_heights)*width)\n",
    "noise_heights = noise_heights/(sum(noise_heights)*width)\n",
    "mu_heights = mu_heights/(sum(mu_heights)*width)\n",
    "\n",
    "width = (noise_bins[1] - noise_bins[0])/4\n",
    "\n",
    "ax.bar(noise_bins[:-1], noise_heights, width=width, facecolor='cornflowerblue',label = \"noise\")\n",
    "ax.bar(neuron_bins[:-1]+width, neuron_heights, width=width, facecolor='seagreen',label = \"neuron\")\n",
    "ax.bar(neuron_bins[:-1]+2*width, mu_heights, width=width, facecolor='red',label = \"mu\")\n",
    "plt.legend()\n",
    "plt.title(\"Standard deviation (Mean)\")"
   ]
  },
  {
   "cell_type": "markdown",
   "metadata": {},
   "source": [
    "## Computamos la derivada de la media"
   ]
  },
  {
   "cell_type": "markdown",
   "metadata": {},
   "source": [
    "### Derivatie in the peak"
   ]
  },
  {
   "cell_type": "code",
   "execution_count": 14,
   "metadata": {},
   "outputs": [
    {
     "data": {
      "text/plain": [
       "<BarContainer object of 20 artists>"
      ]
     },
     "execution_count": 14,
     "metadata": {},
     "output_type": "execute_result"
    },
    {
     "data": {
      "text/plain": [
       "<BarContainer object of 20 artists>"
      ]
     },
     "execution_count": 14,
     "metadata": {},
     "output_type": "execute_result"
    },
    {
     "data": {
      "text/plain": [
       "<BarContainer object of 20 artists>"
      ]
     },
     "execution_count": 14,
     "metadata": {},
     "output_type": "execute_result"
    },
    {
     "data": {
      "text/plain": [
       "<matplotlib.legend.Legend at 0x7fd8f6e45a50>"
      ]
     },
     "execution_count": 14,
     "metadata": {},
     "output_type": "execute_result"
    },
    {
     "data": {
      "text/plain": [
       "Text(0.5, 1.0, 'derivative in the peak')"
      ]
     },
     "execution_count": 14,
     "metadata": {},
     "output_type": "execute_result"
    },
    {
     "data": {
      "image/png": "[encoded data removed]",
      "text/plain": [
       "<Figure size 720x720 with 1 Axes>"
      ]
     },
     "metadata": {
      "needs_background": "light"
     },
     "output_type": "display_data"
    }
   ],
   "source": [
    "i = 19\n",
    "data['derivative_peak'] = data.Mean.apply(lambda row: np.gradient(row)[i])\n",
    "fig, ax = plt.subplots(figsize = (10,10))\n",
    "neuron_heights,neuron_bins = np.histogram(data[data.bNoise == 0].derivative_peak,bins = 20)\n",
    "noise_heights,noise_bins = np.histogram(data[data.bNoise == 1].derivative_peak,bins = neuron_bins)\n",
    "mu_heights,mu_bins = np.histogram(data[data.bNoise == 2].derivative_peak,bins = neuron_bins)\n",
    "\n",
    "width = (noise_bins[1] - noise_bins[0])\n",
    "\n",
    "neuron_heights = neuron_heights/(sum(neuron_heights)*width)\n",
    "noise_heights = noise_heights/(sum(noise_heights)*width)\n",
    "mu_heights = mu_heights/(sum(mu_heights)*width)\n",
    "\n",
    "width = (noise_bins[1] - noise_bins[0])/4\n",
    "\n",
    "ax.bar(noise_bins[:-1], noise_heights, width=width, facecolor='cornflowerblue',label = \"noise\")\n",
    "ax.bar(neuron_bins[:-1]+ width, neuron_heights, width=width, facecolor='seagreen',label = \"neuron\")\n",
    "ax.bar(neuron_bins[:-1]+ 2*width, mu_heights, width=width, facecolor='red',label = \"mu\")\n",
    "plt.legend()\n",
    "plt.title(\"derivative in the peak\")"
   ]
  },
  {
   "cell_type": "markdown",
   "metadata": {},
   "source": [
    "### Max Derivative"
   ]
  },
  {
   "cell_type": "code",
   "execution_count": 32,
   "metadata": {},
   "outputs": [
    {
     "data": {
      "text/plain": [
       "<BarContainer object of 20 artists>"
      ]
     },
     "execution_count": 32,
     "metadata": {},
     "output_type": "execute_result"
    },
    {
     "data": {
      "text/plain": [
       "<BarContainer object of 20 artists>"
      ]
     },
     "execution_count": 32,
     "metadata": {},
     "output_type": "execute_result"
    },
    {
     "data": {
      "text/plain": [
       "<BarContainer object of 20 artists>"
      ]
     },
     "execution_count": 32,
     "metadata": {},
     "output_type": "execute_result"
    },
    {
     "data": {
      "text/plain": [
       "<matplotlib.legend.Legend at 0x7fd8f6857c10>"
      ]
     },
     "execution_count": 32,
     "metadata": {},
     "output_type": "execute_result"
    },
    {
     "data": {
      "text/plain": [
       "Text(0.5, 1.0, 'Max derivative')"
      ]
     },
     "execution_count": 32,
     "metadata": {},
     "output_type": "execute_result"
    },
    {
     "data": {
      "image/png": "[encoded data removed]",
      "text/plain": [
       "<Figure size 720x720 with 1 Axes>"
      ]
     },
     "metadata": {
      "needs_background": "light"
     },
     "output_type": "display_data"
    }
   ],
   "source": [
    "data['derivative_max'] = data.Mean.apply(lambda row: max(np.gradient(row)))\n",
    "fig, ax = plt.subplots(figsize = (10,10))\n",
    "neuron_heights,neuron_bins = np.histogram(data[data.bNoise == 0].derivative_max,bins = 20)\n",
    "noise_heights,noise_bins = np.histogram(data[data.bNoise == 1].derivative_max,bins = neuron_bins)\n",
    "mu_heights,mu_bins = np.histogram(data[data.bNoise == 2].derivative_max,bins = neuron_bins)\n",
    "\n",
    "width = (noise_bins[1] - noise_bins[0])\n",
    "\n",
    "neuron_heights = neuron_heights/(sum(neuron_heights)*width)\n",
    "noise_heights = noise_heights/(sum(noise_heights)*width)\n",
    "mu_heights = mu_heights/(sum(mu_heights)*width)\n",
    "\n",
    "width = (noise_bins[1] - noise_bins[0])/4\n",
    "\n",
    "ax.bar(noise_bins[:-1], noise_heights, width=width, facecolor='cornflowerblue',label = \"noise\")\n",
    "ax.bar(neuron_bins[:-1]+width, neuron_heights, width=width, facecolor='seagreen',label = \"neuron\")\n",
    "ax.bar(neuron_bins[:-1]+2*width, mu_heights, width=width, facecolor='red',label = \"mu\")\n",
    "plt.legend()\n",
    "plt.title(\"Max derivative\")"
   ]
  },
  {
   "cell_type": "markdown",
   "metadata": {},
   "source": [
    "### Numero de Zero Crossings"
   ]
  },
  {
   "cell_type": "code",
   "execution_count": 33,
   "metadata": {},
   "outputs": [],
   "source": [
    "def zero_crossings(sign):\n",
    "    return len(np.where(np.diff(np.sign(sign)))[0])"
   ]
  },
  {
   "cell_type": "code",
   "execution_count": 34,
   "metadata": {},
   "outputs": [],
   "source": [
    "data['ZeroCrossings'] = data.Mean.apply(lambda row: zero_crossings(row))"
   ]
  },
  {
   "cell_type": "code",
   "execution_count": 35,
   "metadata": {},
   "outputs": [
    {
     "data": {
      "text/plain": [
       "<BarContainer object of 9 artists>"
      ]
     },
     "execution_count": 35,
     "metadata": {},
     "output_type": "execute_result"
    },
    {
     "data": {
      "text/plain": [
       "<BarContainer object of 9 artists>"
      ]
     },
     "execution_count": 35,
     "metadata": {},
     "output_type": "execute_result"
    },
    {
     "data": {
      "text/plain": [
       "<BarContainer object of 9 artists>"
      ]
     },
     "execution_count": 35,
     "metadata": {},
     "output_type": "execute_result"
    },
    {
     "data": {
      "text/plain": [
       "<matplotlib.legend.Legend at 0x7fd8f59f4910>"
      ]
     },
     "execution_count": 35,
     "metadata": {},
     "output_type": "execute_result"
    },
    {
     "data": {
      "text/plain": [
       "Text(0.5, 1.0, 'Zero crossings')"
      ]
     },
     "execution_count": 35,
     "metadata": {},
     "output_type": "execute_result"
    },
    {
     "data": {
      "image/png": "[encoded data removed]",
      "text/plain": [
       "<Figure size 720x720 with 1 Axes>"
      ]
     },
     "metadata": {
      "needs_background": "light"
     },
     "output_type": "display_data"
    }
   ],
   "source": [
    "fig, ax = plt.subplots(figsize = (10,10))\n",
    "neuron_heights,neuron_bins = np.histogram(data[data.bNoise == 0].ZeroCrossings,bins = 9)\n",
    "noise_heights,noise_bins = np.histogram(data[data.bNoise == 1].ZeroCrossings,bins = neuron_bins)\n",
    "mu_heights,mu_bins = np.histogram(data[data.bNoise == 2].ZeroCrossings,bins = neuron_bins)\n",
    "\n",
    "\n",
    "width = (noise_bins[1] - noise_bins[0])\n",
    "\n",
    "neuron_heights = neuron_heights/(sum(neuron_heights)*width)\n",
    "noise_heights = noise_heights/(sum(noise_heights)*width)\n",
    "mu_heights = mu_heights/(sum(mu_heights)*width)\n",
    "\n",
    "width = (noise_bins[1] - noise_bins[0])/4\n",
    "\n",
    "ax.bar(noise_bins[:-1], noise_heights, width=width, facecolor='cornflowerblue',label = \"noise\")\n",
    "ax.bar(neuron_bins[:-1]+width, neuron_heights, width=width, facecolor='seagreen',label = \"neuron\")\n",
    "ax.bar(neuron_bins[:-1]+2*width, mu_heights, width=width, facecolor='red',label = \"mu\")\n",
    "plt.legend()\n",
    "plt.title(\"Zero crossings\")"
   ]
  },
  {
   "cell_type": "markdown",
   "metadata": {},
   "source": [
    "### ISI"
   ]
  },
  {
   "cell_type": "code",
   "execution_count": 43,
   "metadata": {},
   "outputs": [],
   "source": [
    "def Isi_pc(Isi_example,i):\n",
    "    suma = np.sum(Isi_example)\n",
    "    if suma < 5: return 0\n",
    "    else:\n",
    "        return np.sum(Isi_example[[i,2*i,3*i,4*i]])/suma\n",
    "    "
   ]
  },
  {
   "cell_type": "code",
   "execution_count": 100,
   "metadata": {},
   "outputs": [
    {
     "data": {
      "text/plain": [
       "<Figure size 432x288 with 0 Axes>"
      ]
     },
     "execution_count": 100,
     "metadata": {},
     "output_type": "execute_result"
    },
    {
     "data": {
      "text/plain": [
       "array([ 0,  2, 33,  3,  9, 10,  6,  4,  1,  3,  4,  1,  2,  1,  5,  7,  4,\n",
       "        1,  2, 36, 42,  3,  3,  1,  2,  1,  1,  2,  0,  0,  0,  0,  0,  1,\n",
       "        1,  1,  1,  2,  0,  7,  9,  1,  0,  0,  1,  0,  0,  0,  2,  0,  0,\n",
       "        0,  0,  1,  0,  0,  2,  1,  0,  3,  7,  0,  0,  0,  0,  0,  0,  0,\n",
       "        1,  0,  0,  1,  0,  0,  0,  1,  0,  1,  1,  1,  4,  0,  1,  0,  0,\n",
       "        0,  0,  1,  0,  0,  0,  0,  1,  0,  0,  1,  0,  1,  0,  2])"
      ]
     },
     "execution_count": 100,
     "metadata": {},
     "output_type": "execute_result"
    },
    {
     "data": {
      "text/plain": [
       "<BarContainer object of 100 artists>"
      ]
     },
     "execution_count": 100,
     "metadata": {},
     "output_type": "execute_result"
    },
    {
     "data": {
      "text/plain": [
       "42"
      ]
     },
     "execution_count": 100,
     "metadata": {},
     "output_type": "execute_result"
    },
    {
     "data": {
      "text/plain": [
       "0.3224341507720254"
      ]
     },
     "execution_count": 100,
     "metadata": {},
     "output_type": "execute_result"
    },
    {
     "data": {
      "image/png": "[encoded data removed]",
      "text/plain": [
       "<Figure size 432x288 with 1 Axes>"
      ]
     },
     "metadata": {
      "needs_background": "light"
     },
     "output_type": "display_data"
    }
   ],
   "source": [
    "band = 20\n",
    "plt.close(\"all\")\n",
    "data[\"ISI_noisy_band\"] = data.ISI.apply(Isi_pc,args=(band,))\n",
    "plt.figure()\n",
    "i = 1474\n",
    "data.ISI.iloc[i]\n",
    "plt.bar(np.arange(0,len(data.ISI.iloc[i])),data.ISI.iloc[i])\n",
    "data.ISI.iloc[i][band]\n",
    "pc.iloc[58]\n"
   ]
  },
  {
   "cell_type": "code",
   "execution_count": 45,
   "metadata": {},
   "outputs": [],
   "source": [
    "x = []\n",
    "threshold_list = np.linspace(0,1,1000)\n",
    "Noise_pc = pc[data.bNoise == 1]\n",
    "Neuron_pc = pc[data.bNoise == 0]\n",
    "MU_pc = pc[data.bNoise == 2]\n",
    "\n",
    "for t in threshold_list:\n",
    "    Noise_eliminated = len(Noise_pc[Noise_pc >=t])/len(Noise_pc)\n",
    "    Neuron_eliminated = len(Neuron_pc[Neuron_pc >=t])/len(Neuron_pc)\n",
    "    MU_eliminated = len(MU_pc[MU_pc >=t])/len(MU_pc)\n",
    "    x.append([Noise_eliminated,Neuron_eliminated,MU_eliminated])\n",
    "x = np.array(x).T\n",
    "x *= 100"
   ]
  },
  {
   "cell_type": "code",
   "execution_count": 46,
   "metadata": {},
   "outputs": [],
   "source": [
    "#plt.plot(data.loc[i].Mean)"
   ]
  },
  {
   "cell_type": "code",
   "execution_count": 47,
   "metadata": {},
   "outputs": [
    {
     "data": {
      "text/plain": [
       "1473    0.844138\n",
       "Name: ISI, dtype: float64"
      ]
     },
     "execution_count": 47,
     "metadata": {},
     "output_type": "execute_result"
    }
   ],
   "source": [
    "Neuron_pc[Neuron_pc > .8]"
   ]
  },
  {
   "cell_type": "code",
   "execution_count": 51,
   "metadata": {},
   "outputs": [
    {
     "data": {
      "text/plain": [
       "<Figure size 720x720 with 0 Axes>"
      ]
     },
     "execution_count": 51,
     "metadata": {},
     "output_type": "execute_result"
    },
    {
     "data": {
      "text/plain": [
       "[<matplotlib.lines.Line2D at 0x7fd8f557c3d0>]"
      ]
     },
     "execution_count": 51,
     "metadata": {},
     "output_type": "execute_result"
    },
    {
     "data": {
      "text/plain": [
       "[<matplotlib.lines.Line2D at 0x7fd8f5403d90>]"
      ]
     },
     "execution_count": 51,
     "metadata": {},
     "output_type": "execute_result"
    },
    {
     "data": {
      "text/plain": [
       "[<matplotlib.lines.Line2D at 0x7fd8f557c290>]"
      ]
     },
     "execution_count": 51,
     "metadata": {},
     "output_type": "execute_result"
    },
    {
     "data": {
      "text/plain": [
       "<matplotlib.legend.Legend at 0x7fd8f557c550>"
      ]
     },
     "execution_count": 51,
     "metadata": {},
     "output_type": "execute_result"
    },
    {
     "data": {
      "text/plain": [
       "Text(0, 0.5, '% clusters')"
      ]
     },
     "execution_count": 51,
     "metadata": {},
     "output_type": "execute_result"
    },
    {
     "data": {
      "text/plain": [
       "Text(0.5, 0, '% ISI in 50Hz band')"
      ]
     },
     "execution_count": 51,
     "metadata": {},
     "output_type": "execute_result"
    },
    {
     "data": {
      "text/plain": [
       "Text(0.5, 1.0, 'ISI')"
      ]
     },
     "execution_count": 51,
     "metadata": {},
     "output_type": "execute_result"
    },
    {
     "data": {
      "text/plain": [
       "<matplotlib.collections.LineCollection at 0x7fd8f55272d0>"
      ]
     },
     "execution_count": 51,
     "metadata": {},
     "output_type": "execute_result"
    },
    {
     "data": {
      "text/plain": [
       "<matplotlib.collections.LineCollection at 0x7fd8f5527650>"
      ]
     },
     "execution_count": 51,
     "metadata": {},
     "output_type": "execute_result"
    },
    {
     "data": {
      "text/plain": [
       "16.28571428571429"
      ]
     },
     "execution_count": 51,
     "metadata": {},
     "output_type": "execute_result"
    },
    {
     "data": {
      "image/png": "[encoded data removed]",
      "text/plain": [
       "<Figure size 720x720 with 1 Axes>"
      ]
     },
     "metadata": {
      "needs_background": "light"
     },
     "output_type": "display_data"
    }
   ],
   "source": [
    "plt.figure(figsize = (10,10))\n",
    "plt.plot(threshold_list,x[0],label = 'Noise')\n",
    "plt.plot(threshold_list,x[1],label = 'Neuron')\n",
    "plt.plot(threshold_list,x[2],label = 'MU')\n",
    "plt.legend()\n",
    "plt.ylabel('% clusters')\n",
    "plt.xlabel('% ISI in 50Hz band')\n",
    "plt.title(\"ISI\")\n",
    "\n",
    "unit_min = np.min([np.where(x[1] == 0)[0]])\n",
    "\n",
    "mu_min = np.min([np.where(x[2] == 0)[0]])\n",
    "\n",
    "s = np.max([unit_min,mu_min])\n",
    "thres = threshold_list[s]\n",
    "\n",
    "if thres == 0: print(\"No threshold\")\n",
    "else: plt.vlines(thres,-1,100)\n",
    "    \n",
    "plt.hlines(x[0][200],0,1)\n",
    "x[0][400]"
   ]
  },
  {
   "cell_type": "markdown",
   "metadata": {},
   "source": [
    "#### Distribucion de los porcentajes de ISI"
   ]
  },
  {
   "cell_type": "code",
   "execution_count": 25,
   "metadata": {},
   "outputs": [
    {
     "data": {
      "text/plain": [
       "3       0.000000\n",
       "12      0.041667\n",
       "34      0.000000\n",
       "35      0.000000\n",
       "47      0.000000\n",
       "          ...   \n",
       "1514    0.042221\n",
       "1523    0.042484\n",
       "1535    0.032808\n",
       "1543    0.737288\n",
       "1552    0.025000\n",
       "Name: ISI, Length: 316, dtype: float64"
      ]
     },
     "execution_count": 25,
     "metadata": {},
     "output_type": "execute_result"
    }
   ],
   "source": [
    "Neuron_pc"
   ]
  },
  {
   "cell_type": "code",
   "execution_count": 64,
   "metadata": {},
   "outputs": [
    {
     "data": {
      "text/plain": [
       "<BarContainer object of 20 artists>"
      ]
     },
     "execution_count": 64,
     "metadata": {},
     "output_type": "execute_result"
    },
    {
     "data": {
      "text/plain": [
       "<BarContainer object of 20 artists>"
      ]
     },
     "execution_count": 64,
     "metadata": {},
     "output_type": "execute_result"
    },
    {
     "data": {
      "text/plain": [
       "<BarContainer object of 20 artists>"
      ]
     },
     "execution_count": 64,
     "metadata": {},
     "output_type": "execute_result"
    },
    {
     "data": {
      "text/plain": [
       "<matplotlib.legend.Legend at 0x7fd8f31c66d0>"
      ]
     },
     "execution_count": 64,
     "metadata": {},
     "output_type": "execute_result"
    },
    {
     "data": {
      "text/plain": [
       "([<matplotlib.axis.XTick at 0x7fd8f33aca90>,\n",
       "  <matplotlib.axis.XTick at 0x7fd8f33ac190>,\n",
       "  <matplotlib.axis.XTick at 0x7fd8f339aed0>,\n",
       "  <matplotlib.axis.XTick at 0x7fd8f30dca50>,\n",
       "  <matplotlib.axis.XTick at 0x7fd8f30dce90>,\n",
       "  <matplotlib.axis.XTick at 0x7fd8f30e3410>,\n",
       "  <matplotlib.axis.XTick at 0x7fd8f30e39d0>,\n",
       "  <matplotlib.axis.XTick at 0x7fd8f30dcad0>,\n",
       "  <matplotlib.axis.XTick at 0x7fd8f30e3ed0>,\n",
       "  <matplotlib.axis.XTick at 0x7fd8f3074490>,\n",
       "  <matplotlib.axis.XTick at 0x7fd8f30749d0>,\n",
       "  <matplotlib.axis.XTick at 0x7fd8f3074890>,\n",
       "  <matplotlib.axis.XTick at 0x7fd8f3083550>,\n",
       "  <matplotlib.axis.XTick at 0x7fd8f3083b90>,\n",
       "  <matplotlib.axis.XTick at 0x7fd8f308b290>,\n",
       "  <matplotlib.axis.XTick at 0x7fd8f308b850>,\n",
       "  <matplotlib.axis.XTick at 0x7fd8f308be90>,\n",
       "  <matplotlib.axis.XTick at 0x7fd8f3083450>,\n",
       "  <matplotlib.axis.XTick at 0x7fd8f30e3e10>,\n",
       "  <matplotlib.axis.XTick at 0x7fd8f3098490>,\n",
       "  <matplotlib.axis.XTick at 0x7fd8f3098ad0>],\n",
       " <a list of 21 Text xticklabel objects>)"
      ]
     },
     "execution_count": 64,
     "metadata": {},
     "output_type": "execute_result"
    },
    {
     "data": {
      "text/plain": [
       "Text(0.5, 0, '%ISI in band 50Hz')"
      ]
     },
     "execution_count": 64,
     "metadata": {},
     "output_type": "execute_result"
    },
    {
     "data": {
      "text/plain": [
       "Text(0, 0.5, '%clusters')"
      ]
     },
     "execution_count": 64,
     "metadata": {},
     "output_type": "execute_result"
    },
    {
     "name": "stdout",
     "output_type": "stream",
     "text": [
      "0.22666666666666668\n"
     ]
    },
    {
     "data": {
      "image/png": "[encoded data removed]",
      "text/plain": [
       "<Figure size 720x720 with 1 Axes>"
      ]
     },
     "metadata": {
      "needs_background": "light"
     },
     "output_type": "display_data"
    }
   ],
   "source": [
    "fig, ax = plt.subplots(figsize = (10,10))\n",
    "bins = np.linspace(0,1,21)\n",
    "neuron_heights,neuron_bins = np.histogram(Neuron_pc,bins = bins)\n",
    "noise_heights,noise_bins = np.histogram(Noise_pc,bins = neuron_bins)\n",
    "mu_heights,mu_bins = np.histogram(MU_pc,bins = neuron_bins)\n",
    "width = (noise_bins[1] - noise_bins[0])\n",
    "\n",
    "neuron_heights = neuron_heights/sum(neuron_heights)\n",
    "noise_heights = noise_heights/sum(noise_heights)\n",
    "mu_heights = mu_heights/sum(mu_heights)\n",
    "\n",
    "width = (noise_bins[1] - noise_bins[0])/4\n",
    "\n",
    "ax.bar(noise_bins[:-1], noise_heights, width=width, facecolor='cornflowerblue',label = \"noise\")\n",
    "ax.bar(neuron_bins[:-1]+width, neuron_heights, width=width, facecolor='seagreen',label = \"neuron\")\n",
    "ax.bar(neuron_bins[:-1]+2*width, mu_heights, width=width, facecolor='red',label = \"mu\")\n",
    "plt.legend()\n",
    "plt.xticks(neuron_bins)\n",
    "ax.set_xlabel(\"%ISI in band 50Hz\")\n",
    "ax.set_ylabel(\"%clusters\")\n",
    "s = np.min(np.concatenate([np.argwhere(neuron_heights == 0),np.argwhere(mu_heights == 0)]))\n",
    "print(np.sum(noise_heights[s:]))"
   ]
  },
  {
   "cell_type": "code",
   "execution_count": 61,
   "metadata": {},
   "outputs": [
    {
     "data": {
      "text/plain": [
       "0.22666666666666668"
      ]
     },
     "execution_count": 61,
     "metadata": {},
     "output_type": "execute_result"
    }
   ],
   "source": [
    "np.sum(noise_heights[5:])"
   ]
  },
  {
   "cell_type": "markdown",
   "metadata": {},
   "source": [
    "## Signal Power"
   ]
  },
  {
   "cell_type": "code",
   "execution_count": 65,
   "metadata": {},
   "outputs": [],
   "source": [
    "data[\"power_processing\"] = data.Mean.apply(lambda row: np.mean(row**2))\n",
    "A = data"
   ]
  },
  {
   "cell_type": "code",
   "execution_count": 71,
   "metadata": {},
   "outputs": [
    {
     "data": {
      "text/plain": [
       "<BarContainer object of 19 artists>"
      ]
     },
     "execution_count": 71,
     "metadata": {},
     "output_type": "execute_result"
    },
    {
     "data": {
      "text/plain": [
       "<BarContainer object of 19 artists>"
      ]
     },
     "execution_count": 71,
     "metadata": {},
     "output_type": "execute_result"
    },
    {
     "data": {
      "text/plain": [
       "<BarContainer object of 19 artists>"
      ]
     },
     "execution_count": 71,
     "metadata": {},
     "output_type": "execute_result"
    },
    {
     "data": {
      "text/plain": [
       "<matplotlib.legend.Legend at 0x7fd8efdf3050>"
      ]
     },
     "execution_count": 71,
     "metadata": {},
     "output_type": "execute_result"
    },
    {
     "data": {
      "text/plain": [
       "([<matplotlib.axis.XTick at 0x7fd8efd884d0>,\n",
       "  <matplotlib.axis.XTick at 0x7fd8efda6b90>,\n",
       "  <matplotlib.axis.XTick at 0x7fd8efda6590>,\n",
       "  <matplotlib.axis.XTick at 0x7fd8efd29b50>,\n",
       "  <matplotlib.axis.XTick at 0x7fd8efd29cd0>,\n",
       "  <matplotlib.axis.XTick at 0x7fd8efd38590>,\n",
       "  <matplotlib.axis.XTick at 0x7fd8efd38bd0>,\n",
       "  <matplotlib.axis.XTick at 0x7fd8efd41250>,\n",
       "  <matplotlib.axis.XTick at 0x7fd8efd41890>,\n",
       "  <matplotlib.axis.XTick at 0x7fd8efd38510>,\n",
       "  <matplotlib.axis.XTick at 0x7fd8efd413d0>,\n",
       "  <matplotlib.axis.XTick at 0x7fd8efcc7250>,\n",
       "  <matplotlib.axis.XTick at 0x7fd8efcc7890>,\n",
       "  <matplotlib.axis.XTick at 0x7fd8efcc7ed0>,\n",
       "  <matplotlib.axis.XTick at 0x7fd8efcce550>,\n",
       "  <matplotlib.axis.XTick at 0x7fd8efcceb90>,\n",
       "  <matplotlib.axis.XTick at 0x7fd8efcd5290>,\n",
       "  <matplotlib.axis.XTick at 0x7fd8efcd5850>,\n",
       "  <matplotlib.axis.XTick at 0x7fd8efcd5e90>,\n",
       "  <matplotlib.axis.XTick at 0x7fd8efcce610>],\n",
       " <a list of 20 Text xticklabel objects>)"
      ]
     },
     "execution_count": 71,
     "metadata": {},
     "output_type": "execute_result"
    },
    {
     "data": {
      "text/plain": [
       "(0, 1000)"
      ]
     },
     "execution_count": 71,
     "metadata": {},
     "output_type": "execute_result"
    },
    {
     "data": {
      "text/plain": [
       "Text(0.5, 1.0, 'power_signal')"
      ]
     },
     "execution_count": 71,
     "metadata": {},
     "output_type": "execute_result"
    },
    {
     "data": {
      "image/png": "[encoded data removed]",
      "text/plain": [
       "<Figure size 720x720 with 1 Axes>"
      ]
     },
     "metadata": {
      "needs_background": "light"
     },
     "output_type": "display_data"
    }
   ],
   "source": [
    "fig, ax = plt.subplots(figsize = (10,10))\n",
    "bins = np.arange(0,1000,50)\n",
    "bins[-1] = 90000\n",
    "neuron_heights,neuron_bins = np.histogram(data[data.bNoise == 0].power_processing,bins = bins)\n",
    "noise_heights,noise_bins = np.histogram(data[data.bNoise == 1].power_processing,bins = neuron_bins)\n",
    "mu_heights,mu_bins = np.histogram(data[data.bNoise == 2].power_processing,bins = neuron_bins)\n",
    "\n",
    "width = (noise_bins[1] - noise_bins[0])\n",
    "\n",
    "neuron_heights = neuron_heights/(sum(neuron_heights))\n",
    "noise_heights = noise_heights/(sum(noise_heights))\n",
    "mu_heights = mu_heights/(sum(mu_heights))\n",
    "\n",
    "width = (noise_bins[1] - noise_bins[0])/4\n",
    "\n",
    "ax.bar(noise_bins[:-1], noise_heights, width=width, facecolor='cornflowerblue',label = \"noise\")\n",
    "ax.bar(neuron_bins[:-1]+width, neuron_heights, width=width, facecolor='seagreen',label = \"neuron\")\n",
    "ax.bar(neuron_bins[:-1]+2*width, mu_heights, width=width, facecolor='red',label = \"mu\")\n",
    "plt.legend()\n",
    "plt.xticks(neuron_bins)\n",
    "plt.xlim(0,1000)\n",
    "plt.title(\"power_signal\")"
   ]
  },
  {
   "cell_type": "code",
   "execution_count": 30,
   "metadata": {},
   "outputs": [
    {
     "data": {
      "text/plain": [
       "array([    0,    50,   100,   150,   200,   250,   300,   350,   400,\n",
       "         450,   500,   550,   600,   650,   700,   750,   800,   850,\n",
       "         900, 90000])"
      ]
     },
     "execution_count": 30,
     "metadata": {},
     "output_type": "execute_result"
    }
   ],
   "source": [
    "neuron_bins"
   ]
  },
  {
   "cell_type": "code",
   "execution_count": 31,
   "metadata": {},
   "outputs": [
    {
     "data": {
      "text/plain": [
       "0"
      ]
     },
     "execution_count": 31,
     "metadata": {},
     "output_type": "execute_result"
    }
   ],
   "source": [
    "np.min([[1,2,3],[0,2,4]])"
   ]
  },
  {
   "cell_type": "markdown",
   "metadata": {},
   "source": [
    "## Number of spikes"
   ]
  },
  {
   "cell_type": "code",
   "execution_count": 67,
   "metadata": {},
   "outputs": [],
   "source": [
    "data[\"Counts\"] = data.Bulk.apply(lambda row: len(row))"
   ]
  },
  {
   "cell_type": "code",
   "execution_count": 97,
   "metadata": {},
   "outputs": [
    {
     "data": {
      "text/plain": [
       "<BarContainer object of 19 artists>"
      ]
     },
     "execution_count": 97,
     "metadata": {},
     "output_type": "execute_result"
    },
    {
     "data": {
      "text/plain": [
       "<BarContainer object of 19 artists>"
      ]
     },
     "execution_count": 97,
     "metadata": {},
     "output_type": "execute_result"
    },
    {
     "data": {
      "text/plain": [
       "<BarContainer object of 19 artists>"
      ]
     },
     "execution_count": 97,
     "metadata": {},
     "output_type": "execute_result"
    },
    {
     "data": {
      "text/plain": [
       "<matplotlib.legend.Legend at 0x7fd8e4678110>"
      ]
     },
     "execution_count": 97,
     "metadata": {},
     "output_type": "execute_result"
    },
    {
     "data": {
      "text/plain": [
       "(-100, 10000)"
      ]
     },
     "execution_count": 97,
     "metadata": {},
     "output_type": "execute_result"
    },
    {
     "data": {
      "text/plain": [
       "Text(0.5, 1.0, 'Counts')"
      ]
     },
     "execution_count": 97,
     "metadata": {},
     "output_type": "execute_result"
    },
    {
     "data": {
      "image/png": "[encoded data removed]",
      "text/plain": [
       "<Figure size 1080x720 with 1 Axes>"
      ]
     },
     "metadata": {
      "needs_background": "light"
     },
     "output_type": "display_data"
    }
   ],
   "source": [
    "fig, ax = plt.subplots(figsize = (15,10))\n",
    "bins = np.arange(0,10000,500)\n",
    "bins[-1] = 10000000\n",
    "neuron_heights,neuron_bins = np.histogram(data[data.bNoise == 0].Counts,bins = bins)\n",
    "noise_heights,noise_bins = np.histogram(data[data.bNoise == 1].Counts,bins = neuron_bins)\n",
    "mu_heights,mu_bins = np.histogram(data[data.bNoise == 2].Counts,bins = neuron_bins)\n",
    "\n",
    "width = (noise_bins[1] - noise_bins[0])\n",
    "\n",
    "neuron_heights = neuron_heights/(sum(neuron_heights))\n",
    "noise_heights = noise_heights/(sum(noise_heights))\n",
    "mu_heights = mu_heights/(sum(mu_heights))\n",
    "\n",
    "width = (noise_bins[1] - noise_bins[0])/4\n",
    "\n",
    "ax.bar(noise_bins[:-1], noise_heights, width=width, facecolor='cornflowerblue',label = \"noise\")\n",
    "ax.bar(neuron_bins[:-1]+width, neuron_heights, width=width, facecolor='seagreen',label = \"neuron\")\n",
    "ax.bar(neuron_bins[:-1]+2*width, mu_heights, width=width, facecolor='red',label = \"mu\")\n",
    "plt.legend()\n",
    "u = plt.xticks(neuron_bins)\n",
    "plt.xlim(-100,10000)\n",
    "plt.title(\"Counts\")"
   ]
  },
  {
   "cell_type": "code",
   "execution_count": 94,
   "metadata": {},
   "outputs": [
    {
     "data": {
      "text/plain": [
       "0.7183544303797468"
      ]
     },
     "execution_count": 94,
     "metadata": {},
     "output_type": "execute_result"
    }
   ],
   "source": [
    "np.sum(neuron_heights[1:])"
   ]
  },
  {
   "cell_type": "markdown",
   "metadata": {},
   "source": [
    "### Width"
   ]
  },
  {
   "cell_type": "code",
   "execution_count": 208,
   "metadata": {},
   "outputs": [],
   "source": [
    "def width(Mean_spike):\n",
    "    \n",
    "    i = 19\n",
    "    half_height = Mean_spike[i]/2\n",
    "    \n",
    "    a = Mean_spike - half_height\n",
    "    a1 = a[:19]\n",
    "    a2 = a[19:]\n",
    "\n",
    "    x1 = np.arange(0,i)\n",
    "    spl = UnivariateSpline(x1, a1)\n",
    "    xs1 = np.linspace(0,i, 10000)\n",
    "    spl1 = spl(xs1)\n",
    "    \n",
    "    x2 = np.arange(i,len(Mean_spike))\n",
    "    spl = UnivariateSpline(x2, a2)\n",
    "    xs2 = np.linspace(i,len(Mean_spike), 10000)\n",
    "    spl2 = spl(xs2)\n",
    "    \n",
    "    cross_list = np.argwhere(np.abs(spl1) < .1).T[0]\n",
    "    if len(cross_list) == 0: first = 0\n",
    "    else:\n",
    "        first = np.max(cross_list)\n",
    "        first = xs1[first]\n",
    "    \n",
    "    cross_list = np.argwhere(np.abs(spl2) < 1).T[0]\n",
    "    if len(cross_list) == 0: second = len(Mean_spike)\n",
    "    else:\n",
    "        second = np.min(cross_list)\n",
    "        second = xs2[second]\n",
    "    \n",
    "    width = second - first\n",
    "    return width\n",
    "    "
   ]
  },
  {
   "cell_type": "code",
   "execution_count": 210,
   "metadata": {},
   "outputs": [
    {
     "data": {
      "text/plain": [
       "<BarContainer object of 20 artists>"
      ]
     },
     "execution_count": 210,
     "metadata": {},
     "output_type": "execute_result"
    },
    {
     "data": {
      "text/plain": [
       "<BarContainer object of 20 artists>"
      ]
     },
     "execution_count": 210,
     "metadata": {},
     "output_type": "execute_result"
    },
    {
     "data": {
      "text/plain": [
       "<BarContainer object of 20 artists>"
      ]
     },
     "execution_count": 210,
     "metadata": {},
     "output_type": "execute_result"
    },
    {
     "data": {
      "text/plain": [
       "<matplotlib.legend.Legend at 0x7fd8e20a14d0>"
      ]
     },
     "execution_count": 210,
     "metadata": {},
     "output_type": "execute_result"
    },
    {
     "data": {
      "image/png": "[encoded data removed]",
      "text/plain": [
       "<Figure size 720x720 with 1 Axes>"
      ]
     },
     "metadata": {
      "needs_background": "light"
     },
     "output_type": "display_data"
    }
   ],
   "source": [
    "data[\"Width\"] = data.Mean.apply(width)\n",
    "fig, ax = plt.subplots(figsize = (10,10))\n",
    "neuron_heights,neuron_bins = np.histogram(data[data.bNoise == 0].Width,bins = 20)\n",
    "noise_heights,noise_bins = np.histogram(data[data.bNoise == 1].Width,bins = neuron_bins)\n",
    "mu_heights,mu_bins = np.histogram(data[data.bNoise == 2].Width,bins = neuron_bins)\n",
    "\n",
    "width = (noise_bins[1] - noise_bins[0])\n",
    "\n",
    "neuron_heights = neuron_heights/(sum(neuron_heights)*width)\n",
    "noise_heights = noise_heights/(sum(noise_heights)*width)\n",
    "mu_heights = mu_heights/(sum(mu_heights)*width)\n",
    "\n",
    "width = (noise_bins[1] - noise_bins[0])/4\n",
    "\n",
    "ax.bar(noise_bins[:-1], noise_heights, width=width, facecolor='cornflowerblue',label = \"noise\")\n",
    "ax.bar(neuron_bins[:-1]+width, neuron_heights, width=width, facecolor='seagreen',label = \"neuron\")\n",
    "ax.bar(neuron_bins[:-1]+2*width, mu_heights, width=width, facecolor='red',label = \"mu\")\n",
    "plt.legend()"
   ]
  },
  {
   "cell_type": "code",
   "execution_count": 177,
   "metadata": {},
   "outputs": [
    {
     "name": "stdout",
     "output_type": "stream",
     "text": [
      "16.6986986986987\n",
      "20.8018018018018\n"
     ]
    },
    {
     "data": {
      "text/plain": [
       "4.103103103103102"
      ]
     },
     "execution_count": 177,
     "metadata": {},
     "output_type": "execute_result"
    }
   ],
   "source": [
    "data['derivative_max'] = data.Mean.apply(lambda row: max(np.gradient(row)))\n",
    "\n",
    "plt.title(\"Max derivative\")"
   ]
  },
  {
   "cell_type": "code",
   "execution_count": 167,
   "metadata": {},
   "outputs": [
    {
     "data": {
      "text/plain": [
       "<Figure size 432x288 with 0 Axes>"
      ]
     },
     "execution_count": 167,
     "metadata": {},
     "output_type": "execute_result"
    },
    {
     "data": {
      "text/plain": [
       "<matplotlib.collections.PathCollection at 0x7fd8e253b710>"
      ]
     },
     "execution_count": 167,
     "metadata": {},
     "output_type": "execute_result"
    },
    {
     "data": {
      "text/plain": [
       "5"
      ]
     },
     "execution_count": 167,
     "metadata": {},
     "output_type": "execute_result"
    },
    {
     "data": {
      "image/png": "[encoded data removed]",
      "text/plain": [
       "<Figure size 432x288 with 1 Axes>"
      ]
     },
     "metadata": {
      "needs_background": "light"
     },
     "output_type": "display_data"
    }
   ],
   "source": [
    "plt.figure()\n",
    "plt.scatter(np.arange(64),Mean_spike - Mean_spike[i]/2)\n",
    "22 - 17"
   ]
  },
  {
   "cell_type": "code",
   "execution_count": 211,
   "metadata": {},
   "outputs": [],
   "source": [
    "data.to_pickle(\"Datos/PCCIBbMZASDPCInbW\")"
   ]
  },
  {
   "cell_type": "code",
   "execution_count": 206,
   "metadata": {},
   "outputs": [
    {
     "data": {
      "text/plain": [
       "<Figure size 720x720 with 0 Axes>"
      ]
     },
     "execution_count": 206,
     "metadata": {},
     "output_type": "execute_result"
    },
    {
     "data": {
      "text/plain": [
       "<matplotlib.collections.LineCollection at 0x7fd8e1da2150>"
      ]
     },
     "execution_count": 206,
     "metadata": {},
     "output_type": "execute_result"
    },
    {
     "data": {
      "text/plain": [
       "(15, 21)"
      ]
     },
     "execution_count": 206,
     "metadata": {},
     "output_type": "execute_result"
    },
    {
     "data": {
      "text/plain": [
       "[<matplotlib.lines.Line2D at 0x7fd8e1da2550>]"
      ]
     },
     "execution_count": 206,
     "metadata": {},
     "output_type": "execute_result"
    },
    {
     "data": {
      "text/plain": [
       "[<matplotlib.lines.Line2D at 0x7fd8e1da2650>]"
      ]
     },
     "execution_count": 206,
     "metadata": {},
     "output_type": "execute_result"
    },
    {
     "data": {
      "image/png": "[encoded data removed]",
      "text/plain": [
       "<Figure size 720x720 with 1 Axes>"
      ]
     },
     "metadata": {
      "needs_background": "light"
     },
     "output_type": "display_data"
    }
   ],
   "source": [
    "    \n",
    "i = 19\n",
    "half_height = Mean_spike[i]/2\n",
    "   \n",
    "a = Mean_spike - half_height\n",
    "a1 = a[:19]\n",
    "a2 = a[19:]\n",
    "\n",
    "x1 = np.arange(0,i)\n",
    "spl = UnivariateSpline(x1, a1)\n",
    "xs1 = np.linspace(0,i-.2, 10000)\n",
    "spl1 = spl(xs1)\n",
    "    \n",
    "x2 = np.arange(i,len(Mean_spike))\n",
    "spl = UnivariateSpline(x2, a2)\n",
    "xs2 = np.linspace(i,len(Mean_spike), 10000)\n",
    "spl2 = spl(xs2)\n",
    "\n",
    "h1 = np.max(np.argwhere(np.abs(spl1) < .1))\n",
    "h2 = np.min(np.argwhere(np.abs(spl2) < .1))\n",
    "\n",
    "\n",
    "plt.figure(figsize=(10,10))\n",
    "plt.vlines([xs1[h1],xs2[h2]],[0,0],[35,35])\n",
    "plt.xlim(15,21)\n",
    "plt.plot(xs1,spl1)\n",
    "plt.plot(xs2,spl2)\n"
   ]
  },
  {
   "cell_type": "code",
   "execution_count": null,
   "metadata": {},
   "outputs": [],
   "source": []
  }
 ],
 "metadata": {
  "kernelspec": {
   "display_name": "Python 3",
   "language": "python",
   "name": "python3"
  },
  "language_info": {
   "codemirror_mode": {
    "name": "ipython",
    "version": 3
   },
   "file_extension": ".py",
   "mimetype": "text/x-python",
   "name": "python",
   "nbconvert_exporter": "python",
   "pygments_lexer": "ipython3",
   "version": "3.7.6"
  },
  "widgets": {
   "application/vnd.jupyter.widget-state+json": {
    "state": {},
    "version_major": 2,
    "version_minor": 0
   }
  }
 },
 "nbformat": 4,
 "nbformat_minor": 4
}
