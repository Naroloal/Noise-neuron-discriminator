{
 "cells": [
  {
   "cell_type": "code",
   "execution_count": 83,
   "metadata": {},
   "outputs": [],
   "source": [
    "from scipy import stats\n",
    "%matplotlib widget\n",
    "from scipy.io import loadmat\n",
    "import numpy as np\n",
    "import pandas as pd\n",
    "import matplotlib.pyplot as plt\n",
    "import seaborn as sbn\n",
    "import matplotlib.cm as cm\n",
    "from Funciones_auxiliares import Mat_to_dataframe,see_teams,get_cluster_indexs,plot_branch,plot_teams,find_mix\n",
    "from scipy import cluster\n",
    "\n",
    "import scipy as sp\n",
    "import math"
   ]
  },
  {
   "cell_type": "markdown",
   "metadata": {},
   "source": [
    "### Importamos la data"
   ]
  },
  {
   "cell_type": "code",
   "execution_count": 84,
   "metadata": {},
   "outputs": [
    {
     "data": {
      "application/vnd.jupyter.widget-view+json": {
       "model_id": "4d22d6d95ad54fd89d33047fab5ae22b",
       "version_major": 2,
       "version_minor": 0
      },
      "text/plain": [
       "Canvas(toolbar=Toolbar(toolitems=[('Home', 'Reset original view', 'home', 'home'), ('Back', 'Back to previous …"
      ]
     },
     "metadata": {},
     "output_type": "display_data"
    }
   ],
   "source": [
    "plt.close('all')\n",
    "plt.clf()\n",
    "plt.close()\n",
    "data = pd.read_pickle('Datos/PCCIBNMZc')\n",
    "data['Mean'] = data.Bulk.apply(lambda row: np.mean(row,axis = 0))\n",
    "data['Mean'] = (data['Mean'] - data.Mean.apply(lambda row:np.mean(row)))/data.Mean.apply(lambda row:np.std(row))\n",
    "del data['Bulk']\n",
    "Initial = len(data)"
   ]
  },
  {
   "cell_type": "markdown",
   "metadata": {},
   "source": [
    "## Separamos en Test y Train por sessiones"
   ]
  },
  {
   "cell_type": "code",
   "execution_count": 85,
   "metadata": {},
   "outputs": [],
   "source": [
    "Sessions_list = data.PatientExperiment.unique()\n",
    "select_random_sessions = np.random.choice(Sessions_list,(10,6), replace = False)\n",
    "Dfs = {}\n",
    "for i,sessions in enumerate(select_random_sessions):\n",
    "    Dfs[i] = data[data.PatientExperiment.isin(sessions)]\n",
    "for key,values in Dfs.items():\n",
    "    print(len(values))"
   ]
  },
  {
   "cell_type": "code",
   "execution_count": 86,
   "metadata": {},
   "outputs": [
    {
     "data": {
      "text/plain": [
       "1577"
      ]
     },
     "execution_count": 86,
     "metadata": {},
     "output_type": "execute_result"
    }
   ],
   "source": [
    "len(Train) + len(Test)"
   ]
  },
  {
   "cell_type": "markdown",
   "metadata": {},
   "source": [
    "Calculamos la matriz de correlacion"
   ]
  },
  {
   "cell_type": "markdown",
   "metadata": {},
   "source": [
    "## Ahora entrenamos"
   ]
  },
  {
   "cell_type": "code",
   "execution_count": 87,
   "metadata": {},
   "outputs": [],
   "source": [
    "df_train = Train.copy()"
   ]
  },
  {
   "cell_type": "markdown",
   "metadata": {},
   "source": [
    "Calculo de la matriz de correlacion"
   ]
  },
  {
   "cell_type": "code",
   "execution_count": 88,
   "metadata": {},
   "outputs": [
    {
     "name": "stdout",
     "output_type": "stream",
     "text": [
      "861 elements are in the df\n",
      "287 elements are neurons. 574 elements are noises\n"
     ]
    }
   ],
   "source": [
    "Noise = df_train[df_train.bNoise == 1]\n",
    "Neuron = df_train[df_train.bNoise == 0]\n",
    "MU = df_train[df_train.bNoise == 2]\n",
    "\n",
    "df_train = pd.concat([Neuron,MU,Noise], ignore_index= True, sort = False)\n",
    "Mean = pd.DataFrame(df_train.Mean.tolist()).T\n",
    "\n",
    "Corr = Mean.corr()\n",
    "Corr = Corr.values\n",
    "t = df_train[df_train.bNoise == 1].index[0]\n",
    "print(len(df_train),'elements are in the df')\n",
    "print(len(df_train[df_train.bNoise != 1]),'elements are neurons.',len(df_train[df_train.bNoise == 1]),'elements are noises')"
   ]
  },
  {
   "cell_type": "code",
   "execution_count": 89,
   "metadata": {},
   "outputs": [],
   "source": [
    "threshold2 = 0.99# For Pearson is defined as 1 - correlation"
   ]
  },
  {
   "cell_type": "markdown",
   "metadata": {},
   "source": [
    "Separamos en correlaciones entre ruidos y correlaciones mezcladas"
   ]
  },
  {
   "cell_type": "code",
   "execution_count": 90,
   "metadata": {},
   "outputs": [],
   "source": [
    "Noise_corr = Corr[t:,t:]\n",
    "Neu_noi_corr = Corr[t:,:t]\n",
    "Noise_correlated = np.where(Noise_corr>threshold2)\n",
    "Neuron_noise_correlated = np.where(Neu_noi_corr > threshold2)"
   ]
  },
  {
   "cell_type": "code",
   "execution_count": 91,
   "metadata": {},
   "outputs": [
    {
     "data": {
      "application/vnd.jupyter.widget-view+json": {
       "model_id": "b4137a91e4384a7d8cbbf4bccfa9d1e4",
       "version_major": 2,
       "version_minor": 0
      },
      "text/plain": [
       "Canvas(toolbar=Toolbar(toolitems=[('Home', 'Reset original view', 'home', 'home'), ('Back', 'Back to previous …"
      ]
     },
     "metadata": {},
     "output_type": "display_data"
    },
    {
     "data": {
      "text/plain": [
       "<matplotlib.colorbar.Colorbar at 0x7f010c539ed0>"
      ]
     },
     "execution_count": 91,
     "metadata": {},
     "output_type": "execute_result"
    }
   ],
   "source": [
    "plt.figure()\n",
    "plt.title('Noise correlation')\n",
    "plt.imshow(Noise_corr)\n",
    "plt.colorbar()"
   ]
  },
  {
   "cell_type": "markdown",
   "metadata": {},
   "source": [
    "Cuantas neuronas fueron capturadas por los ruidos?"
   ]
  },
  {
   "cell_type": "code",
   "execution_count": 93,
   "metadata": {},
   "outputs": [
    {
     "name": "stdout",
     "output_type": "stream",
     "text": [
      "94 neurons were captured by the noise-database\n",
      "this represents 32.752613240418114 % of neurons\n"
     ]
    }
   ],
   "source": [
    "Neurons_captured = set(Neuron_noise_correlated[1])\n",
    "print(len(Neurons_captured),'neurons were captured by the noise-database')\n",
    "print('this represents',len(Neurons_captured)/t*100,'% of neurons' )"
   ]
  },
  {
   "cell_type": "markdown",
   "metadata": {},
   "source": [
    "Cuantas son los ruidos responsables?"
   ]
  },
  {
   "cell_type": "code",
   "execution_count": 94,
   "metadata": {},
   "outputs": [
    {
     "name": "stdout",
     "output_type": "stream",
     "text": [
      "62 noises are responsible for the captured neurons\n"
     ]
    }
   ],
   "source": [
    "bad_noises = set(Neuron_noise_correlated[0] + t)\n",
    "print(len(bad_noises), 'noises are responsible for the captured neurons')\n"
   ]
  },
  {
   "cell_type": "markdown",
   "metadata": {},
   "source": [
    "Tiramos estos ruidos"
   ]
  },
  {
   "cell_type": "code",
   "execution_count": 95,
   "metadata": {},
   "outputs": [
    {
     "name": "stdout",
     "output_type": "stream",
     "text": [
      "Is True  that all the elements droped are noise\n"
     ]
    },
    {
     "data": {
      "text/html": [
       "<div>\n",
       "<style scoped>\n",
       "    .dataframe tbody tr th:only-of-type {\n",
       "        vertical-align: middle;\n",
       "    }\n",
       "\n",
       "    .dataframe tbody tr th {\n",
       "        vertical-align: top;\n",
       "    }\n",
       "\n",
       "    .dataframe thead th {\n",
       "        text-align: right;\n",
       "    }\n",
       "</style>\n",
       "<table border=\"1\" class=\"dataframe\">\n",
       "  <thead>\n",
       "    <tr style=\"text-align: right;\">\n",
       "      <th></th>\n",
       "      <th>PatientExperiment</th>\n",
       "      <th>Channel</th>\n",
       "      <th>Cluster</th>\n",
       "      <th>ISI</th>\n",
       "      <th>bNoise</th>\n",
       "      <th>Mean</th>\n",
       "      <th>ZeroCrossings</th>\n",
       "    </tr>\n",
       "  </thead>\n",
       "  <tbody>\n",
       "    <tr>\n",
       "      <th>0</th>\n",
       "      <td>HEC017\\017context2\\017context2_prescr</td>\n",
       "      <td>113</td>\n",
       "      <td>2</td>\n",
       "      <td>[0, 3, 1, 1, 0, 0, 0, 1, 0, 0, 0, 0, 1, 0, 1, ...</td>\n",
       "      <td>0</td>\n",
       "      <td>[0.4148400945586795, 0.41008625177590113, 0.39...</td>\n",
       "      <td>2</td>\n",
       "    </tr>\n",
       "    <tr>\n",
       "      <th>1</th>\n",
       "      <td>HEC017\\017context2\\017context2_prescr</td>\n",
       "      <td>113</td>\n",
       "      <td>3</td>\n",
       "      <td>[0, 0, 0, 0, 0, 1, 0, 1, 0, 0, 0, 0, 0, 0, 0, ...</td>\n",
       "      <td>0</td>\n",
       "      <td>[0.1465658286378676, 0.13310457368256473, 0.12...</td>\n",
       "      <td>6</td>\n",
       "    </tr>\n",
       "    <tr>\n",
       "      <th>2</th>\n",
       "      <td>HEC017\\017context2\\017context2_prescr</td>\n",
       "      <td>118</td>\n",
       "      <td>3</td>\n",
       "      <td>[0, 4, 1, 0, 2, 0, 0, 0, 0, 0, 0, 1, 0, 0, 0, ...</td>\n",
       "      <td>0</td>\n",
       "      <td>[0.39807454790263525, 0.3830459993330923, 0.37...</td>\n",
       "      <td>2</td>\n",
       "    </tr>\n",
       "    <tr>\n",
       "      <th>3</th>\n",
       "      <td>HEC017\\017context2\\017context2_prescr</td>\n",
       "      <td>120</td>\n",
       "      <td>3</td>\n",
       "      <td>[0, 0, 0, 1, 0, 1, 1, 0, 0, 0, 0, 0, 1, 0, 0, ...</td>\n",
       "      <td>0</td>\n",
       "      <td>[0.08402676015159298, 0.05090180060164797, 0.0...</td>\n",
       "      <td>8</td>\n",
       "    </tr>\n",
       "    <tr>\n",
       "      <th>4</th>\n",
       "      <td>HEC017\\017context2\\017context2_prescr</td>\n",
       "      <td>122</td>\n",
       "      <td>2</td>\n",
       "      <td>[0, 1, 7, 0, 0, 0, 1, 0, 0, 0, 0, 0, 0, 0, 0, ...</td>\n",
       "      <td>0</td>\n",
       "      <td>[0.43204238087330993, 0.4127649121444305, 0.39...</td>\n",
       "      <td>2</td>\n",
       "    </tr>\n",
       "    <tr>\n",
       "      <th>...</th>\n",
       "      <td>...</td>\n",
       "      <td>...</td>\n",
       "      <td>...</td>\n",
       "      <td>...</td>\n",
       "      <td>...</td>\n",
       "      <td>...</td>\n",
       "      <td>...</td>\n",
       "    </tr>\n",
       "    <tr>\n",
       "      <th>856</th>\n",
       "      <td>HEC030\\HEC030_story4</td>\n",
       "      <td>107</td>\n",
       "      <td>2</td>\n",
       "      <td>[0, 23, 15, 0, 0, 0, 0, 0, 0, 0, 0, 0, 0, 0, 0...</td>\n",
       "      <td>1</td>\n",
       "      <td>[-0.9319573075572473, -0.6380342844822416, -0....</td>\n",
       "      <td>6</td>\n",
       "    </tr>\n",
       "    <tr>\n",
       "      <th>857</th>\n",
       "      <td>HEC030\\HEC030_story4</td>\n",
       "      <td>95</td>\n",
       "      <td>3</td>\n",
       "      <td>[0, 1, 0, 0, 0, 0, 0, 0, 1, 0, 1, 0, 0, 0, 0, ...</td>\n",
       "      <td>1</td>\n",
       "      <td>[0.6329774241252774, 0.8106414791428904, 0.966...</td>\n",
       "      <td>3</td>\n",
       "    </tr>\n",
       "    <tr>\n",
       "      <th>858</th>\n",
       "      <td>HEC030\\HEC030_story4</td>\n",
       "      <td>98</td>\n",
       "      <td>2</td>\n",
       "      <td>[0, 5, 6, 11, 2, 8, 10, 10, 15, 6, 19, 15, 15,...</td>\n",
       "      <td>1</td>\n",
       "      <td>[0.5850305135481051, 0.5912792052355617, 0.594...</td>\n",
       "      <td>2</td>\n",
       "    </tr>\n",
       "    <tr>\n",
       "      <th>859</th>\n",
       "      <td>HEC032\\HEC032_rsvpscr16</td>\n",
       "      <td>81</td>\n",
       "      <td>2</td>\n",
       "      <td>[0, 0, 0, 36, 1, 0, 2, 4, 0, 0, 1, 0, 0, 1, 0,...</td>\n",
       "      <td>1</td>\n",
       "      <td>[-0.2555185424972891, -0.3367829648401097, -0....</td>\n",
       "      <td>1</td>\n",
       "    </tr>\n",
       "    <tr>\n",
       "      <th>860</th>\n",
       "      <td>HEC032\\HEC032_story1</td>\n",
       "      <td>67</td>\n",
       "      <td>2</td>\n",
       "      <td>[0, 0, 0, 0, 0, 0, 0, 0, 0, 0, 0, 0, 0, 0, 0, ...</td>\n",
       "      <td>1</td>\n",
       "      <td>[0.22602934003342504, 0.2378644402212188, 0.25...</td>\n",
       "      <td>9</td>\n",
       "    </tr>\n",
       "  </tbody>\n",
       "</table>\n",
       "<p>799 rows × 7 columns</p>\n",
       "</div>"
      ],
      "text/plain": [
       "                         PatientExperiment Channel Cluster  \\\n",
       "0    HEC017\\017context2\\017context2_prescr     113       2   \n",
       "1    HEC017\\017context2\\017context2_prescr     113       3   \n",
       "2    HEC017\\017context2\\017context2_prescr     118       3   \n",
       "3    HEC017\\017context2\\017context2_prescr     120       3   \n",
       "4    HEC017\\017context2\\017context2_prescr     122       2   \n",
       "..                                     ...     ...     ...   \n",
       "856                   HEC030\\HEC030_story4     107       2   \n",
       "857                   HEC030\\HEC030_story4      95       3   \n",
       "858                   HEC030\\HEC030_story4      98       2   \n",
       "859                HEC032\\HEC032_rsvpscr16      81       2   \n",
       "860                   HEC032\\HEC032_story1      67       2   \n",
       "\n",
       "                                                   ISI bNoise  \\\n",
       "0    [0, 3, 1, 1, 0, 0, 0, 1, 0, 0, 0, 0, 1, 0, 1, ...      0   \n",
       "1    [0, 0, 0, 0, 0, 1, 0, 1, 0, 0, 0, 0, 0, 0, 0, ...      0   \n",
       "2    [0, 4, 1, 0, 2, 0, 0, 0, 0, 0, 0, 1, 0, 0, 0, ...      0   \n",
       "3    [0, 0, 0, 1, 0, 1, 1, 0, 0, 0, 0, 0, 1, 0, 0, ...      0   \n",
       "4    [0, 1, 7, 0, 0, 0, 1, 0, 0, 0, 0, 0, 0, 0, 0, ...      0   \n",
       "..                                                 ...    ...   \n",
       "856  [0, 23, 15, 0, 0, 0, 0, 0, 0, 0, 0, 0, 0, 0, 0...      1   \n",
       "857  [0, 1, 0, 0, 0, 0, 0, 0, 1, 0, 1, 0, 0, 0, 0, ...      1   \n",
       "858  [0, 5, 6, 11, 2, 8, 10, 10, 15, 6, 19, 15, 15,...      1   \n",
       "859  [0, 0, 0, 36, 1, 0, 2, 4, 0, 0, 1, 0, 0, 1, 0,...      1   \n",
       "860  [0, 0, 0, 0, 0, 0, 0, 0, 0, 0, 0, 0, 0, 0, 0, ...      1   \n",
       "\n",
       "                                                  Mean  ZeroCrossings  \n",
       "0    [0.4148400945586795, 0.41008625177590113, 0.39...              2  \n",
       "1    [0.1465658286378676, 0.13310457368256473, 0.12...              6  \n",
       "2    [0.39807454790263525, 0.3830459993330923, 0.37...              2  \n",
       "3    [0.08402676015159298, 0.05090180060164797, 0.0...              8  \n",
       "4    [0.43204238087330993, 0.4127649121444305, 0.39...              2  \n",
       "..                                                 ...            ...  \n",
       "856  [-0.9319573075572473, -0.6380342844822416, -0....              6  \n",
       "857  [0.6329774241252774, 0.8106414791428904, 0.966...              3  \n",
       "858  [0.5850305135481051, 0.5912792052355617, 0.594...              2  \n",
       "859  [-0.2555185424972891, -0.3367829648401097, -0....              1  \n",
       "860  [0.22602934003342504, 0.2378644402212188, 0.25...              9  \n",
       "\n",
       "[799 rows x 7 columns]"
      ]
     },
     "execution_count": 95,
     "metadata": {},
     "output_type": "execute_result"
    }
   ],
   "source": [
    "New_df = df_train.drop(bad_noises)\n",
    "print( 'Is',all(df_train.loc[bad_noises].bNoise == 1),' that all the elements droped are noise')\n",
    "New_df"
   ]
  },
  {
   "cell_type": "markdown",
   "metadata": {},
   "source": [
    "Repetimos todo el proceso y verificamos que no hayan neuronas encontradas"
   ]
  },
  {
   "cell_type": "code",
   "execution_count": 96,
   "metadata": {},
   "outputs": [
    {
     "name": "stdout",
     "output_type": "stream",
     "text": [
      "799\n",
      "0 neurons were captured\n"
     ]
    }
   ],
   "source": [
    "New_df.reset_index(drop = True)\n",
    "t = New_df[New_df.bNoise == 1].index[0]\n",
    "print(len(New_df))\n",
    "Mean= pd.DataFrame(np.array(New_df.Mean.to_list()))\n",
    "Corr = Mean.T.corr()\n",
    "Corr = Corr.values\n",
    "Noise_corr = Corr[t:,t:]\n",
    "Neu_noi_corr = Corr[t:,:t]\n",
    "Noise_correlated = np.where(Noise_corr>threshold2)\n",
    "Neuron_noise_correlated = np.where(Neu_noi_corr > threshold2)\n",
    "Neuron_noise_correlated\n",
    "Neurons_captured = set(Neuron_noise_correlated[1])\n",
    "print(len(Neurons_captured),'neurons were captured')"
   ]
  },
  {
   "cell_type": "markdown",
   "metadata": {},
   "source": [
    "## Entrenamos"
   ]
  },
  {
   "cell_type": "code",
   "execution_count": 71,
   "metadata": {},
   "outputs": [],
   "source": [
    "Noise_old = New_df[New_df.bNoise == 1]\n",
    "t2 = len(Noise_old)"
   ]
  },
  {
   "cell_type": "markdown",
   "metadata": {},
   "source": [
    "Agrego solamente las neuronas."
   ]
  },
  {
   "cell_type": "code",
   "execution_count": 73,
   "metadata": {},
   "outputs": [
    {
     "name": "stdout",
     "output_type": "stream",
     "text": [
      "685 elements are in the df\n",
      "312 elements are neurons. 373 elements are noises\n"
     ]
    }
   ],
   "source": [
    "Noise = Test[Test.bNoise == 1]\n",
    "Noise.reset_index(inplace = True)\n",
    "Neuron = Test[Test.bNoise == 0]\n",
    "Neuron.reset_index(inplace = True)\n",
    "Mu = Test[Test.bNoise == 2]\n",
    "Mu.reset_index(inplace = True)\n",
    "\n",
    "df = pd.concat([Neuron,Mu,Noise_old],ignore_index = True,sort = False)\n",
    "t = df[df.bNoise == 1].index[0]\n",
    "print(len(df),'elements are in the df')\n",
    "print(len(df[df.bNoise != 1]),'elements are neurons.',len(df[df.bNoise == 1]),'elements are noises')"
   ]
  },
  {
   "cell_type": "code",
   "execution_count": 74,
   "metadata": {},
   "outputs": [],
   "source": [
    "Mean= pd.DataFrame(np.array(df.Mean.to_list()))\n",
    "Corr = Mean.T.corr()\n",
    "Corr = Corr.values"
   ]
  },
  {
   "cell_type": "code",
   "execution_count": 75,
   "metadata": {},
   "outputs": [],
   "source": [
    "Noise_corr = Corr[t:,t:]\n",
    "Neu_noi_corr = Corr[t:,:t]\n",
    "Noise_correlated = np.where(Noise_corr>threshold2)\n",
    "Neuron_noise_correlated = np.where(Neu_noi_corr > threshold2)"
   ]
  },
  {
   "cell_type": "code",
   "execution_count": 76,
   "metadata": {},
   "outputs": [
    {
     "name": "stdout",
     "output_type": "stream",
     "text": [
      "16 neurons were captured by the noise-database\n",
      "this represents 5.128205128205128 % of Neurons\n"
     ]
    }
   ],
   "source": [
    "Neurons_captured = set(Neuron_noise_correlated[1])\n",
    "print(len(Neurons_captured),'neurons were captured by the noise-database')\n",
    "print('this represents',len(Neurons_captured)/(len(df[df.bNoise != 1]))*100,'% of Neurons')"
   ]
  },
  {
   "cell_type": "code",
   "execution_count": 77,
   "metadata": {},
   "outputs": [
    {
     "data": {
      "text/plain": [
       "14"
      ]
     },
     "execution_count": 77,
     "metadata": {},
     "output_type": "execute_result"
    }
   ],
   "source": [
    "bad_noises = list(set(Neuron_noise_correlated[0] + t))\n",
    "len(bad_noises)"
   ]
  },
  {
   "cell_type": "markdown",
   "metadata": {},
   "source": [
    "Cuanto nuevo ruido capturo?"
   ]
  },
  {
   "cell_type": "code",
   "execution_count": 78,
   "metadata": {},
   "outputs": [
    {
     "name": "stdout",
     "output_type": "stream",
     "text": [
      "23.89240506329114 % of noise is found ( 151 noises)\n",
      "76.10759493670885 % of noise is not found ( 481 noises)\n"
     ]
    }
   ],
   "source": [
    "All_noise = pd.concat([Noise_old,Noise],ignore_index=True,sort = False)\n",
    "t2 = len(Noise_old)\n",
    "Mean = pd.DataFrame(np.array(All_noise.Mean.to_list()))\n",
    "Noise_corr = Mean.T.corr().values\n",
    "old_new_corr = Noise_corr[t2:,:t2]\n",
    "noise_found = np.where(old_new_corr>threshold2)[0]+t2\n",
    "noise_not_found = set(np.arange(len(Noise))+t2) - set(noise_found)\n",
    "print(len(set(noise_found))/len(Noise)*100,'% of noise is found (',len(set(noise_found)),'noises)')\n",
    "print(len(noise_not_found)/len(Noise)*100,'% of noise is not found (',len(noise_not_found),'noises)')"
   ]
  },
  {
   "cell_type": "code",
   "execution_count": 79,
   "metadata": {},
   "outputs": [
    {
     "data": {
      "text/plain": [
       "1317"
      ]
     },
     "execution_count": 79,
     "metadata": {},
     "output_type": "execute_result"
    }
   ],
   "source": []
  },
  {
   "cell_type": "code",
   "execution_count": null,
   "metadata": {},
   "outputs": [],
   "source": []
  }
 ],
 "metadata": {
  "kernelspec": {
   "display_name": "Python 3",
   "language": "python",
   "name": "python3"
  },
  "language_info": {
   "codemirror_mode": {
    "name": "ipython",
    "version": 3
   },
   "file_extension": ".py",
   "mimetype": "text/x-python",
   "name": "python",
   "nbconvert_exporter": "python",
   "pygments_lexer": "ipython3",
   "version": "3.7.6"
  }
 },
 "nbformat": 4,
 "nbformat_minor": 4
}
