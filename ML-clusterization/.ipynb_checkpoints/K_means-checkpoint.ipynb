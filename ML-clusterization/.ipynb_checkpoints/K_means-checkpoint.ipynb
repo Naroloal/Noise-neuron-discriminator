{
 "cells": [
  {
   "cell_type": "code",
   "execution_count": 2,
   "metadata": {},
   "outputs": [],
   "source": [
    "import pandas as pd\n",
    "import numpy as np\n",
    "from sklearn.decomposition import PCA\n"
   ]
  },
  {
   "cell_type": "code",
   "execution_count": 17,
   "metadata": {},
   "outputs": [],
   "source": [
    "path = '/home/lorenzo/Principal/Doctorado/Noise-Neuron discriminator/Datos/'\n",
    "data = pd.read_pickle(path + 'PCCIBNMZc')\n",
    "data = data.drop(columns = ['Bulk'])\n",
    "df = data.copy()"
   ]
  },
  {
   "cell_type": "code",
   "execution_count": 18,
   "metadata": {},
   "outputs": [],
   "source": [
    "def Isi_pc(Isi_example,i):\n",
    "    suma = np.sum(Isi_example)\n",
    "    if suma == 0: return 0\n",
    "    else:\n",
    "        return np.sum(Isi_example[:i])/suma\n",
    "i = 5\n",
    "df['ISI_in_band_'+str((i+1)*10)+'Hz'] = data.ISI.apply(Isi_pc,args = (i,))"
   ]
  },
  {
   "cell_type": "code",
   "execution_count": null,
   "metadata": {},
   "outputs": [],
   "source": [
    "df = pd.DataFrame(np.array(Neurons['Mean'].tolist()))\n",
    "pca = PCA(2)\n",
    "trans_pca = pca.fit_transform(df)\n",
    "kmeans = KMeans(n_clusters=4, random_state=0).fit(trans_pca)\n",
    "se = pd.DataFrame(list(trans_pca),columns = list('xy'))\n",
    "se['label_pca'] = kmeans.labels_\n",
    "color = ['r','b','k']\n",
    "se.plot.scatter(x = 'x',y = 'y',c= 'label_pca')"
   ]
  },
  {
   "cell_type": "code",
   "execution_count": 20,
   "metadata": {},
   "outputs": [
    {
     "data": {
      "text/plain": [
       "Index(['PatientExperiment', 'Channel', 'Cluster', 'ISI', 'bNoise', 'Mean',\n",
       "       'ZeroCrossings', 'ISI_in_band_60Hz'],\n",
       "      dtype='object')"
      ]
     },
     "execution_count": 20,
     "metadata": {},
     "output_type": "execute_result"
    }
   ],
   "source": [
    "df.columns"
   ]
  },
  {
   "cell_type": "code",
   "execution_count": null,
   "metadata": {},
   "outputs": [],
   "source": []
  }
 ],
 "metadata": {
  "kernelspec": {
   "display_name": "Python 3",
   "language": "python",
   "name": "python3"
  },
  "language_info": {
   "codemirror_mode": {
    "name": "ipython",
    "version": 3
   },
   "file_extension": ".py",
   "mimetype": "text/x-python",
   "name": "python",
   "nbconvert_exporter": "python",
   "pygments_lexer": "ipython3",
   "version": "3.7.7"
  }
 },
 "nbformat": 4,
 "nbformat_minor": 4
}
